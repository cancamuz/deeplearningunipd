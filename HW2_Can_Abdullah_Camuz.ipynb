{
  "cells": [
    {
      "cell_type": "markdown",
      "metadata": {
        "id": "raUKrVPW0SO1"
      },
      "source": [
        "#**Deep Learning Homework 2: *Optimize and Train Deep Models***\n",
        "## **Can Abdullah Camuz**\n",
        "### MSc Computer Science, Data Science, Cybersecurity @UniPD\n",
        "### 2nd semester - 6 ECTS\n",
        "### Prof. Nicolò Navarin & Prof. Alessandro Sperduti\n",
        "---"
      ]
    },
    {
      "cell_type": "markdown",
      "metadata": {
        "id": "QUc9frYnVBI_"
      },
      "source": [
        "In this homework, we will explore how to develop a simple Deep Neural Network for a classification problem. We will explore two common libraries: TensorFlow and Keras.\n",
        "Then we will explore how to face a well known problem that is common to encounter during the training phase: the Overfitting.\n",
        "Finally, we will study how to perform a fair model selection.\n",
        "Hint: Before starting the exercise take a look at how Tensorflow and Keras are designed.  https://keras.io/"
      ]
    },
    {
      "cell_type": "markdown",
      "metadata": {
        "id": "e-Nc7mFSVEiU"
      },
      "source": [
        "## Exercise 2.1: Text Classficiation with Tensorflow and Keras\n",
        "\n",
        "In this first exercise we will develop a 3 layers Neural Network to perfrom classification.\n",
        "\n",
        "Let's start importing the libraries we will need and setting a couple of environmental variables.\n"
      ]
    },
    {
      "cell_type": "code",
      "execution_count": null,
      "metadata": {
        "id": "bWn9FzneVqJo"
      },
      "outputs": [],
      "source": [
        "import matplotlib as mpl\n",
        "import matplotlib.pyplot as plt\n",
        "import numpy as np\n",
        "import os\n",
        "import pandas as pd\n",
        "import sklearn\n",
        "import sys\n",
        "import tensorflow as tf\n",
        "from tensorflow import keras  # tf.keras\n",
        "import tensorflow_datasets as tfds\n",
        "import time\n",
        "\n",
        "import logging\n",
        "logging.disable(logging.WARNING)\n",
        "os.environ[\"TF_CPP_MIN_LOG_LEVEL\"] = \"3\" \n",
        "\n",
        "tf.random.set_seed(42)\n",
        "# os.environ['TF_DETERMINISTIC_OPS']='1'"
      ]
    },
    {
      "cell_type": "markdown",
      "metadata": {
        "id": "LT2HMYDEXcx0"
      },
      "source": [
        "### Load Data: AG News Subset\n",
        "\n",
        "In this HW, we use the AG News Subset that is available in Tensorflow Dataset. The AG's news topic classification dataset is constructed by choosing the 4 largest topic classes from a larger news corups. The total number of training samples is 120,000 and testing 7,600. Each class contains 30,000 training samples and 1,900 testing samples. Each sample contains both the title and an excerpt of the article, but in this exercise we will use only the excerpt as input.\n",
        "\n",
        "We will split the training set into two 90%-10% splits in order to have a validation set."
      ]
    },
    {
      "cell_type": "code",
      "execution_count": null,
      "metadata": {
        "id": "d8xZASzs26zD",
        "colab": {
          "base_uri": "https://localhost:8080/",
          "height": 305,
          "referenced_widgets": [
            "e6e68c245f1f4eacaf936729192c0834",
            "96540363178643f887c40f523dec275f",
            "0869ac2d73c34a26947ad71c85b88d46",
            "0486aa65c1824d3a941de101046b8f2b",
            "ad9b8f721f324421b1651011355a5765",
            "79ca54531d2846ae8fd87879f774f6e5",
            "b59e5ad97a434e5e8bc69e58754e1b62",
            "12fdc99012f24e59874582dcaca44884",
            "b6a603b534de4e67b83987c9ac26ea9b",
            "d386f814db574d36933c2eebe911d2df",
            "6ecd6d3b92594f91a4d36db41bb42d11",
            "cca9c90d4324483cb50134a2ff5b0e18",
            "12bcf399570d47b5830d3a5d7c4c78ec",
            "8dd5f4cc29824082883e606134c5b1f5",
            "f3183d920c9d4f10b2d05ec06057c0a1",
            "d69e9ee0ba7e4b10b7bfc42b073cdd7f",
            "259ba8bec8b94b1b84437f6aa474cb2a",
            "3c9c6f8eaafb47b9b78b6923643b1679",
            "3e4484cf94be46109708436569404468",
            "086781a3d45f443697a0d654f9a50fe6",
            "880306e7ec394318a86b91ad892b71e0",
            "57c6e4aedf6d4720a71951eeacd54a90",
            "c9b9effad51143f9a54882893cdfcbdb",
            "009e241ccdb94915b7b4f1f8fa6231cb",
            "20dc801324884e9c8592a64182b3dc85",
            "cb17ca40ea1d4fca94eb10783fee7578",
            "1a44e987293e454abc25233c4c153e58",
            "fad84c40d8ad48a889f668e6bd93d5cb",
            "f5a1a45493e9441e8c6eedf826f36ef8",
            "42d4e689d1ea49988e6af207fa0261ba",
            "dd27142790734c82bddc86f7d8b5595b",
            "2b1c8c78b0ac49a89b32a5b3b7aba568",
            "819765ec251f48e2a0dbddbe94ccef86",
            "629c755b9f2b481991804dcef5ca098a",
            "8701917f6cc143b8a4e73761730b2f58",
            "8f325b4ab57e48dc85b069d004feb186",
            "88635a70ceaf42d6ba516953a9c927b1",
            "5297b7eb80fc4acfa19771bb666dfeec",
            "1ee624ee57c94c6b84307bd8e6d7709a",
            "ea6f31f68d11458fa3128d6321679642",
            "8457bc55cc5c481cade496367da5b68b",
            "a466807985ae435da517003390480cb7",
            "120ed6b28424472a8574df83b3610074",
            "8440395da095462096e58ba60844744b",
            "fc50057086c7455bb7615836c898a9ec",
            "48ec04a748eb434a911a3f4864f6e94c",
            "6b166de458a441e39c7c2bbb559782bf",
            "daee00ebf12446bf96a3a1181ba201ac",
            "e477405085b24e41aaac47ff163b89ba",
            "7217b696a1684957b9d6e259775a0215",
            "99b71cf98290489ea31a90614006aa19",
            "b6aec73ebfa54e0bab2f15c21447bd34",
            "4e7ef3b33adc40acbb38351225da86ce",
            "a6184c389e844464a698ee25982e4d00",
            "5498491f2c664c849543d68c7c138ad6",
            "f2c50128e0af4e3aa76584ff2d834b06",
            "0b6c0a5a33884ca6a551bb3d9175412a",
            "bf29c9818e644ae2854e8c10deeebfc5",
            "2c370d89b7bd433088bb9af816ea32e3",
            "060915e9c35f46e0b80a06485c33e591",
            "b0853464d7934aaca94a5ed535351a86",
            "c4ec75fa7ac74300aca329e1a645e4b9",
            "d7c4a7e59896452aaab35209eebec733",
            "705f0cb970214bcd8326a2a4bbaf6108",
            "7dafa3ac796547ada826f1abebc809c8",
            "32d7c6cdd3384dbd997a928c132599d8",
            "9cbb68750e22406faf3800e1512098ac",
            "3495478f8c3f44d6846d256a13f3b274",
            "dfaa6b7ae875497c80a1ee121197517f",
            "ec7c48fc4da3474bae008fcdc35cc4ac",
            "6467866a344e4cc780dc99f5a155955e",
            "fda2da1884ce46fd99067fa6f1f6cbf3",
            "7c14d2417c714665b9a0e654ecbfbd19",
            "32c33cb3e9f5477d952bb76c84afc379",
            "375b773f32fc453ba7f2a65250ced7aa",
            "64de9d0e7d474b96a2fa9951b68320c5",
            "1390f0d16d62474681f4ad6b87f3dd33"
          ]
        },
        "outputId": "e0837291-7f24-49e5-bf6a-c4a12fb4ab2c"
      },
      "outputs": [
        {
          "output_type": "stream",
          "name": "stdout",
          "text": [
            "\u001b[1mDownloading and preparing dataset ag_news_subset/1.0.0 (download: 11.24 MiB, generated: 35.79 MiB, total: 47.03 MiB) to /root/tensorflow_datasets/ag_news_subset/1.0.0...\u001b[0m\n"
          ]
        },
        {
          "output_type": "display_data",
          "data": {
            "text/plain": [
              "Dl Completed...: 0 url [00:00, ? url/s]"
            ],
            "application/vnd.jupyter.widget-view+json": {
              "version_major": 2,
              "version_minor": 0,
              "model_id": "e6e68c245f1f4eacaf936729192c0834"
            }
          },
          "metadata": {}
        },
        {
          "output_type": "display_data",
          "data": {
            "text/plain": [
              "Dl Size...: 0 MiB [00:00, ? MiB/s]"
            ],
            "application/vnd.jupyter.widget-view+json": {
              "version_major": 2,
              "version_minor": 0,
              "model_id": "cca9c90d4324483cb50134a2ff5b0e18"
            }
          },
          "metadata": {}
        },
        {
          "output_type": "display_data",
          "data": {
            "text/plain": [
              "Extraction completed...: 0 file [00:00, ? file/s]"
            ],
            "application/vnd.jupyter.widget-view+json": {
              "version_major": 2,
              "version_minor": 0,
              "model_id": "c9b9effad51143f9a54882893cdfcbdb"
            }
          },
          "metadata": {}
        },
        {
          "output_type": "stream",
          "name": "stdout",
          "text": [
            "\n",
            "\n",
            "\n"
          ]
        },
        {
          "output_type": "display_data",
          "data": {
            "text/plain": [
              "0 examples [00:00, ? examples/s]"
            ],
            "application/vnd.jupyter.widget-view+json": {
              "version_major": 2,
              "version_minor": 0,
              "model_id": "629c755b9f2b481991804dcef5ca098a"
            }
          },
          "metadata": {}
        },
        {
          "output_type": "stream",
          "name": "stdout",
          "text": [
            "Shuffling and writing examples to /root/tensorflow_datasets/ag_news_subset/1.0.0.incompleteFL877S/ag_news_subset-train.tfrecord\n"
          ]
        },
        {
          "output_type": "display_data",
          "data": {
            "text/plain": [
              "  0%|          | 0/120000 [00:00<?, ? examples/s]"
            ],
            "application/vnd.jupyter.widget-view+json": {
              "version_major": 2,
              "version_minor": 0,
              "model_id": "fc50057086c7455bb7615836c898a9ec"
            }
          },
          "metadata": {}
        },
        {
          "output_type": "display_data",
          "data": {
            "text/plain": [
              "0 examples [00:00, ? examples/s]"
            ],
            "application/vnd.jupyter.widget-view+json": {
              "version_major": 2,
              "version_minor": 0,
              "model_id": "f2c50128e0af4e3aa76584ff2d834b06"
            }
          },
          "metadata": {}
        },
        {
          "output_type": "stream",
          "name": "stdout",
          "text": [
            "Shuffling and writing examples to /root/tensorflow_datasets/ag_news_subset/1.0.0.incompleteFL877S/ag_news_subset-test.tfrecord\n"
          ]
        },
        {
          "output_type": "display_data",
          "data": {
            "text/plain": [
              "  0%|          | 0/7600 [00:00<?, ? examples/s]"
            ],
            "application/vnd.jupyter.widget-view+json": {
              "version_major": 2,
              "version_minor": 0,
              "model_id": "9cbb68750e22406faf3800e1512098ac"
            }
          },
          "metadata": {}
        },
        {
          "output_type": "stream",
          "name": "stdout",
          "text": [
            "\u001b[1mDataset ag_news_subset downloaded and prepared to /root/tensorflow_datasets/ag_news_subset/1.0.0. Subsequent calls will reuse this data.\u001b[0m\n"
          ]
        }
      ],
      "source": [
        "### NOTE ### \n",
        "# running this cell might yield download-related errors.\n",
        "# just repeating the execution a couple of times should solve the error.\n",
        "\n",
        "train_ds, valid_ds, test_ds = tfds.load('ag_news_subset',\n",
        "                                        as_supervised=True, # return a set of (text, label) tuples \n",
        "                                        split=['train[:90%]', 'train[-10%:]', 'test'],\n",
        "                                        batch_size=-1)  \n",
        "                                        # ^ using batch_size=-1 returns Tensors instead of Dataset objects"
      ]
    },
    {
      "cell_type": "code",
      "execution_count": null,
      "metadata": {
        "id": "BYkXCTv3NrvC"
      },
      "outputs": [],
      "source": [
        "# Tensors have two elements, data and labels; let's split them\n",
        "# so we can transform the data\n",
        "X_train, y_train = train_ds\n",
        "X_valid, y_valid = valid_ds\n",
        "X_test, y_test = test_ds"
      ]
    },
    {
      "cell_type": "markdown",
      "metadata": {
        "id": "8prUBtqq8JW7"
      },
      "source": [
        "The AG News Subset dataset consists in news articles, each one composed by a sequence of words. In order to encode each article in a single tensor with a fixed number of elements, we will use multi-hot encoding. For testing purposes, we will only consider the first 10,000  most common words. Multi-hot-encoding our lists means turning them into vectors of 0s and 1s. Concretely, this would mean for instance turning the sequence [3, 5] into a 10,000-dimensional vector that would be all-zeros except for indices 3 and 5, which would be ones. The obtained input representation indicates which words are present (at least one time) in the sentence."
      ]
    },
    {
      "cell_type": "code",
      "execution_count": null,
      "metadata": {
        "id": "Brt087tDIDpe"
      },
      "outputs": [],
      "source": [
        "num_words = 1000\n",
        "vectorize_layer = tf.keras.layers.TextVectorization(\n",
        " max_tokens=num_words,\n",
        " standardize=\"lower_and_strip_punctuation\",\n",
        " split=\"whitespace\",\n",
        " output_mode='multi_hot',\n",
        " pad_to_max_tokens=True)\n",
        "\n",
        "vectorize_layer.adapt(X_train)"
      ]
    },
    {
      "cell_type": "code",
      "execution_count": null,
      "metadata": {
        "id": "seuFLH2lNiDT"
      },
      "outputs": [],
      "source": [
        "X_train = vectorize_layer(X_train)\n",
        "X_valid = vectorize_layer(X_valid)\n",
        "X_test  = vectorize_layer(X_test)"
      ]
    },
    {
      "cell_type": "markdown",
      "metadata": {
        "id": "jGUg8TexZMNf"
      },
      "source": [
        "### Define the model:\n",
        "\n",
        "Let's build a Sequential model (`keras.models.Sequential`) and add four layers to it by calling its `add()` method:\n",
        "\n",
        "\n",
        "*   a input layer (`tf.keras.Input`) that is the first layer in your model. With this layer you should specify the `input_shape` argument, leaving out the batch size: `(num_words,)`;\n",
        "*  a Dense layer (`keras.layers.Dense`) with 16 neurons, and the \"relu\" activation function;\n",
        "* another Dense layer with 16 neurons, also with the \"relu\" activation function;\n",
        "* a final Dense layer with 4 output neurons, and with the \"softmax\" activation (since we considering a classification task with four classes)."
      ]
    },
    {
      "cell_type": "code",
      "execution_count": null,
      "metadata": {
        "id": "OaoEISyaZL56"
      },
      "outputs": [],
      "source": [
        "model = keras.models.Sequential()\n",
        "model.add(tf.keras.Input(shape=(num_words,)))\n",
        "model.add(keras.layers.Dense(16, activation=\"relu\"))\n",
        "model.add(keras.layers.Dense(16, activation=\"relu\"))\n",
        "model.add(keras.layers.Dense(4, activation=\"softmax\"))"
      ]
    },
    {
      "cell_type": "markdown",
      "metadata": {
        "id": "fYfxUOQVZljh"
      },
      "source": [
        "Call the model's `summary()` method to check if the model has been built correctly. Also, try using `keras.utils.plot_model()` to save an image of your model's architecture."
      ]
    },
    {
      "cell_type": "code",
      "execution_count": null,
      "metadata": {
        "id": "IpGkQl5dZoWq",
        "colab": {
          "base_uri": "https://localhost:8080/"
        },
        "outputId": "63906361-44b2-4557-bd0c-2260d0f3093b"
      },
      "outputs": [
        {
          "output_type": "stream",
          "name": "stdout",
          "text": [
            "Model: \"sequential\"\n",
            "_________________________________________________________________\n",
            " Layer (type)                Output Shape              Param #   \n",
            "=================================================================\n",
            " dense (Dense)               (None, 16)                16016     \n",
            "                                                                 \n",
            " dense_1 (Dense)             (None, 16)                272       \n",
            "                                                                 \n",
            " dense_2 (Dense)             (None, 4)                 68        \n",
            "                                                                 \n",
            "=================================================================\n",
            "Total params: 16,356\n",
            "Trainable params: 16,356\n",
            "Non-trainable params: 0\n",
            "_________________________________________________________________\n"
          ]
        }
      ],
      "source": [
        "model.summary()"
      ]
    },
    {
      "cell_type": "code",
      "execution_count": null,
      "metadata": {
        "id": "b1NbkrXRZwOA",
        "colab": {
          "base_uri": "https://localhost:8080/",
          "height": 422
        },
        "outputId": "1cd56d62-f6c7-4c8f-a608-2992252c115b"
      },
      "outputs": [
        {
          "output_type": "execute_result",
          "data": {
            "text/plain": [
              "<IPython.core.display.Image object>"
            ],
            "image/png": "[encoded data removed]"
          },
          "metadata": {},
          "execution_count": 11
        }
      ],
      "source": [
        "keras.utils.plot_model(model, \"my_model.png\", show_shapes=True)"
      ]
    },
    {
      "cell_type": "markdown",
      "metadata": {
        "id": "Mc3xzuA-33WH"
      },
      "source": [
        "As you can see, the first dimension of each layer is not defined (`None`), indeed this dimension in each layer is variable and depends on the batch size."
      ]
    },
    {
      "cell_type": "markdown",
      "metadata": {
        "id": "6FAjFixuHSA_"
      },
      "source": [
        "Instaed of using `add()` method it is also possibile to define the model using the following syntax"
      ]
    },
    {
      "cell_type": "code",
      "execution_count": null,
      "metadata": {
        "id": "yOhr57M9GPHy",
        "colab": {
          "base_uri": "https://localhost:8080/",
          "height": 696
        },
        "outputId": "0f26b841-af11-4f0f-caa2-1131c510c018"
      },
      "outputs": [
        {
          "output_type": "stream",
          "name": "stdout",
          "text": [
            "Model: \"sequential_1\"\n",
            "_________________________________________________________________\n",
            " Layer (type)                Output Shape              Param #   \n",
            "=================================================================\n",
            " dense_3 (Dense)             (None, 16)                16016     \n",
            "                                                                 \n",
            " dense_4 (Dense)             (None, 16)                272       \n",
            "                                                                 \n",
            " dense_5 (Dense)             (None, 4)                 68        \n",
            "                                                                 \n",
            "=================================================================\n",
            "Total params: 16,356\n",
            "Trainable params: 16,356\n",
            "Non-trainable params: 0\n",
            "_________________________________________________________________\n"
          ]
        },
        {
          "output_type": "execute_result",
          "data": {
            "text/plain": [
              "<IPython.core.display.Image object>"
            ],
            "image/png": "[encoded data removed]"
          },
          "metadata": {},
          "execution_count": 12
        }
      ],
      "source": [
        "model = keras.models.Sequential([\n",
        "    tf.keras.Input(shape=(num_words,)),\n",
        "    keras.layers.Dense(16, activation=\"relu\"),\n",
        "    keras.layers.Dense(16, activation=\"relu\"),\n",
        "    keras.layers.Dense(4, activation=\"softmax\")\n",
        "])\n",
        "model.summary()\n",
        "keras.utils.plot_model(model, \"my_model.png\", show_shapes=True)"
      ]
    },
    {
      "cell_type": "markdown",
      "metadata": {
        "id": "2ySdJmzxaSuz"
      },
      "source": [
        "### Optimize the model:\n",
        "\n",
        "After the model has been created, you must call its `compile()` method to specify the loss function and the optimizer to use.\n",
        "\n",
        "Since the model performs a classification task, and we have labels encoded as integers, we use the sparse categorical cross-entropy loss. As optimizer we use Adam.\n",
        "\n",
        "Moreover, you can optionally specify a list of additional metrics that should be measured during training. In this case we specify `metrics=[\"accuracy\"]`."
      ]
    },
    {
      "cell_type": "code",
      "execution_count": null,
      "metadata": {
        "id": "x3bbsY3uaeh5"
      },
      "outputs": [],
      "source": [
        "model.compile(loss=\"sparse_categorical_crossentropy\",\n",
        "              optimizer=keras.optimizers.Adam(learning_rate=1e-4),\n",
        "              metrics=[\"accuracy\"])"
      ]
    },
    {
      "cell_type": "markdown",
      "metadata": {
        "id": "NB9SV0MpaeTg"
      },
      "source": [
        "Now our model is ready to be trained. Call its `fit()` method, passing to it the input features (`X_train`) and the target classes (`y_train`). Set the number of epochs to 20. \n",
        "In order to validate our model we will also pass the validation data by setting `validation_data=(X_valid, y_valid)`. Keras will compute the loss and the additional metrics (the accuracy in this case) on the validation set at the end of each epoch. If the loss on the training set is much lower than the one on the validation set, your model is probably overfitting the training set. Note: the `fit()` method will return a `History` object containing training stats."
      ]
    },
    {
      "cell_type": "code",
      "execution_count": null,
      "metadata": {
        "id": "5whx-LU3aoKn",
        "colab": {
          "base_uri": "https://localhost:8080/"
        },
        "outputId": "ec77c0df-ae2c-4beb-e77a-5ea2b2f044b8"
      },
      "outputs": [
        {
          "output_type": "stream",
          "name": "stdout",
          "text": [
            "Epoch 1/20\n",
            "3375/3375 [==============================] - 13s 3ms/step - loss: 0.8503 - accuracy: 0.6761 - val_loss: 0.5107 - val_accuracy: 0.8314\n",
            "Epoch 2/20\n",
            "3375/3375 [==============================] - 9s 3ms/step - loss: 0.4583 - accuracy: 0.8449 - val_loss: 0.4452 - val_accuracy: 0.8475\n",
            "Epoch 3/20\n",
            "3375/3375 [==============================] - 8s 2ms/step - loss: 0.4222 - accuracy: 0.8546 - val_loss: 0.4318 - val_accuracy: 0.8507\n",
            "Epoch 4/20\n",
            "3375/3375 [==============================] - 8s 2ms/step - loss: 0.4089 - accuracy: 0.8573 - val_loss: 0.4241 - val_accuracy: 0.8509\n",
            "Epoch 5/20\n",
            "3375/3375 [==============================] - 8s 2ms/step - loss: 0.4012 - accuracy: 0.8590 - val_loss: 0.4210 - val_accuracy: 0.8525\n",
            "Epoch 6/20\n",
            "3375/3375 [==============================] - 8s 2ms/step - loss: 0.3959 - accuracy: 0.8601 - val_loss: 0.4175 - val_accuracy: 0.8531\n",
            "Epoch 7/20\n",
            "3375/3375 [==============================] - 8s 2ms/step - loss: 0.3917 - accuracy: 0.8615 - val_loss: 0.4149 - val_accuracy: 0.8535\n",
            "Epoch 8/20\n",
            "3375/3375 [==============================] - 8s 2ms/step - loss: 0.3882 - accuracy: 0.8617 - val_loss: 0.4132 - val_accuracy: 0.8550\n",
            "Epoch 9/20\n",
            "3375/3375 [==============================] - 8s 3ms/step - loss: 0.3851 - accuracy: 0.8627 - val_loss: 0.4109 - val_accuracy: 0.8540\n",
            "Epoch 10/20\n",
            "3375/3375 [==============================] - 8s 2ms/step - loss: 0.3825 - accuracy: 0.8629 - val_loss: 0.4096 - val_accuracy: 0.8534\n",
            "Epoch 11/20\n",
            "3375/3375 [==============================] - 8s 2ms/step - loss: 0.3799 - accuracy: 0.8637 - val_loss: 0.4081 - val_accuracy: 0.8539\n",
            "Epoch 12/20\n",
            "3375/3375 [==============================] - 8s 2ms/step - loss: 0.3775 - accuracy: 0.8638 - val_loss: 0.4064 - val_accuracy: 0.8543\n",
            "Epoch 13/20\n",
            "3375/3375 [==============================] - 8s 2ms/step - loss: 0.3753 - accuracy: 0.8645 - val_loss: 0.4051 - val_accuracy: 0.8538\n",
            "Epoch 14/20\n",
            "3375/3375 [==============================] - 8s 2ms/step - loss: 0.3731 - accuracy: 0.8649 - val_loss: 0.4053 - val_accuracy: 0.8543\n",
            "Epoch 15/20\n",
            "3375/3375 [==============================] - 8s 2ms/step - loss: 0.3709 - accuracy: 0.8660 - val_loss: 0.4035 - val_accuracy: 0.8554\n",
            "Epoch 16/20\n",
            "3375/3375 [==============================] - 8s 2ms/step - loss: 0.3689 - accuracy: 0.8661 - val_loss: 0.4027 - val_accuracy: 0.8553\n",
            "Epoch 17/20\n",
            "3375/3375 [==============================] - 8s 2ms/step - loss: 0.3669 - accuracy: 0.8668 - val_loss: 0.4011 - val_accuracy: 0.8564\n",
            "Epoch 18/20\n",
            "3375/3375 [==============================] - 8s 2ms/step - loss: 0.3649 - accuracy: 0.8672 - val_loss: 0.4004 - val_accuracy: 0.8555\n",
            "Epoch 19/20\n",
            "3375/3375 [==============================] - 8s 2ms/step - loss: 0.3630 - accuracy: 0.8679 - val_loss: 0.3992 - val_accuracy: 0.8559\n",
            "Epoch 20/20\n",
            "3375/3375 [==============================] - 8s 2ms/step - loss: 0.3612 - accuracy: 0.8684 - val_loss: 0.3993 - val_accuracy: 0.8562\n"
          ]
        }
      ],
      "source": [
        "history = model.fit(X_train, y_train, epochs=20,\n",
        "                    validation_data=(X_valid, y_valid))"
      ]
    },
    {
      "cell_type": "markdown",
      "metadata": {
        "id": "EPxiw8iCADr-"
      },
      "source": [
        "Let's plot the loss and the accuracy trends on both training and validation sets. We define the `plot_learning_acc_and_loss` function because we will reuse it in the next steps."
      ]
    },
    {
      "cell_type": "code",
      "execution_count": null,
      "metadata": {
        "id": "AJg-F7mUa7st",
        "colab": {
          "base_uri": "https://localhost:8080/",
          "height": 320
        },
        "outputId": "5084b166-25f1-4f55-fe47-d3c3304ae532"
      },
      "outputs": [
        {
          "output_type": "display_data",
          "data": {
            "text/plain": [
              "<Figure size 576x360 with 1 Axes>"
            ],
            "image/png": "[encoded data removed]"
          },
          "metadata": {
            "needs_background": "light"
          }
        }
      ],
      "source": [
        "def plot_learning_acc_and_loss(history):\n",
        "    pd.DataFrame(history.history).plot(figsize=(8, 5))\n",
        "    plt.grid(True)\n",
        "    plt.show()\n",
        "plot_learning_acc_and_loss(history)"
      ]
    },
    {
      "cell_type": "markdown",
      "metadata": {
        "id": "9O3-sLmxansJ"
      },
      "source": [
        "### [TO COMPLETE] Evaluate the model:\n",
        "\n",
        "Now, our model has been optimized on the training set, and as you can see the performance on the validation set in quite similar (so it does not overfit the training data). Let's now evaluate the performance of our model using the test set."
      ]
    },
    {
      "cell_type": "code",
      "execution_count": null,
      "metadata": {
        "id": "q-ZvJEcObdyB",
        "colab": {
          "base_uri": "https://localhost:8080/"
        },
        "outputId": "e7ba2a7f-d67f-4f3b-e123-e0c9fe78376c"
      },
      "outputs": [
        {
          "output_type": "stream",
          "name": "stdout",
          "text": [
            "238/238 [==============================] - 1s 3ms/step - loss: 0.4092 - accuracy: 0.8516\n"
          ]
        },
        {
          "output_type": "execute_result",
          "data": {
            "text/plain": [
              "[0.40924084186553955, 0.851578950881958]"
            ]
          },
          "metadata": {},
          "execution_count": 16
        }
      ],
      "source": [
        "model.evaluate(X_test, y_test)"
      ]
    },
    {
      "cell_type": "markdown",
      "metadata": {
        "id": "KTSxlnwrII-n"
      },
      "source": [
        "# [TO COMPLETE] \n",
        "Explain why it is important to use test and validation, and why it is important to evaluate the model on the test set instead of the validation set. Finally, explain what is the usefulness of the validation set. Insert the discussion in this cell.\n",
        "\n",
        "* Both test set and validation set are used for quality / performans evaluation. Validation test is splitted from the training set and we can use it over and over while optimizing our model (either adjusting our hyperparameters or even choosing the right model for the problem) So, validation set is extremely important because it is what we have beforehand to build an accurate model (we do not usually have the test set in real life, it is a set used only to evaluate the performance of a fully set model). Test set normally comes after we set the model (determine the hyperparameters) with the help of validation set, and we want the get the maximum accuracy on the test set, more than we want on the validation and training sets. This is because it provides an unbiased evaluation of our final model. So, the error on the test set provides an unbiased estimate of the generalization error (assuming the test set represents the population well).\n",
        "\n",
        "\n",
        "* *Note: the answer order is not respective to the order of questions.*"
      ]
    },
    {
      "cell_type": "markdown",
      "metadata": {
        "id": "aeGlzKe864Gq"
      },
      "source": [
        "## [TO COMPLETE] Exercise 2.2: Overfiting\n",
        "\n",
        "A common problem that occurs when you train a deep neural network is overfittig. Overfitting occurs when you achieve a good fit of your model on the training data, while it does not generalize well on new, unseen data. In other words, the model learned patterns specific to the training data, which are irrelevant in other data.\n",
        "As we have seen in the previous exercise, our model does not overfit the training data. In this exercise, we try to modify the training parameters in order to have a model that overfits.\n",
        "Overfitting can have many causes and usually is a combination of some of them, for instance: too many parameters/ layers, too few training samples, wrong learning rate (usualy too high), etc..\n",
        "\n",
        "[TO COMPLETE] In the next cell define a new model (similar to the previuos one) that overfits the training data; then plot the trend of the loss in training and validation set."
      ]
    },
    {
      "cell_type": "code",
      "execution_count": null,
      "metadata": {
        "id": "T2B2DFEC8f88",
        "colab": {
          "base_uri": "https://localhost:8080/"
        },
        "outputId": "e2cba25d-857c-4ee1-d3c6-43ab1da7c4bf"
      },
      "outputs": [
        {
          "output_type": "stream",
          "name": "stdout",
          "text": [
            "Epoch 1/30\n",
            "3375/3375 [==============================] - 9s 3ms/step - loss: 0.5342 - accuracy: 0.8109 - val_loss: 0.4233 - val_accuracy: 0.8506\n",
            "Epoch 2/30\n",
            "3375/3375 [==============================] - 8s 2ms/step - loss: 0.4012 - accuracy: 0.8565 - val_loss: 0.4122 - val_accuracy: 0.8524\n",
            "Epoch 3/30\n",
            "3375/3375 [==============================] - 8s 2ms/step - loss: 0.3841 - accuracy: 0.8620 - val_loss: 0.4039 - val_accuracy: 0.8531\n",
            "Epoch 4/30\n",
            "3375/3375 [==============================] - 8s 2ms/step - loss: 0.3694 - accuracy: 0.8660 - val_loss: 0.3959 - val_accuracy: 0.8558\n",
            "Epoch 5/30\n",
            "3375/3375 [==============================] - 8s 2ms/step - loss: 0.3554 - accuracy: 0.8715 - val_loss: 0.3912 - val_accuracy: 0.8578\n",
            "Epoch 6/30\n",
            "3375/3375 [==============================] - 8s 2ms/step - loss: 0.3416 - accuracy: 0.8755 - val_loss: 0.3905 - val_accuracy: 0.8575\n",
            "Epoch 7/30\n",
            "3375/3375 [==============================] - 8s 2ms/step - loss: 0.3277 - accuracy: 0.8806 - val_loss: 0.3924 - val_accuracy: 0.8573\n",
            "Epoch 8/30\n",
            "3375/3375 [==============================] - 8s 2ms/step - loss: 0.3138 - accuracy: 0.8858 - val_loss: 0.3874 - val_accuracy: 0.8597\n",
            "Epoch 9/30\n",
            "3375/3375 [==============================] - 8s 2ms/step - loss: 0.2998 - accuracy: 0.8917 - val_loss: 0.3924 - val_accuracy: 0.8591\n",
            "Epoch 10/30\n",
            "3375/3375 [==============================] - 8s 2ms/step - loss: 0.2859 - accuracy: 0.8961 - val_loss: 0.3957 - val_accuracy: 0.8601\n",
            "Epoch 11/30\n",
            "3375/3375 [==============================] - 8s 2ms/step - loss: 0.2720 - accuracy: 0.9026 - val_loss: 0.3980 - val_accuracy: 0.8601\n",
            "Epoch 12/30\n",
            "3375/3375 [==============================] - 8s 2ms/step - loss: 0.2580 - accuracy: 0.9074 - val_loss: 0.4036 - val_accuracy: 0.8592\n",
            "Epoch 13/30\n",
            "3375/3375 [==============================] - 8s 2ms/step - loss: 0.2443 - accuracy: 0.9130 - val_loss: 0.4161 - val_accuracy: 0.8560\n",
            "Epoch 14/30\n",
            "3375/3375 [==============================] - 8s 2ms/step - loss: 0.2310 - accuracy: 0.9182 - val_loss: 0.4261 - val_accuracy: 0.8574\n",
            "Epoch 15/30\n",
            "3375/3375 [==============================] - 8s 2ms/step - loss: 0.2182 - accuracy: 0.9236 - val_loss: 0.4316 - val_accuracy: 0.8568\n",
            "Epoch 16/30\n",
            "3375/3375 [==============================] - 8s 2ms/step - loss: 0.2057 - accuracy: 0.9281 - val_loss: 0.4451 - val_accuracy: 0.8548\n",
            "Epoch 17/30\n",
            "3375/3375 [==============================] - 8s 2ms/step - loss: 0.1936 - accuracy: 0.9331 - val_loss: 0.4643 - val_accuracy: 0.8538\n",
            "Epoch 18/30\n",
            "3375/3375 [==============================] - 8s 2ms/step - loss: 0.1817 - accuracy: 0.9368 - val_loss: 0.4727 - val_accuracy: 0.8541\n",
            "Epoch 19/30\n",
            "3375/3375 [==============================] - 8s 2ms/step - loss: 0.1713 - accuracy: 0.9411 - val_loss: 0.4892 - val_accuracy: 0.8534\n",
            "Epoch 20/30\n",
            "3375/3375 [==============================] - 8s 2ms/step - loss: 0.1603 - accuracy: 0.9453 - val_loss: 0.5177 - val_accuracy: 0.8459\n",
            "Epoch 21/30\n",
            "3375/3375 [==============================] - 8s 2ms/step - loss: 0.1504 - accuracy: 0.9491 - val_loss: 0.5316 - val_accuracy: 0.8510\n",
            "Epoch 22/30\n",
            "3375/3375 [==============================] - 8s 2ms/step - loss: 0.1410 - accuracy: 0.9532 - val_loss: 0.5548 - val_accuracy: 0.8450\n",
            "Epoch 23/30\n",
            "3375/3375 [==============================] - 8s 2ms/step - loss: 0.1315 - accuracy: 0.9563 - val_loss: 0.5690 - val_accuracy: 0.8472\n",
            "Epoch 24/30\n",
            "3375/3375 [==============================] - 8s 2ms/step - loss: 0.1229 - accuracy: 0.9593 - val_loss: 0.5976 - val_accuracy: 0.8454\n",
            "Epoch 25/30\n",
            "3375/3375 [==============================] - 8s 2ms/step - loss: 0.1148 - accuracy: 0.9625 - val_loss: 0.6165 - val_accuracy: 0.8452\n",
            "Epoch 26/30\n",
            "3375/3375 [==============================] - 8s 2ms/step - loss: 0.1069 - accuracy: 0.9651 - val_loss: 0.6464 - val_accuracy: 0.8436\n",
            "Epoch 27/30\n",
            "3375/3375 [==============================] - 8s 2ms/step - loss: 0.0992 - accuracy: 0.9689 - val_loss: 0.6711 - val_accuracy: 0.8418\n",
            "Epoch 28/30\n",
            "3375/3375 [==============================] - 8s 2ms/step - loss: 0.0924 - accuracy: 0.9710 - val_loss: 0.7009 - val_accuracy: 0.8436\n",
            "Epoch 29/30\n",
            "3375/3375 [==============================] - 8s 2ms/step - loss: 0.0863 - accuracy: 0.9728 - val_loss: 0.7250 - val_accuracy: 0.8430\n",
            "Epoch 30/30\n",
            "3375/3375 [==============================] - 9s 3ms/step - loss: 0.0797 - accuracy: 0.9754 - val_loss: 0.7502 - val_accuracy: 0.8392\n",
            "Model Evaluation\n",
            "238/238 [==============================] - 1s 2ms/step - loss: 0.7564 - accuracy: 0.8414\n"
          ]
        },
        {
          "output_type": "execute_result",
          "data": {
            "text/plain": [
              "[0.7563914656639099, 0.8414473533630371]"
            ]
          },
          "metadata": {},
          "execution_count": 19
        }
      ],
      "source": [
        "model = keras.models.Sequential()\n",
        "#[TO COMPLETE] modify the previuos model in order to obtain a new model that overfits the training data\n",
        "\n",
        "model.add(tf.keras.Input(shape=(num_words,)))\n",
        "model.add(keras.layers.Dense(64, activation=\"relu\"))\n",
        "model.add(keras.layers.Dense(64, activation=\"relu\"))\n",
        "model.add(keras.layers.Dense(4, activation=\"softmax\"))\n",
        "\n",
        "#4 layers, 1e-4 is good, start overfitting\n",
        "\n",
        "model.compile(loss=\"sparse_categorical_crossentropy\",\n",
        "              optimizer=keras.optimizers.Adam(learning_rate=2e-4),#[TO COMPLETE] learning rate \n",
        "              metrics=[\"accuracy\"])\n",
        "\n",
        "history = model.fit(X_train, y_train, epochs=30,#[TO COMPLETE] epochs\n",
        "                    validation_data=(X_valid, y_valid))\n",
        "\n",
        "print(\"Model Evaluation\")\n",
        "model.evaluate(X_test, y_test)"
      ]
    },
    {
      "cell_type": "markdown",
      "metadata": {
        "id": "MS0fujEqh_m3"
      },
      "source": [
        "Define the `plot_learning_curves` function that plots only the losses (not the accuracy)."
      ]
    },
    {
      "cell_type": "code",
      "execution_count": null,
      "metadata": {
        "id": "q5EsklC0DZYH",
        "colab": {
          "base_uri": "https://localhost:8080/",
          "height": 336
        },
        "outputId": "f2aad74d-da71-412a-afd2-2c0e714cd025"
      },
      "outputs": [
        {
          "output_type": "display_data",
          "data": {
            "text/plain": [
              "<Figure size 576x360 with 1 Axes>"
            ],
            "image/png": "[encoded data removed]"
          },
          "metadata": {
            "needs_background": "light"
          }
        }
      ],
      "source": [
        "def plot_learning_curves(history):\n",
        "    plt.figure(figsize=(8, 5))\n",
        "    plt.plot(history.epoch,history.history['loss'], label='train loss')\n",
        "    plt.plot(history.epoch,history.history['val_loss'], label='valid loss')\n",
        "    plt.legend()\n",
        "    plt.title('loss')\n",
        "    plt.grid(True)\n",
        "    plt.show()\n",
        "plot_learning_curves(history)"
      ]
    },
    {
      "cell_type": "markdown",
      "metadata": {
        "id": "OW4Kf4fgDfOs"
      },
      "source": [
        "### [TO COMPLETE] L1 norm\n",
        "\n",
        "One possible way to solve the overitting issue is by using regularization methods. The two most common regularization methods in Deep Learning are the L1-norm regularization and the L2-norm regularization. Both These techniques are based on limiting the capacity of models, by adding a parameter norm penalty to the objective function $\\mathcal{J}$:\n",
        "$$\n",
        "\\hat{\\mathcal{J}}(\\theta,\\mathbf{X},\\mathbf{y}) = \\mathcal{J}(\\theta,\\mathbf{X},\\mathbf{y}) + \\alpha \\Omega(\\theta)\n",
        "$$\n",
        "where $\\alpha$ is a hyperparameter that weighs the relative contribution of the norm penalty $\\Omega$.\n",
        "Lets start by considering the L1-norm regularization where the regularization term is defined as:\n",
        "$$\n",
        " \\Omega(\\theta)=||\\mathbf{W}||_1=\\sum_i |\\mathbf{w}|\n",
        "$$\n",
        "Let's find the values for the $\\alpha$ parameters that allow to remove the overfitting effect."
      ]
    },
    {
      "cell_type": "code",
      "execution_count": null,
      "metadata": {
        "id": "QzD8520dDgw3",
        "scrolled": true,
        "colab": {
          "base_uri": "https://localhost:8080/",
          "height": 1000
        },
        "outputId": "026492c2-cfe9-4407-e910-3cfba863c211"
      },
      "outputs": [
        {
          "output_type": "stream",
          "name": "stdout",
          "text": [
            "Epoch 1/30\n",
            "3375/3375 [==============================] - 9s 2ms/step - loss: 1.1908 - accuracy: 0.7794 - val_loss: 0.8270 - val_accuracy: 0.8319\n",
            "Epoch 2/30\n",
            "3375/3375 [==============================] - 8s 2ms/step - loss: 0.7500 - accuracy: 0.8395 - val_loss: 0.7022 - val_accuracy: 0.8436\n",
            "Epoch 3/30\n",
            "3375/3375 [==============================] - 8s 2ms/step - loss: 0.6614 - accuracy: 0.8464 - val_loss: 0.6451 - val_accuracy: 0.8451\n",
            "Epoch 4/30\n",
            "3375/3375 [==============================] - 8s 2ms/step - loss: 0.6174 - accuracy: 0.8495 - val_loss: 0.6164 - val_accuracy: 0.8435\n",
            "Epoch 5/30\n",
            "3375/3375 [==============================] - 8s 2ms/step - loss: 0.5915 - accuracy: 0.8509 - val_loss: 0.5934 - val_accuracy: 0.8482\n",
            "Epoch 6/30\n",
            "3375/3375 [==============================] - 9s 3ms/step - loss: 0.5725 - accuracy: 0.8520 - val_loss: 0.5798 - val_accuracy: 0.8493\n",
            "Epoch 7/30\n",
            "3375/3375 [==============================] - 8s 2ms/step - loss: 0.5575 - accuracy: 0.8532 - val_loss: 0.5673 - val_accuracy: 0.8508\n",
            "Epoch 8/30\n",
            "3375/3375 [==============================] - 8s 2ms/step - loss: 0.5473 - accuracy: 0.8529 - val_loss: 0.5554 - val_accuracy: 0.8513\n",
            "Epoch 9/30\n",
            "3375/3375 [==============================] - 8s 2ms/step - loss: 0.5393 - accuracy: 0.8541 - val_loss: 0.5518 - val_accuracy: 0.8490\n",
            "Epoch 10/30\n",
            "3375/3375 [==============================] - 8s 2ms/step - loss: 0.5333 - accuracy: 0.8543 - val_loss: 0.5464 - val_accuracy: 0.8522\n",
            "Epoch 11/30\n",
            "3375/3375 [==============================] - 8s 2ms/step - loss: 0.5283 - accuracy: 0.8543 - val_loss: 0.5391 - val_accuracy: 0.8512\n",
            "Epoch 12/30\n",
            "3375/3375 [==============================] - 8s 2ms/step - loss: 0.5238 - accuracy: 0.8548 - val_loss: 0.5349 - val_accuracy: 0.8513\n",
            "Epoch 13/30\n",
            "3375/3375 [==============================] - 8s 2ms/step - loss: 0.5208 - accuracy: 0.8552 - val_loss: 0.5313 - val_accuracy: 0.8509\n",
            "Epoch 14/30\n",
            "3375/3375 [==============================] - 8s 2ms/step - loss: 0.5180 - accuracy: 0.8548 - val_loss: 0.5340 - val_accuracy: 0.8508\n",
            "Epoch 15/30\n",
            "3375/3375 [==============================] - 8s 2ms/step - loss: 0.5160 - accuracy: 0.8552 - val_loss: 0.5281 - val_accuracy: 0.8502\n",
            "Epoch 16/30\n",
            "3375/3375 [==============================] - 8s 2ms/step - loss: 0.5141 - accuracy: 0.8549 - val_loss: 0.5270 - val_accuracy: 0.8496\n",
            "Epoch 17/30\n",
            "3375/3375 [==============================] - 8s 2ms/step - loss: 0.5125 - accuracy: 0.8553 - val_loss: 0.5250 - val_accuracy: 0.8543\n",
            "Epoch 18/30\n",
            "3375/3375 [==============================] - 8s 2ms/step - loss: 0.5112 - accuracy: 0.8552 - val_loss: 0.5242 - val_accuracy: 0.8510\n",
            "Epoch 19/30\n",
            "3375/3375 [==============================] - 8s 2ms/step - loss: 0.5100 - accuracy: 0.8552 - val_loss: 0.5213 - val_accuracy: 0.8529\n",
            "Epoch 20/30\n",
            "3375/3375 [==============================] - 8s 2ms/step - loss: 0.5082 - accuracy: 0.8555 - val_loss: 0.5272 - val_accuracy: 0.8512\n",
            "Epoch 21/30\n",
            "3375/3375 [==============================] - 8s 2ms/step - loss: 0.5078 - accuracy: 0.8548 - val_loss: 0.5201 - val_accuracy: 0.8508\n",
            "Epoch 22/30\n",
            "3375/3375 [==============================] - 8s 2ms/step - loss: 0.5064 - accuracy: 0.8562 - val_loss: 0.5225 - val_accuracy: 0.8502\n",
            "Epoch 23/30\n",
            "3375/3375 [==============================] - 8s 2ms/step - loss: 0.5050 - accuracy: 0.8560 - val_loss: 0.5173 - val_accuracy: 0.8522\n",
            "Epoch 24/30\n",
            "3375/3375 [==============================] - 8s 2ms/step - loss: 0.5044 - accuracy: 0.8555 - val_loss: 0.5169 - val_accuracy: 0.8511\n",
            "Epoch 25/30\n",
            "3375/3375 [==============================] - 8s 2ms/step - loss: 0.5032 - accuracy: 0.8556 - val_loss: 0.5145 - val_accuracy: 0.8525\n",
            "Epoch 26/30\n",
            "3375/3375 [==============================] - 8s 2ms/step - loss: 0.5026 - accuracy: 0.8555 - val_loss: 0.5178 - val_accuracy: 0.8505\n",
            "Epoch 27/30\n",
            "3375/3375 [==============================] - 8s 2ms/step - loss: 0.5017 - accuracy: 0.8563 - val_loss: 0.5151 - val_accuracy: 0.8519\n",
            "Epoch 28/30\n",
            "3375/3375 [==============================] - 8s 2ms/step - loss: 0.5012 - accuracy: 0.8557 - val_loss: 0.5127 - val_accuracy: 0.8533\n",
            "Epoch 29/30\n",
            "3375/3375 [==============================] - 8s 2ms/step - loss: 0.5002 - accuracy: 0.8557 - val_loss: 0.5098 - val_accuracy: 0.8547\n",
            "Epoch 30/30\n",
            "3375/3375 [==============================] - 8s 2ms/step - loss: 0.4990 - accuracy: 0.8558 - val_loss: 0.5105 - val_accuracy: 0.8537\n",
            "Model Evaluation\n",
            "238/238 [==============================] - 1s 3ms/step - loss: 0.5225 - accuracy: 0.8438\n"
          ]
        },
        {
          "output_type": "display_data",
          "data": {
            "text/plain": [
              "<Figure size 576x360 with 1 Axes>"
            ],
            "image/png": "[encoded data removed]"
          },
          "metadata": {
            "needs_background": "light"
          }
        }
      ],
      "source": [
        "#In Keras is neccesary to add the regularizer by using the attribute kernel_regularizer\n",
        "#to each layer whose weights will be considered in the Omega function.\n",
        "#It is also possibile to consider the bias by using the attribute bias_regularizer \n",
        "#tf.keras.regularizers.l1(alpha) perfroms the L1-norm regularization\n",
        "\n",
        "#[TO COMPLETE] copy the model that you previously defined that overfits the \n",
        "#training data, and add the L1-norm regularization. Use a proper value for the\n",
        "#alpha hyper-parameter, that prevents the model from overfitting. The results  \n",
        "#reached by the model in terms of loss and accuracy (in all data sets) should be\n",
        "#comparable with the ones obtained by the initial model defined in Exercise 2.1 \n",
        "\n",
        "#In general, a layer that exploits L1-norm regularization is defined as follows:\n",
        "\n",
        "#model.add(keras.layers.Dense(units=[TO COMPLETE], activation=[TO COMPLETE], kernel_regularizer=tf.keras.regularizers.l1([TO COMPLETE]))) \n",
        "\n",
        "model = keras.models.Sequential()\n",
        "#[TO COMPLETE]\n",
        "\n",
        "model.add(tf.keras.Input(shape=(num_words,)))\n",
        "model.add(keras.layers.Dense(64, activation=\"relu\", kernel_regularizer=tf.keras.regularizers.l1(1e-3)))\n",
        "model.add(keras.layers.Dense(64, activation=\"relu\", kernel_regularizer=tf.keras.regularizers.l1(1e-3)))\n",
        "model.add(keras.layers.Dense(4, activation=\"softmax\"))\n",
        "\n",
        "model.compile(loss=\"sparse_categorical_crossentropy\",\n",
        "              optimizer=keras.optimizers.Adam(learning_rate=2e-4),#[TO COMPLETE] learning rate\n",
        "              metrics=[\"accuracy\"])\n",
        "\n",
        "history = model.fit(X_train, y_train, epochs=30,#[TO COMPLETE] epochs\n",
        "                    validation_data=(X_valid, y_valid))\n",
        "\n",
        "print(\"Model Evaluation\")\n",
        "model.evaluate(X_test, y_test)\n",
        "plot_learning_curves(history)"
      ]
    },
    {
      "cell_type": "markdown",
      "metadata": {
        "id": "CgnCGYUvDqbC"
      },
      "source": [
        "### [TO COMPLETE] L2-norm\n",
        "\n",
        "L2-norm regularization is also known as weight decay. This strategy drives the weights closer to the origin by adding the regularization term omega which is defined as:\n",
        "$$\n",
        " \\Omega(\\theta)=\\frac{1}{2}||\\mathbf{W}||_2^2\n",
        "$$\n",
        "\n",
        "Let's find the values for the $\\alpha$ parameters that allow removing remove the overfitting effect with L2-norm."
      ]
    },
    {
      "cell_type": "code",
      "execution_count": null,
      "metadata": {
        "id": "qqNhu350DtJo",
        "colab": {
          "base_uri": "https://localhost:8080/",
          "height": 1000
        },
        "outputId": "07396117-b85e-4f72-834d-8f3443454a73"
      },
      "outputs": [
        {
          "output_type": "stream",
          "name": "stdout",
          "text": [
            "Epoch 1/30\n",
            "3375/3375 [==============================] - 9s 2ms/step - loss: 0.6739 - accuracy: 0.8124 - val_loss: 0.5463 - val_accuracy: 0.8486\n",
            "Epoch 2/30\n",
            "3375/3375 [==============================] - 8s 2ms/step - loss: 0.5160 - accuracy: 0.8521 - val_loss: 0.5111 - val_accuracy: 0.8497\n",
            "Epoch 3/30\n",
            "3375/3375 [==============================] - 8s 2ms/step - loss: 0.4867 - accuracy: 0.8543 - val_loss: 0.4904 - val_accuracy: 0.8503\n",
            "Epoch 4/30\n",
            "3375/3375 [==============================] - 8s 2ms/step - loss: 0.4680 - accuracy: 0.8554 - val_loss: 0.4790 - val_accuracy: 0.8493\n",
            "Epoch 5/30\n",
            "3375/3375 [==============================] - 9s 3ms/step - loss: 0.4548 - accuracy: 0.8566 - val_loss: 0.4654 - val_accuracy: 0.8524\n",
            "Epoch 6/30\n",
            "3375/3375 [==============================] - 8s 2ms/step - loss: 0.4438 - accuracy: 0.8596 - val_loss: 0.4627 - val_accuracy: 0.8503\n",
            "Epoch 7/30\n",
            "3375/3375 [==============================] - 8s 2ms/step - loss: 0.4340 - accuracy: 0.8626 - val_loss: 0.4597 - val_accuracy: 0.8531\n",
            "Epoch 8/30\n",
            "3375/3375 [==============================] - 8s 2ms/step - loss: 0.4256 - accuracy: 0.8651 - val_loss: 0.4479 - val_accuracy: 0.8583\n",
            "Epoch 9/30\n",
            "3375/3375 [==============================] - 8s 2ms/step - loss: 0.4170 - accuracy: 0.8684 - val_loss: 0.4508 - val_accuracy: 0.8543\n",
            "Epoch 10/30\n",
            "3375/3375 [==============================] - 8s 2ms/step - loss: 0.4095 - accuracy: 0.8711 - val_loss: 0.4492 - val_accuracy: 0.8567\n",
            "Epoch 11/30\n",
            "3375/3375 [==============================] - 8s 2ms/step - loss: 0.4024 - accuracy: 0.8746 - val_loss: 0.4443 - val_accuracy: 0.8591\n",
            "Epoch 12/30\n",
            "3375/3375 [==============================] - 8s 2ms/step - loss: 0.3949 - accuracy: 0.8779 - val_loss: 0.4448 - val_accuracy: 0.8592\n",
            "Epoch 13/30\n",
            "3375/3375 [==============================] - 8s 2ms/step - loss: 0.3881 - accuracy: 0.8803 - val_loss: 0.4440 - val_accuracy: 0.8608\n",
            "Epoch 14/30\n",
            "3375/3375 [==============================] - 8s 2ms/step - loss: 0.3805 - accuracy: 0.8849 - val_loss: 0.4493 - val_accuracy: 0.8585\n",
            "Epoch 15/30\n",
            "3375/3375 [==============================] - 8s 2ms/step - loss: 0.3733 - accuracy: 0.8882 - val_loss: 0.4478 - val_accuracy: 0.8592\n",
            "Epoch 16/30\n",
            "3375/3375 [==============================] - 8s 2ms/step - loss: 0.3667 - accuracy: 0.8917 - val_loss: 0.4528 - val_accuracy: 0.8597\n",
            "Epoch 17/30\n",
            "3375/3375 [==============================] - 8s 2ms/step - loss: 0.3597 - accuracy: 0.8954 - val_loss: 0.4592 - val_accuracy: 0.8602\n",
            "Epoch 18/30\n",
            "3375/3375 [==============================] - 8s 2ms/step - loss: 0.3526 - accuracy: 0.8987 - val_loss: 0.4579 - val_accuracy: 0.8610\n",
            "Epoch 19/30\n",
            "3375/3375 [==============================] - 8s 2ms/step - loss: 0.3464 - accuracy: 0.9025 - val_loss: 0.4632 - val_accuracy: 0.8589\n",
            "Epoch 20/30\n",
            "3375/3375 [==============================] - 8s 2ms/step - loss: 0.3392 - accuracy: 0.9059 - val_loss: 0.4780 - val_accuracy: 0.8528\n",
            "Epoch 21/30\n",
            "3375/3375 [==============================] - 8s 2ms/step - loss: 0.3332 - accuracy: 0.9093 - val_loss: 0.4741 - val_accuracy: 0.8586\n",
            "Epoch 22/30\n",
            "3375/3375 [==============================] - 8s 2ms/step - loss: 0.3273 - accuracy: 0.9118 - val_loss: 0.4832 - val_accuracy: 0.8547\n",
            "Epoch 23/30\n",
            "3375/3375 [==============================] - 8s 2ms/step - loss: 0.3210 - accuracy: 0.9159 - val_loss: 0.4833 - val_accuracy: 0.8570\n",
            "Epoch 24/30\n",
            "3375/3375 [==============================] - 8s 2ms/step - loss: 0.3158 - accuracy: 0.9185 - val_loss: 0.4873 - val_accuracy: 0.8584\n",
            "Epoch 25/30\n",
            "3375/3375 [==============================] - 8s 2ms/step - loss: 0.3111 - accuracy: 0.9199 - val_loss: 0.4918 - val_accuracy: 0.8569\n",
            "Epoch 26/30\n",
            "3375/3375 [==============================] - 8s 2ms/step - loss: 0.3058 - accuracy: 0.9234 - val_loss: 0.5047 - val_accuracy: 0.8534\n",
            "Epoch 27/30\n",
            "3375/3375 [==============================] - 8s 2ms/step - loss: 0.3010 - accuracy: 0.9258 - val_loss: 0.5059 - val_accuracy: 0.8568\n",
            "Epoch 28/30\n",
            "3375/3375 [==============================] - 8s 2ms/step - loss: 0.2968 - accuracy: 0.9273 - val_loss: 0.5091 - val_accuracy: 0.8553\n",
            "Epoch 29/30\n",
            "3375/3375 [==============================] - 8s 2ms/step - loss: 0.2927 - accuracy: 0.9291 - val_loss: 0.5139 - val_accuracy: 0.8559\n",
            "Epoch 30/30\n",
            "3375/3375 [==============================] - 8s 2ms/step - loss: 0.2879 - accuracy: 0.9317 - val_loss: 0.5221 - val_accuracy: 0.8545\n",
            "Model Evaluation\n",
            "238/238 [==============================] - 1s 3ms/step - loss: 0.5340 - accuracy: 0.8478\n"
          ]
        },
        {
          "output_type": "display_data",
          "data": {
            "text/plain": [
              "<Figure size 576x360 with 1 Axes>"
            ],
            "image/png": "[encoded data removed]"
          },
          "metadata": {
            "needs_background": "light"
          }
        }
      ],
      "source": [
        "#[TO COMPLETE] insert the model that you previously defined that overfit the \n",
        "#trainig data, and add the L2-norm regularization. Use proper values for the\n",
        "#alpha hyper-parameters, that prevents the model from overfitting. The results  \n",
        "#reached by the model in terms of loss and accuracy (in all data sets) should be\n",
        "#comparable with the ones obtained by the initial model defined in Exercise 2.1\n",
        "\n",
        "#In general, a layer that exploits L2-norm regularization is defined as follow:\n",
        "\n",
        "#model.add(keras.layers.Dense(units=[TO COMPLETE], activation=[TO COMPLETE],kernel_regularizer=tf.keras.regularizers.l2([TO COMPLETE]))) \n",
        "\n",
        "model = keras.models.Sequential()\n",
        "#[TO COMPLETE]\n",
        "\n",
        "model.add(tf.keras.Input(shape=(num_words,)))\n",
        "model.add(keras.layers.Dense(64, activation=\"relu\", kernel_regularizer=tf.keras.regularizers.l2(1e-3))) \n",
        "model.add(keras.layers.Dense(64, activation=\"relu\", kernel_regularizer=tf.keras.regularizers.l2(1e-3))) \n",
        "model.add(keras.layers.Dense(4, activation=\"softmax\"))\n",
        "\n",
        "model.compile(loss=\"sparse_categorical_crossentropy\",\n",
        "              optimizer=keras.optimizers.Adam(learning_rate=2e-4),#[TO COMPLETE] learning rate\n",
        "              metrics=[\"accuracy\"])\n",
        "\n",
        "history = model.fit(X_train, y_train, epochs=30,#[TO COMPLETE] epochs\n",
        "                    validation_data=(X_valid, y_valid))\n",
        "\n",
        "print(\"Model Evaluation\")\n",
        "model.evaluate(X_test, y_test)\n",
        "plot_learning_curves(history)"
      ]
    },
    {
      "cell_type": "markdown",
      "metadata": {
        "id": "xvyKPb4DD25G"
      },
      "source": [
        "### [TO COMPLETE] Early stopping\n",
        "\n",
        "Early Stopping is a form of regularization used to avoid overfitting. It is designed to monitor the generalization error of one model and stop training when generalization error begins to degrade. In order to evaluate the generalization error, early stopping requires that a validation dataset is evaluated during training. Then, when the validation error does not improve for a specific number of epochs (`patience` hyper-parameter), it stops the training phase."
      ]
    },
    {
      "cell_type": "code",
      "execution_count": null,
      "metadata": {
        "id": "MqNOOZ11D7cq",
        "colab": {
          "base_uri": "https://localhost:8080/",
          "height": 883
        },
        "outputId": "5658addf-7a24-4e06-828e-931934591bcc"
      },
      "outputs": [
        {
          "output_type": "stream",
          "name": "stdout",
          "text": [
            "Epoch 1/30\n",
            "3375/3375 [==============================] - 8s 2ms/step - loss: 0.5350 - accuracy: 0.8113 - val_loss: 0.4259 - val_accuracy: 0.8501\n",
            "Epoch 2/30\n",
            "3375/3375 [==============================] - 8s 2ms/step - loss: 0.4048 - accuracy: 0.8548 - val_loss: 0.4144 - val_accuracy: 0.8516\n",
            "Epoch 3/30\n",
            "3375/3375 [==============================] - 8s 2ms/step - loss: 0.3881 - accuracy: 0.8598 - val_loss: 0.4075 - val_accuracy: 0.8539\n",
            "Epoch 4/30\n",
            "3375/3375 [==============================] - 8s 2ms/step - loss: 0.3734 - accuracy: 0.8634 - val_loss: 0.4000 - val_accuracy: 0.8551\n",
            "Epoch 5/30\n",
            "3375/3375 [==============================] - 8s 2ms/step - loss: 0.3590 - accuracy: 0.8693 - val_loss: 0.3951 - val_accuracy: 0.8577\n",
            "Epoch 6/30\n",
            "3375/3375 [==============================] - 8s 2ms/step - loss: 0.3443 - accuracy: 0.8741 - val_loss: 0.3934 - val_accuracy: 0.8557\n",
            "Epoch 7/30\n",
            "3375/3375 [==============================] - 8s 2ms/step - loss: 0.3292 - accuracy: 0.8793 - val_loss: 0.3959 - val_accuracy: 0.8565\n",
            "Epoch 8/30\n",
            "3375/3375 [==============================] - 8s 2ms/step - loss: 0.3144 - accuracy: 0.8856 - val_loss: 0.3915 - val_accuracy: 0.8611\n",
            "Epoch 9/30\n",
            "3375/3375 [==============================] - 8s 2ms/step - loss: 0.2993 - accuracy: 0.8912 - val_loss: 0.3955 - val_accuracy: 0.8572\n",
            "Epoch 10/30\n",
            "3375/3375 [==============================] - 8s 2ms/step - loss: 0.2843 - accuracy: 0.8970 - val_loss: 0.4017 - val_accuracy: 0.8572\n",
            "Epoch 11/30\n",
            "3375/3375 [==============================] - 8s 2ms/step - loss: 0.2697 - accuracy: 0.9027 - val_loss: 0.4052 - val_accuracy: 0.8575\n",
            "Epoch 12/30\n",
            "3375/3375 [==============================] - 8s 2ms/step - loss: 0.2552 - accuracy: 0.9090 - val_loss: 0.4114 - val_accuracy: 0.8571\n",
            "Epoch 13/30\n",
            "3375/3375 [==============================] - 8s 2ms/step - loss: 0.2410 - accuracy: 0.9143 - val_loss: 0.4231 - val_accuracy: 0.8539\n",
            "Epoch 14/30\n",
            "3375/3375 [==============================] - 8s 2ms/step - loss: 0.2272 - accuracy: 0.9195 - val_loss: 0.4406 - val_accuracy: 0.8540\n",
            "Model Evaluation\n",
            "238/238 [==============================] - 1s 2ms/step - loss: 0.3954 - accuracy: 0.8580\n"
          ]
        },
        {
          "output_type": "display_data",
          "data": {
            "text/plain": [
              "<Figure size 576x360 with 1 Axes>"
            ],
            "image/png": "[encoded data removed]"
          },
          "metadata": {
            "needs_background": "light"
          }
        }
      ],
      "source": [
        "#[TO COMPLETE] insert the model that you previously defined that overfit the \n",
        "#trainnig data\n",
        "model = keras.models.Sequential()\n",
        "\n",
        "model.add(tf.keras.Input(shape=(num_words,)))\n",
        "model.add(keras.layers.Dense(64, activation=\"relu\"))\n",
        "model.add(keras.layers.Dense(64, activation=\"relu\"))\n",
        "model.add(keras.layers.Dense(4, activation=\"softmax\"))\n",
        "\n",
        "\n",
        "model.compile(loss=\"sparse_categorical_crossentropy\",\n",
        "              optimizer=keras.optimizers.Adam(learning_rate=2e-4),#[TO COMPLETE] learning rate\n",
        "\n",
        "              metrics=[\"accuracy\"])\n",
        "\n",
        "#Let's define a log dir in order to save the checkpoint file\n",
        "logdir = os.path.join(os.curdir, \"my_logs\", \"run_{}\".format(time.time()))\n",
        "\n",
        "#In Keras the early stopping is manage by using the callbacks argument.\n",
        "callbacks = [\n",
        "    keras.callbacks.TensorBoard(logdir),\n",
        "    keras.callbacks.EarlyStopping(patience=6),#[TO COMPLETE] play with patience and find the value that prevents the model from overfitting.\n",
        "\n",
        "\n",
        "    #Saving the checkpoints file allows to load the \"best\" model when the Early \n",
        "    #stopping detect that the generalization error degrade (after 'patience' epochs)\n",
        "    keras.callbacks.ModelCheckpoint(\"my_mnist_model.h5\", save_best_only=True),\n",
        "]\n",
        "\n",
        "history = model.fit(X_train, y_train, epochs=30,#[TO COMPLETE] epochs\n",
        "                    validation_data=(X_valid, y_valid),\n",
        "                    callbacks=callbacks)\n",
        "\n",
        "print(\"Model Evaluation\")\n",
        "#The early stopping stopped training after few epochs without progress, so your\n",
        "#model may already have started to overfit the training set. Since the \n",
        "#ModelCheckpoint callback only saved the best models (on the validation set) the\n",
        "#last saved model is the best on the validation set.\n",
        "model = keras.models.load_model(\"my_mnist_model.h5\")\n",
        "model.evaluate(X_test, y_test)\n",
        "plot_learning_curves(history)"
      ]
    },
    {
      "cell_type": "markdown",
      "metadata": {
        "id": "DCV8pwVzl9GK"
      },
      "source": [
        "\n",
        "## Exercise 2.3: Model Selection\n",
        "\n",
        "Hyperparameters are the parameters of the learning method itself which we have to specify a priori, i.e., before model fitting. In contrast, model parameters are parameters which arise as a result of the fit (the network weights). The aim of model selection is selecting the best hyperparameters for our deep network. Finding the right hyperparameters for a model can be crucial for the model performance on given data. For istance lets consider our model trained by using different values for the learning rate: "
      ]
    },
    {
      "cell_type": "code",
      "execution_count": null,
      "metadata": {
        "id": "Fw8Hs-AEmLKh"
      },
      "outputs": [],
      "source": [
        "learning_rates = [1e-4, 1e-2, 1e-1]"
      ]
    },
    {
      "cell_type": "code",
      "execution_count": null,
      "metadata": {
        "id": "mym4GOgUmWqD",
        "colab": {
          "base_uri": "https://localhost:8080/"
        },
        "outputId": "f9f4e415-7071-4223-fb67-219e79f8f46e"
      },
      "outputs": [
        {
          "output_type": "stream",
          "name": "stdout",
          "text": [
            "Epoch 1/10\n",
            "3375/3375 [==============================] - 9s 3ms/step - loss: 0.7783 - accuracy: 0.7367 - val_loss: 0.4945 - val_accuracy: 0.8352\n",
            "Epoch 2/10\n",
            "3375/3375 [==============================] - 8s 2ms/step - loss: 0.4504 - accuracy: 0.8456 - val_loss: 0.4436 - val_accuracy: 0.8483\n",
            "Epoch 3/10\n",
            "3375/3375 [==============================] - 8s 2ms/step - loss: 0.4197 - accuracy: 0.8540 - val_loss: 0.4321 - val_accuracy: 0.8496\n",
            "Epoch 4/10\n",
            "3375/3375 [==============================] - 8s 2ms/step - loss: 0.4080 - accuracy: 0.8568 - val_loss: 0.4251 - val_accuracy: 0.8507\n",
            "Epoch 5/10\n",
            "3375/3375 [==============================] - 8s 2ms/step - loss: 0.4015 - accuracy: 0.8585 - val_loss: 0.4228 - val_accuracy: 0.8510\n",
            "Epoch 6/10\n",
            "3375/3375 [==============================] - 8s 2ms/step - loss: 0.3969 - accuracy: 0.8594 - val_loss: 0.4194 - val_accuracy: 0.8512\n",
            "Epoch 7/10\n",
            "3375/3375 [==============================] - 8s 2ms/step - loss: 0.3931 - accuracy: 0.8603 - val_loss: 0.4173 - val_accuracy: 0.8518\n",
            "Epoch 8/10\n",
            "3375/3375 [==============================] - 8s 2ms/step - loss: 0.3899 - accuracy: 0.8613 - val_loss: 0.4157 - val_accuracy: 0.8528\n",
            "Epoch 9/10\n",
            "3375/3375 [==============================] - 8s 2ms/step - loss: 0.3870 - accuracy: 0.8619 - val_loss: 0.4132 - val_accuracy: 0.8537\n",
            "Epoch 10/10\n",
            "3375/3375 [==============================] - 8s 2ms/step - loss: 0.3843 - accuracy: 0.8621 - val_loss: 0.4122 - val_accuracy: 0.8540\n",
            "evaluation on test set\n",
            "238/238 [==============================] - 1s 3ms/step - loss: 0.4203 - accuracy: 0.8474\n",
            "Epoch 1/10\n",
            "3375/3375 [==============================] - 8s 2ms/step - loss: 0.4620 - accuracy: 0.8319 - val_loss: 0.4353 - val_accuracy: 0.8442\n",
            "Epoch 2/10\n",
            "3375/3375 [==============================] - 9s 3ms/step - loss: 0.4061 - accuracy: 0.8527 - val_loss: 0.4170 - val_accuracy: 0.8498\n",
            "Epoch 3/10\n",
            "3375/3375 [==============================] - 8s 2ms/step - loss: 0.3838 - accuracy: 0.8610 - val_loss: 0.4196 - val_accuracy: 0.8479\n",
            "Epoch 4/10\n",
            "3375/3375 [==============================] - 8s 2ms/step - loss: 0.3689 - accuracy: 0.8664 - val_loss: 0.4232 - val_accuracy: 0.8493\n",
            "evaluation on test set\n",
            "238/238 [==============================] - 1s 3ms/step - loss: 0.4371 - accuracy: 0.8393\n",
            "Epoch 1/10\n",
            "3375/3375 [==============================] - 8s 2ms/step - loss: 0.8477 - accuracy: 0.6676 - val_loss: 0.7785 - val_accuracy: 0.7551\n",
            "Epoch 2/10\n",
            "3375/3375 [==============================] - 8s 2ms/step - loss: 0.8102 - accuracy: 0.7047 - val_loss: 0.7830 - val_accuracy: 0.7177\n",
            "Epoch 3/10\n",
            "3375/3375 [==============================] - 8s 2ms/step - loss: 0.7960 - accuracy: 0.7084 - val_loss: 0.8895 - val_accuracy: 0.5864\n",
            "evaluation on test set\n",
            "238/238 [==============================] - 1s 2ms/step - loss: 0.8801 - accuracy: 0.5864\n"
          ]
        }
      ],
      "source": [
        "histories = []\n",
        "for learning_rate in learning_rates:\n",
        "    model = keras.models.Sequential([\n",
        "                                    tf.keras.Input(shape=(num_words,)),\n",
        "                                    keras.layers.Dense(16, activation=\"relu\"),\n",
        "                                    keras.layers.Dense(16, activation=\"relu\"),\n",
        "                                    keras.layers.Dense(4, activation=\"softmax\")\n",
        "                                     ])\n",
        "    model.compile(loss=\"sparse_categorical_crossentropy\",\n",
        "              optimizer=keras.optimizers.Adam(learning_rate=learning_rate),\n",
        "              metrics=[\"accuracy\"])\n",
        "              \n",
        "    callbacks = [keras.callbacks.EarlyStopping(patience=2)]\n",
        "\n",
        "    history = model.fit(X_train, y_train,\n",
        "                        validation_data=(X_valid, y_valid), epochs=10,\n",
        "                        callbacks=callbacks)\n",
        "    histories.append(history)\n",
        "    print(\"evaluation on test set\")\n",
        "    model.evaluate(X_test, y_test)"
      ]
    },
    {
      "cell_type": "markdown",
      "metadata": {
        "id": "RzTSjfwptkHJ"
      },
      "source": [
        "Let's plot the results"
      ]
    },
    {
      "cell_type": "code",
      "execution_count": null,
      "metadata": {
        "id": "cIlN1vlioIYh",
        "colab": {
          "base_uri": "https://localhost:8080/",
          "height": 981
        },
        "outputId": "c94d3bce-f6ae-4bc6-ef7e-c41ad49eef0a"
      },
      "outputs": [
        {
          "output_type": "stream",
          "name": "stdout",
          "text": [
            "Learning rate: 0.0001\n"
          ]
        },
        {
          "output_type": "display_data",
          "data": {
            "text/plain": [
              "<Figure size 576x360 with 1 Axes>"
            ],
            "image/png": "[encoded data removed]"
          },
          "metadata": {
            "needs_background": "light"
          }
        },
        {
          "output_type": "stream",
          "name": "stdout",
          "text": [
            "Learning rate: 0.01\n"
          ]
        },
        {
          "output_type": "display_data",
          "data": {
            "text/plain": [
              "<Figure size 576x360 with 1 Axes>"
            ],
            "image/png": "[encoded data removed]"
          },
          "metadata": {
            "needs_background": "light"
          }
        },
        {
          "output_type": "stream",
          "name": "stdout",
          "text": [
            "Learning rate: 0.1\n"
          ]
        },
        {
          "output_type": "display_data",
          "data": {
            "text/plain": [
              "<Figure size 576x360 with 1 Axes>"
            ],
            "image/png": "[encoded data removed]"
          },
          "metadata": {
            "needs_background": "light"
          }
        }
      ],
      "source": [
        "for learning_rate, history in zip(learning_rates, histories):\n",
        "    print(\"Learning rate:\", learning_rate)\n",
        "    plot_learning_acc_and_loss(history)"
      ]
    },
    {
      "cell_type": "markdown",
      "metadata": {
        "id": "_JntujSWq3e5"
      },
      "source": [
        "### [TO COMPLETE] GRID Search:\n",
        "\n",
        "Since a deep net has many hyperparameters, in order to find the best ones, we have to consider all the possible combinations of all of the possible values. One common method to perform this complex task is Grid-Search.\n",
        "Given a set of values for each hyper-parameter, Grid-Search will build a model on each parameter combination possible. It iterates through every parameter combination and stores a model for each combination. Finally, the model that obtained the best result on the validation set will be select.\n",
        "\n",
        "In order to perfrom Grid-Search we will use the `GridSearchCV` class from `scikit-learn`."
      ]
    },
    {
      "cell_type": "markdown",
      "metadata": {
        "id": "CPz629YSrDhN"
      },
      "source": [
        "Let's Create a `build_model()` function that takes two arguments, `n_neurons` and `learning_rate`, and builds, compiles and returns a model with the given number of of neurons and the given learning rate.\n",
        "In order to limit the time requirements of the process we will consider only these two hyper-paramters.\n",
        "\n",
        "[TO COMPLETE] in the following code cell define the `build_model` function."
      ]
    },
    {
      "cell_type": "code",
      "execution_count": null,
      "metadata": {
        "id": "oGSKWTTtqxZ4",
        "colab": {
          "base_uri": "https://localhost:8080/"
        },
        "outputId": "67b387e7-bc40-4429-d3ac-81b1cfcb302f"
      },
      "outputs": [
        {
          "output_type": "stream",
          "name": "stderr",
          "text": [
            "/usr/local/lib/python3.7/dist-packages/ipykernel_launcher.py:25: DeprecationWarning: KerasRegressor is deprecated, use Sci-Keras (https://github.com/adriangb/scikeras) instead. See https://www.adriangb.com/scikeras/stable/migration.html for help migrating.\n"
          ]
        }
      ],
      "source": [
        "def build_model(n_units=30, learning_rate=1e-3):\n",
        "    # The function has to build a model similar to the ones we used in previuous execises:\n",
        "    #- a input layer \n",
        "    #- one or two Dense layers composed of n_units and that exploit Relu activation function \n",
        "    #- the output layer that uses the softmax activation function\n",
        "    # Then, the model has to be compiled.\n",
        "    model = keras.models.Sequential([\n",
        "                                    tf.keras.Input(shape=(num_words,)),\n",
        "                                    keras.layers.Dense(n_units, activation=\"relu\"),\n",
        "                                    keras.layers.Dense(n_units, activation=\"relu\"),\n",
        "                                    keras.layers.Dense(4, activation=\"softmax\")\n",
        "                                     ])\n",
        "    \n",
        "    # [TO COMPLETE] Then, the model has to be compiled.\n",
        "    \n",
        "    model.compile(loss=\"sparse_categorical_crossentropy\",\n",
        "                  optimizer=keras.optimizers.Adam(learning_rate=learning_rate),\n",
        "                  metrics=[\"accuracy\"])\n",
        "    \n",
        "    return model\n",
        "\n",
        "    \n",
        "#Create a keras.wrappers.scikit_learn.KerasRegressor and pass the build_model \n",
        "#function to the constructor. This gives you a Scikit-Learn compatible predictor\n",
        "keras_reg = keras.wrappers.scikit_learn.KerasRegressor(build_model)"
      ]
    },
    {
      "cell_type": "markdown",
      "metadata": {
        "id": "PS6W3A2LxDg5"
      },
      "source": [
        "Let's define the lists of hyper-parameters' values. Also in this case, we use a very limited size lists, but in a real-world scenario a reasonable amount of possible values should be considered (try to add some values and check how much the time required to perform the Grid-Search increases)"
      ]
    },
    {
      "cell_type": "code",
      "execution_count": null,
      "metadata": {
        "id": "y-uldCW3ru24"
      },
      "outputs": [],
      "source": [
        "param_distribs = {\n",
        "    \"n_units\": [8,16,24],# [TO COMPLETE] insert a list that contains few (2 or 3) reasonable value\n",
        "    \"learning_rate\": [1e-3, 1e-4, 2e-4] #[TO COMPLETE] insert a list that contains few (2 or 3) reasonable values\n",
        "    #Check how the time required to perform GRID search increases when increasing the number of values for each hyper-parameter.\n",
        "}"
      ]
    },
    {
      "cell_type": "markdown",
      "metadata": {
        "id": "bEiBxVYtx_sK"
      },
      "source": [
        "Use a `sklearn.model_selection.GridSearchCV` to search the hyperparameter space of your `KerasRegressor`"
      ]
    },
    {
      "cell_type": "code",
      "execution_count": null,
      "metadata": {
        "id": "iobF2Bvdr9ER"
      },
      "outputs": [],
      "source": [
        "from sklearn.model_selection import GridSearchCV\n",
        "\n",
        "grid_search = GridSearchCV(keras_reg, param_distribs)"
      ]
    },
    {
      "cell_type": "markdown",
      "metadata": {
        "id": "LVGMcZz_yKSX"
      },
      "source": [
        "Run the Grid-Search"
      ]
    },
    {
      "cell_type": "code",
      "execution_count": null,
      "metadata": {
        "id": "-BA3vgTjr-hw",
        "scrolled": true,
        "colab": {
          "base_uri": "https://localhost:8080/"
        },
        "outputId": "0a464f6f-6d77-41c0-da50-23cfdc49acf7"
      },
      "outputs": [
        {
          "output_type": "stream",
          "name": "stdout",
          "text": [
            "Epoch 1/5\n",
            "2700/2700 [==============================] - 10s 3ms/step - loss: 0.5242 - accuracy: 0.8134 - val_loss: 0.4349 - val_accuracy: 0.8472\n",
            "Epoch 2/5\n",
            "2700/2700 [==============================] - 11s 4ms/step - loss: 0.4105 - accuracy: 0.8530 - val_loss: 0.4153 - val_accuracy: 0.8527\n",
            "Epoch 3/5\n",
            "2700/2700 [==============================] - 6s 2ms/step - loss: 0.3973 - accuracy: 0.8566 - val_loss: 0.4143 - val_accuracy: 0.8503\n",
            "Epoch 4/5\n",
            "2700/2700 [==============================] - 6s 2ms/step - loss: 0.3881 - accuracy: 0.8585 - val_loss: 0.4107 - val_accuracy: 0.8505\n",
            "Epoch 5/5\n",
            "2700/2700 [==============================] - 7s 3ms/step - loss: 0.3804 - accuracy: 0.8603 - val_loss: 0.4098 - val_accuracy: 0.8513\n",
            "675/675 [==============================] - 1s 2ms/step - loss: 0.3970 - accuracy: 0.8551\n",
            "Epoch 1/5\n",
            "2700/2700 [==============================] - 7s 3ms/step - loss: 0.5210 - accuracy: 0.8100 - val_loss: 0.4305 - val_accuracy: 0.8477\n",
            "Epoch 2/5\n",
            "2700/2700 [==============================] - 7s 2ms/step - loss: 0.4044 - accuracy: 0.8547 - val_loss: 0.4178 - val_accuracy: 0.8520\n",
            "Epoch 3/5\n",
            "2700/2700 [==============================] - 6s 2ms/step - loss: 0.3909 - accuracy: 0.8582 - val_loss: 0.4186 - val_accuracy: 0.8497\n",
            "Epoch 4/5\n",
            "2700/2700 [==============================] - 6s 2ms/step - loss: 0.3819 - accuracy: 0.8604 - val_loss: 0.4128 - val_accuracy: 0.8486\n",
            "Epoch 5/5\n",
            "2700/2700 [==============================] - 6s 2ms/step - loss: 0.3752 - accuracy: 0.8625 - val_loss: 0.4122 - val_accuracy: 0.8499\n",
            "675/675 [==============================] - 2s 3ms/step - loss: 0.4055 - accuracy: 0.8520\n",
            "Epoch 1/5\n",
            "2700/2700 [==============================] - 7s 2ms/step - loss: 0.5284 - accuracy: 0.8119 - val_loss: 0.4313 - val_accuracy: 0.8480\n",
            "Epoch 2/5\n",
            "2700/2700 [==============================] - 6s 2ms/step - loss: 0.4044 - accuracy: 0.8553 - val_loss: 0.4158 - val_accuracy: 0.8512\n",
            "Epoch 3/5\n",
            "2700/2700 [==============================] - 7s 2ms/step - loss: 0.3913 - accuracy: 0.8587 - val_loss: 0.4128 - val_accuracy: 0.8493\n",
            "Epoch 4/5\n",
            "2700/2700 [==============================] - 7s 2ms/step - loss: 0.3823 - accuracy: 0.8612 - val_loss: 0.4142 - val_accuracy: 0.8508\n",
            "Epoch 5/5\n",
            "2700/2700 [==============================] - 7s 2ms/step - loss: 0.3753 - accuracy: 0.8638 - val_loss: 0.4067 - val_accuracy: 0.8529\n",
            "675/675 [==============================] - 1s 2ms/step - loss: 0.4143 - accuracy: 0.8486\n",
            "Epoch 1/5\n",
            "2700/2700 [==============================] - 7s 2ms/step - loss: 0.5283 - accuracy: 0.8114 - val_loss: 0.4344 - val_accuracy: 0.8484\n",
            "Epoch 2/5\n",
            "2700/2700 [==============================] - 6s 2ms/step - loss: 0.4178 - accuracy: 0.8505 - val_loss: 0.4236 - val_accuracy: 0.8498\n",
            "Epoch 3/5\n",
            "2700/2700 [==============================] - 6s 2ms/step - loss: 0.4054 - accuracy: 0.8532 - val_loss: 0.4169 - val_accuracy: 0.8528\n",
            "Epoch 4/5\n",
            "2700/2700 [==============================] - 6s 2ms/step - loss: 0.3947 - accuracy: 0.8560 - val_loss: 0.4134 - val_accuracy: 0.8528\n",
            "Epoch 5/5\n",
            "2700/2700 [==============================] - 6s 2ms/step - loss: 0.3855 - accuracy: 0.8588 - val_loss: 0.4068 - val_accuracy: 0.8537\n",
            "675/675 [==============================] - 1s 2ms/step - loss: 0.3997 - accuracy: 0.8569\n",
            "Epoch 1/5\n",
            "2700/2700 [==============================] - 7s 2ms/step - loss: 0.5262 - accuracy: 0.8126 - val_loss: 0.4284 - val_accuracy: 0.8502\n",
            "Epoch 2/5\n",
            "2700/2700 [==============================] - 7s 2ms/step - loss: 0.4097 - accuracy: 0.8527 - val_loss: 0.4210 - val_accuracy: 0.8510\n",
            "Epoch 3/5\n",
            "2700/2700 [==============================] - 7s 2ms/step - loss: 0.3976 - accuracy: 0.8560 - val_loss: 0.4131 - val_accuracy: 0.8520\n",
            "Epoch 4/5\n",
            "2700/2700 [==============================] - 6s 2ms/step - loss: 0.3866 - accuracy: 0.8593 - val_loss: 0.4089 - val_accuracy: 0.8526\n",
            "Epoch 5/5\n",
            "2700/2700 [==============================] - 7s 2ms/step - loss: 0.3782 - accuracy: 0.8616 - val_loss: 0.4095 - val_accuracy: 0.8505\n",
            "675/675 [==============================] - 1s 2ms/step - loss: 0.4143 - accuracy: 0.8502\n",
            "Epoch 1/5\n",
            "2700/2700 [==============================] - 7s 2ms/step - loss: 0.5067 - accuracy: 0.8167 - val_loss: 0.4385 - val_accuracy: 0.8453\n",
            "Epoch 2/5\n",
            "2700/2700 [==============================] - 7s 3ms/step - loss: 0.4094 - accuracy: 0.8529 - val_loss: 0.4120 - val_accuracy: 0.8531\n",
            "Epoch 3/5\n",
            "2700/2700 [==============================] - 6s 2ms/step - loss: 0.3895 - accuracy: 0.8582 - val_loss: 0.4079 - val_accuracy: 0.8529\n",
            "Epoch 4/5\n",
            "2700/2700 [==============================] - 6s 2ms/step - loss: 0.3746 - accuracy: 0.8634 - val_loss: 0.4035 - val_accuracy: 0.8581\n",
            "Epoch 5/5\n",
            "2700/2700 [==============================] - 7s 2ms/step - loss: 0.3614 - accuracy: 0.8681 - val_loss: 0.4037 - val_accuracy: 0.8579\n",
            "675/675 [==============================] - 1s 2ms/step - loss: 0.3913 - accuracy: 0.8584\n",
            "Epoch 1/5\n",
            "2700/2700 [==============================] - 7s 2ms/step - loss: 0.4812 - accuracy: 0.8279 - val_loss: 0.4295 - val_accuracy: 0.8486\n",
            "Epoch 2/5\n",
            "2700/2700 [==============================] - 6s 2ms/step - loss: 0.4008 - accuracy: 0.8550 - val_loss: 0.4094 - val_accuracy: 0.8533\n",
            "Epoch 3/5\n",
            "2700/2700 [==============================] - 6s 2ms/step - loss: 0.3810 - accuracy: 0.8606 - val_loss: 0.4090 - val_accuracy: 0.8534\n",
            "Epoch 4/5\n",
            "2700/2700 [==============================] - 6s 2ms/step - loss: 0.3653 - accuracy: 0.8660 - val_loss: 0.4042 - val_accuracy: 0.8556\n",
            "Epoch 5/5\n",
            "2700/2700 [==============================] - 6s 2ms/step - loss: 0.3507 - accuracy: 0.8711 - val_loss: 0.4042 - val_accuracy: 0.8577\n",
            "675/675 [==============================] - 1s 2ms/step - loss: 0.4003 - accuracy: 0.8540\n",
            "Epoch 1/5\n",
            "2700/2700 [==============================] - 7s 2ms/step - loss: 0.5021 - accuracy: 0.8143 - val_loss: 0.4262 - val_accuracy: 0.8499\n",
            "Epoch 2/5\n",
            "2700/2700 [==============================] - 6s 2ms/step - loss: 0.3960 - accuracy: 0.8564 - val_loss: 0.4069 - val_accuracy: 0.8533\n",
            "Epoch 3/5\n",
            "2700/2700 [==============================] - 7s 2ms/step - loss: 0.3782 - accuracy: 0.8615 - val_loss: 0.4005 - val_accuracy: 0.8535\n",
            "Epoch 4/5\n",
            "2700/2700 [==============================] - 7s 2ms/step - loss: 0.3642 - accuracy: 0.8657 - val_loss: 0.4025 - val_accuracy: 0.8556\n",
            "Epoch 5/5\n",
            "2700/2700 [==============================] - 6s 2ms/step - loss: 0.3519 - accuracy: 0.8700 - val_loss: 0.4000 - val_accuracy: 0.8531\n",
            "675/675 [==============================] - 1s 2ms/step - loss: 0.4077 - accuracy: 0.8509\n",
            "Epoch 1/5\n",
            "2700/2700 [==============================] - 7s 2ms/step - loss: 0.4905 - accuracy: 0.8243 - val_loss: 0.4207 - val_accuracy: 0.8490\n",
            "Epoch 2/5\n",
            "2700/2700 [==============================] - 7s 2ms/step - loss: 0.4029 - accuracy: 0.8537 - val_loss: 0.4073 - val_accuracy: 0.8538\n",
            "Epoch 3/5\n",
            "2700/2700 [==============================] - 6s 2ms/step - loss: 0.3851 - accuracy: 0.8578 - val_loss: 0.4012 - val_accuracy: 0.8557\n",
            "Epoch 4/5\n",
            "2700/2700 [==============================] - 7s 2ms/step - loss: 0.3708 - accuracy: 0.8634 - val_loss: 0.4011 - val_accuracy: 0.8545\n",
            "Epoch 5/5\n",
            "2700/2700 [==============================] - 7s 2ms/step - loss: 0.3580 - accuracy: 0.8676 - val_loss: 0.3960 - val_accuracy: 0.8583\n",
            "675/675 [==============================] - 1s 2ms/step - loss: 0.3908 - accuracy: 0.8581\n",
            "Epoch 1/5\n",
            "2700/2700 [==============================] - 7s 3ms/step - loss: 0.4895 - accuracy: 0.8245 - val_loss: 0.4189 - val_accuracy: 0.8507\n",
            "Epoch 2/5\n",
            "2700/2700 [==============================] - 7s 2ms/step - loss: 0.3948 - accuracy: 0.8556 - val_loss: 0.4076 - val_accuracy: 0.8525\n",
            "Epoch 3/5\n",
            "2700/2700 [==============================] - 7s 2ms/step - loss: 0.3749 - accuracy: 0.8618 - val_loss: 0.4026 - val_accuracy: 0.8532\n",
            "Epoch 4/5\n",
            "2700/2700 [==============================] - 7s 2ms/step - loss: 0.3605 - accuracy: 0.8667 - val_loss: 0.4008 - val_accuracy: 0.8535\n",
            "Epoch 5/5\n",
            "2700/2700 [==============================] - 7s 2ms/step - loss: 0.3479 - accuracy: 0.8704 - val_loss: 0.4033 - val_accuracy: 0.8558\n",
            "675/675 [==============================] - 1s 2ms/step - loss: 0.4035 - accuracy: 0.8556\n",
            "Epoch 1/5\n",
            "2700/2700 [==============================] - 8s 3ms/step - loss: 0.4894 - accuracy: 0.8236 - val_loss: 0.4350 - val_accuracy: 0.8447\n",
            "Epoch 2/5\n",
            "2700/2700 [==============================] - 7s 2ms/step - loss: 0.4019 - accuracy: 0.8539 - val_loss: 0.4060 - val_accuracy: 0.8537\n",
            "Epoch 3/5\n",
            "2700/2700 [==============================] - 7s 2ms/step - loss: 0.3776 - accuracy: 0.8610 - val_loss: 0.4048 - val_accuracy: 0.8546\n",
            "Epoch 4/5\n",
            "2700/2700 [==============================] - 7s 2ms/step - loss: 0.3580 - accuracy: 0.8680 - val_loss: 0.4020 - val_accuracy: 0.8556\n",
            "Epoch 5/5\n",
            "2700/2700 [==============================] - 7s 2ms/step - loss: 0.3400 - accuracy: 0.8743 - val_loss: 0.4093 - val_accuracy: 0.8543\n",
            "675/675 [==============================] - 1s 2ms/step - loss: 0.3911 - accuracy: 0.8594\n",
            "Epoch 1/5\n",
            "2700/2700 [==============================] - 7s 2ms/step - loss: 0.4812 - accuracy: 0.8267 - val_loss: 0.4302 - val_accuracy: 0.8465\n",
            "Epoch 2/5\n",
            "2700/2700 [==============================] - 6s 2ms/step - loss: 0.3986 - accuracy: 0.8547 - val_loss: 0.4086 - val_accuracy: 0.8542\n",
            "Epoch 3/5\n",
            "2700/2700 [==============================] - 6s 2ms/step - loss: 0.3749 - accuracy: 0.8617 - val_loss: 0.4086 - val_accuracy: 0.8552\n",
            "Epoch 4/5\n",
            "2700/2700 [==============================] - 7s 2ms/step - loss: 0.3546 - accuracy: 0.8693 - val_loss: 0.4056 - val_accuracy: 0.8557\n",
            "Epoch 5/5\n",
            "2700/2700 [==============================] - 6s 2ms/step - loss: 0.3353 - accuracy: 0.8777 - val_loss: 0.4117 - val_accuracy: 0.8541\n",
            "675/675 [==============================] - 1s 2ms/step - loss: 0.4024 - accuracy: 0.8525\n",
            "Epoch 1/5\n",
            "2700/2700 [==============================] - 7s 3ms/step - loss: 0.4816 - accuracy: 0.8272 - val_loss: 0.4271 - val_accuracy: 0.8483\n",
            "Epoch 2/5\n",
            "2700/2700 [==============================] - 7s 2ms/step - loss: 0.3934 - accuracy: 0.8568 - val_loss: 0.4056 - val_accuracy: 0.8521\n",
            "Epoch 3/5\n",
            "2700/2700 [==============================] - 7s 2ms/step - loss: 0.3693 - accuracy: 0.8648 - val_loss: 0.3979 - val_accuracy: 0.8555\n",
            "Epoch 4/5\n",
            "2700/2700 [==============================] - 6s 2ms/step - loss: 0.3490 - accuracy: 0.8724 - val_loss: 0.4023 - val_accuracy: 0.8539\n",
            "Epoch 5/5\n",
            "2700/2700 [==============================] - 7s 2ms/step - loss: 0.3310 - accuracy: 0.8798 - val_loss: 0.3977 - val_accuracy: 0.8562\n",
            "675/675 [==============================] - 1s 2ms/step - loss: 0.4084 - accuracy: 0.8508\n",
            "Epoch 1/5\n",
            "2700/2700 [==============================] - 7s 2ms/step - loss: 0.4868 - accuracy: 0.8250 - val_loss: 0.4202 - val_accuracy: 0.8482\n",
            "Epoch 2/5\n",
            "2700/2700 [==============================] - 6s 2ms/step - loss: 0.3986 - accuracy: 0.8533 - val_loss: 0.4043 - val_accuracy: 0.8534\n",
            "Epoch 3/5\n",
            "2700/2700 [==============================] - 7s 2ms/step - loss: 0.3756 - accuracy: 0.8602 - val_loss: 0.4011 - val_accuracy: 0.8547\n",
            "Epoch 4/5\n",
            "2700/2700 [==============================] - 7s 2ms/step - loss: 0.3563 - accuracy: 0.8678 - val_loss: 0.4022 - val_accuracy: 0.8553\n",
            "Epoch 5/5\n",
            "2700/2700 [==============================] - 7s 2ms/step - loss: 0.3382 - accuracy: 0.8749 - val_loss: 0.3997 - val_accuracy: 0.8568\n",
            "675/675 [==============================] - 1s 2ms/step - loss: 0.3862 - accuracy: 0.8605\n",
            "Epoch 1/5\n",
            "2700/2700 [==============================] - 7s 2ms/step - loss: 0.4832 - accuracy: 0.8254 - val_loss: 0.4203 - val_accuracy: 0.8514\n",
            "Epoch 2/5\n",
            "2700/2700 [==============================] - 6s 2ms/step - loss: 0.3953 - accuracy: 0.8552 - val_loss: 0.4070 - val_accuracy: 0.8526\n",
            "Epoch 3/5\n",
            "2700/2700 [==============================] - 7s 2ms/step - loss: 0.3707 - accuracy: 0.8637 - val_loss: 0.4025 - val_accuracy: 0.8537\n",
            "Epoch 4/5\n",
            "2700/2700 [==============================] - 7s 2ms/step - loss: 0.3512 - accuracy: 0.8704 - val_loss: 0.3988 - val_accuracy: 0.8573\n",
            "Epoch 5/5\n",
            "2700/2700 [==============================] - 7s 2ms/step - loss: 0.3336 - accuracy: 0.8771 - val_loss: 0.4072 - val_accuracy: 0.8568\n",
            "675/675 [==============================] - 1s 2ms/step - loss: 0.4125 - accuracy: 0.8552\n",
            "Epoch 1/5\n",
            "2700/2700 [==============================] - 7s 2ms/step - loss: 1.0687 - accuracy: 0.5734 - val_loss: 0.7785 - val_accuracy: 0.7723\n",
            "Epoch 2/5\n",
            "2700/2700 [==============================] - 7s 3ms/step - loss: 0.6266 - accuracy: 0.8015 - val_loss: 0.5406 - val_accuracy: 0.8202\n",
            "Epoch 3/5\n",
            "2700/2700 [==============================] - 7s 2ms/step - loss: 0.4971 - accuracy: 0.8304 - val_loss: 0.4834 - val_accuracy: 0.8343\n",
            "Epoch 4/5\n",
            "2700/2700 [==============================] - 7s 2ms/step - loss: 0.4572 - accuracy: 0.8423 - val_loss: 0.4604 - val_accuracy: 0.8419\n",
            "Epoch 5/5\n",
            "2700/2700 [==============================] - 6s 2ms/step - loss: 0.4370 - accuracy: 0.8484 - val_loss: 0.4478 - val_accuracy: 0.8458\n",
            "675/675 [==============================] - 1s 2ms/step - loss: 0.4332 - accuracy: 0.8470\n",
            "Epoch 1/5\n",
            "2700/2700 [==============================] - 7s 2ms/step - loss: 1.1210 - accuracy: 0.5112 - val_loss: 0.8034 - val_accuracy: 0.7576\n",
            "Epoch 2/5\n",
            "2700/2700 [==============================] - 7s 2ms/step - loss: 0.6359 - accuracy: 0.8028 - val_loss: 0.5429 - val_accuracy: 0.8226\n",
            "Epoch 3/5\n",
            "2700/2700 [==============================] - 6s 2ms/step - loss: 0.4940 - accuracy: 0.8341 - val_loss: 0.4830 - val_accuracy: 0.8358\n",
            "Epoch 4/5\n",
            "2700/2700 [==============================] - 7s 2ms/step - loss: 0.4529 - accuracy: 0.8454 - val_loss: 0.4604 - val_accuracy: 0.8415\n",
            "Epoch 5/5\n",
            "2700/2700 [==============================] - 7s 2ms/step - loss: 0.4329 - accuracy: 0.8512 - val_loss: 0.4486 - val_accuracy: 0.8458\n",
            "675/675 [==============================] - 1s 2ms/step - loss: 0.4373 - accuracy: 0.8470\n",
            "Epoch 1/5\n",
            "2700/2700 [==============================] - 7s 3ms/step - loss: 1.0633 - accuracy: 0.5933 - val_loss: 0.7517 - val_accuracy: 0.7842\n",
            "Epoch 2/5\n",
            "2700/2700 [==============================] - 7s 2ms/step - loss: 0.6011 - accuracy: 0.8207 - val_loss: 0.5287 - val_accuracy: 0.8292\n",
            "Epoch 3/5\n",
            "2700/2700 [==============================] - 7s 2ms/step - loss: 0.4797 - accuracy: 0.8417 - val_loss: 0.4753 - val_accuracy: 0.8388\n",
            "Epoch 4/5\n",
            "2700/2700 [==============================] - 7s 2ms/step - loss: 0.4426 - accuracy: 0.8501 - val_loss: 0.4551 - val_accuracy: 0.8441\n",
            "Epoch 5/5\n",
            "2700/2700 [==============================] - 6s 2ms/step - loss: 0.4251 - accuracy: 0.8545 - val_loss: 0.4445 - val_accuracy: 0.8468\n",
            "675/675 [==============================] - 1s 2ms/step - loss: 0.4464 - accuracy: 0.8442\n",
            "Epoch 1/5\n",
            "2700/2700 [==============================] - 7s 3ms/step - loss: 1.1391 - accuracy: 0.5248 - val_loss: 0.7957 - val_accuracy: 0.7679\n",
            "Epoch 2/5\n",
            "2700/2700 [==============================] - 7s 2ms/step - loss: 0.6159 - accuracy: 0.8187 - val_loss: 0.5230 - val_accuracy: 0.8306\n",
            "Epoch 3/5\n",
            "2700/2700 [==============================] - 7s 2ms/step - loss: 0.4787 - accuracy: 0.8415 - val_loss: 0.4698 - val_accuracy: 0.8438\n",
            "Epoch 4/5\n",
            "2700/2700 [==============================] - 7s 2ms/step - loss: 0.4429 - accuracy: 0.8489 - val_loss: 0.4507 - val_accuracy: 0.8462\n",
            "Epoch 5/5\n",
            "2700/2700 [==============================] - 7s 2ms/step - loss: 0.4265 - accuracy: 0.8526 - val_loss: 0.4401 - val_accuracy: 0.8493\n",
            "675/675 [==============================] - 1s 2ms/step - loss: 0.4274 - accuracy: 0.8541\n",
            "Epoch 1/5\n",
            "2700/2700 [==============================] - 7s 2ms/step - loss: 1.0169 - accuracy: 0.6202 - val_loss: 0.7010 - val_accuracy: 0.7857\n",
            "Epoch 2/5\n",
            "2700/2700 [==============================] - 6s 2ms/step - loss: 0.5901 - accuracy: 0.8100 - val_loss: 0.5404 - val_accuracy: 0.8189\n",
            "Epoch 3/5\n",
            "2700/2700 [==============================] - 7s 2ms/step - loss: 0.5014 - accuracy: 0.8294 - val_loss: 0.5018 - val_accuracy: 0.8297\n",
            "Epoch 4/5\n",
            "2700/2700 [==============================] - 7s 2ms/step - loss: 0.4728 - accuracy: 0.8365 - val_loss: 0.4866 - val_accuracy: 0.8333\n",
            "Epoch 5/5\n",
            "2700/2700 [==============================] - 7s 2ms/step - loss: 0.4587 - accuracy: 0.8407 - val_loss: 0.4789 - val_accuracy: 0.8348\n",
            "675/675 [==============================] - 1s 2ms/step - loss: 0.4778 - accuracy: 0.8350\n",
            "Epoch 1/5\n",
            "2700/2700 [==============================] - 8s 3ms/step - loss: 0.9079 - accuracy: 0.6494 - val_loss: 0.5713 - val_accuracy: 0.8131\n",
            "Epoch 2/5\n",
            "2700/2700 [==============================] - 7s 2ms/step - loss: 0.4931 - accuracy: 0.8325 - val_loss: 0.4603 - val_accuracy: 0.8418\n",
            "Epoch 3/5\n",
            "2700/2700 [==============================] - 7s 2ms/step - loss: 0.4331 - accuracy: 0.8489 - val_loss: 0.4363 - val_accuracy: 0.8482\n",
            "Epoch 4/5\n",
            "2700/2700 [==============================] - 7s 2ms/step - loss: 0.4130 - accuracy: 0.8551 - val_loss: 0.4259 - val_accuracy: 0.8497\n",
            "Epoch 5/5\n",
            "2700/2700 [==============================] - 7s 2ms/step - loss: 0.4024 - accuracy: 0.8579 - val_loss: 0.4208 - val_accuracy: 0.8507\n",
            "675/675 [==============================] - 1s 2ms/step - loss: 0.4072 - accuracy: 0.8540\n",
            "Epoch 1/5\n",
            "2700/2700 [==============================] - 7s 2ms/step - loss: 0.8542 - accuracy: 0.7038 - val_loss: 0.5226 - val_accuracy: 0.8276\n",
            "Epoch 2/5\n",
            "2700/2700 [==============================] - 7s 2ms/step - loss: 0.4649 - accuracy: 0.8429 - val_loss: 0.4526 - val_accuracy: 0.8432\n",
            "Epoch 3/5\n",
            "2700/2700 [==============================] - 7s 2ms/step - loss: 0.4244 - accuracy: 0.8528 - val_loss: 0.4360 - val_accuracy: 0.8488\n",
            "Epoch 4/5\n",
            "2700/2700 [==============================] - 7s 2ms/step - loss: 0.4090 - accuracy: 0.8559 - val_loss: 0.4278 - val_accuracy: 0.8503\n",
            "Epoch 5/5\n",
            "2700/2700 [==============================] - 6s 2ms/step - loss: 0.4004 - accuracy: 0.8587 - val_loss: 0.4235 - val_accuracy: 0.8510\n",
            "675/675 [==============================] - 1s 2ms/step - loss: 0.4173 - accuracy: 0.8506\n",
            "Epoch 1/5\n",
            "2700/2700 [==============================] - 7s 2ms/step - loss: 0.9242 - accuracy: 0.6464 - val_loss: 0.5596 - val_accuracy: 0.8212\n",
            "Epoch 2/5\n",
            "2700/2700 [==============================] - 7s 2ms/step - loss: 0.4812 - accuracy: 0.8397 - val_loss: 0.4598 - val_accuracy: 0.8447\n",
            "Epoch 3/5\n",
            "2700/2700 [==============================] - 7s 2ms/step - loss: 0.4283 - accuracy: 0.8526 - val_loss: 0.4394 - val_accuracy: 0.8484\n",
            "Epoch 4/5\n",
            "2700/2700 [==============================] - 7s 2ms/step - loss: 0.4099 - accuracy: 0.8579 - val_loss: 0.4307 - val_accuracy: 0.8509\n",
            "Epoch 5/5\n",
            "2700/2700 [==============================] - 7s 2ms/step - loss: 0.4002 - accuracy: 0.8593 - val_loss: 0.4250 - val_accuracy: 0.8509\n",
            "675/675 [==============================] - 1s 2ms/step - loss: 0.4288 - accuracy: 0.8468\n",
            "Epoch 1/5\n",
            "2700/2700 [==============================] - 7s 2ms/step - loss: 0.9096 - accuracy: 0.6698 - val_loss: 0.5654 - val_accuracy: 0.8176\n",
            "Epoch 2/5\n",
            "2700/2700 [==============================] - 7s 2ms/step - loss: 0.4937 - accuracy: 0.8316 - val_loss: 0.4634 - val_accuracy: 0.8416\n",
            "Epoch 3/5\n",
            "2700/2700 [==============================] - 7s 2ms/step - loss: 0.4374 - accuracy: 0.8468 - val_loss: 0.4406 - val_accuracy: 0.8474\n",
            "Epoch 4/5\n",
            "2700/2700 [==============================] - 7s 2ms/step - loss: 0.4177 - accuracy: 0.8529 - val_loss: 0.4312 - val_accuracy: 0.8485\n",
            "Epoch 5/5\n",
            "2700/2700 [==============================] - 7s 2ms/step - loss: 0.4074 - accuracy: 0.8562 - val_loss: 0.4256 - val_accuracy: 0.8501\n",
            "675/675 [==============================] - 1s 2ms/step - loss: 0.4139 - accuracy: 0.8556\n",
            "Epoch 1/5\n",
            "2700/2700 [==============================] - 7s 2ms/step - loss: 0.8968 - accuracy: 0.6830 - val_loss: 0.5492 - val_accuracy: 0.8211\n",
            "Epoch 2/5\n",
            "2700/2700 [==============================] - 7s 2ms/step - loss: 0.4815 - accuracy: 0.8383 - val_loss: 0.4652 - val_accuracy: 0.8407\n",
            "Epoch 3/5\n",
            "2700/2700 [==============================] - 7s 2ms/step - loss: 0.4337 - accuracy: 0.8506 - val_loss: 0.4448 - val_accuracy: 0.8497\n",
            "Epoch 4/5\n",
            "2700/2700 [==============================] - 7s 2ms/step - loss: 0.4159 - accuracy: 0.8547 - val_loss: 0.4359 - val_accuracy: 0.8508\n",
            "Epoch 5/5\n",
            "2700/2700 [==============================] - 7s 3ms/step - loss: 0.4064 - accuracy: 0.8575 - val_loss: 0.4310 - val_accuracy: 0.8509\n",
            "675/675 [==============================] - 1s 2ms/step - loss: 0.4279 - accuracy: 0.8487\n",
            "Epoch 1/5\n",
            "2700/2700 [==============================] - 7s 3ms/step - loss: 0.8493 - accuracy: 0.6958 - val_loss: 0.4939 - val_accuracy: 0.8319\n",
            "Epoch 2/5\n",
            "2700/2700 [==============================] - 6s 2ms/step - loss: 0.4518 - accuracy: 0.8452 - val_loss: 0.4407 - val_accuracy: 0.8481\n",
            "Epoch 3/5\n",
            "2700/2700 [==============================] - 7s 2ms/step - loss: 0.4185 - accuracy: 0.8540 - val_loss: 0.4273 - val_accuracy: 0.8507\n",
            "Epoch 4/5\n",
            "2700/2700 [==============================] - 6s 2ms/step - loss: 0.4052 - accuracy: 0.8580 - val_loss: 0.4203 - val_accuracy: 0.8503\n",
            "Epoch 5/5\n",
            "2700/2700 [==============================] - 7s 2ms/step - loss: 0.3974 - accuracy: 0.8598 - val_loss: 0.4173 - val_accuracy: 0.8513\n",
            "675/675 [==============================] - 1s 2ms/step - loss: 0.4044 - accuracy: 0.8559\n",
            "Epoch 1/5\n",
            "2700/2700 [==============================] - 7s 2ms/step - loss: 0.8001 - accuracy: 0.7261 - val_loss: 0.4997 - val_accuracy: 0.8307\n",
            "Epoch 2/5\n",
            "2700/2700 [==============================] - 7s 2ms/step - loss: 0.4520 - accuracy: 0.8451 - val_loss: 0.4460 - val_accuracy: 0.8459\n",
            "Epoch 3/5\n",
            "2700/2700 [==============================] - 7s 2ms/step - loss: 0.4180 - accuracy: 0.8533 - val_loss: 0.4320 - val_accuracy: 0.8502\n",
            "Epoch 4/5\n",
            "2700/2700 [==============================] - 7s 2ms/step - loss: 0.4042 - accuracy: 0.8573 - val_loss: 0.4242 - val_accuracy: 0.8511\n",
            "Epoch 5/5\n",
            "2700/2700 [==============================] - 7s 2ms/step - loss: 0.3962 - accuracy: 0.8591 - val_loss: 0.4206 - val_accuracy: 0.8506\n",
            "675/675 [==============================] - 1s 2ms/step - loss: 0.4125 - accuracy: 0.8523\n",
            "Epoch 1/5\n",
            "2700/2700 [==============================] - 7s 2ms/step - loss: 0.8073 - accuracy: 0.7171 - val_loss: 0.4957 - val_accuracy: 0.8332\n",
            "Epoch 2/5\n",
            "2700/2700 [==============================] - 7s 2ms/step - loss: 0.4483 - accuracy: 0.8454 - val_loss: 0.4425 - val_accuracy: 0.8474\n",
            "Epoch 3/5\n",
            "2700/2700 [==============================] - 7s 2ms/step - loss: 0.4147 - accuracy: 0.8540 - val_loss: 0.4287 - val_accuracy: 0.8508\n",
            "Epoch 4/5\n",
            "2700/2700 [==============================] - 7s 2ms/step - loss: 0.4005 - accuracy: 0.8586 - val_loss: 0.4218 - val_accuracy: 0.8501\n",
            "Epoch 5/5\n",
            "2700/2700 [==============================] - 7s 2ms/step - loss: 0.3920 - accuracy: 0.8611 - val_loss: 0.4170 - val_accuracy: 0.8509\n",
            "675/675 [==============================] - 1s 2ms/step - loss: 0.4246 - accuracy: 0.8475\n",
            "Epoch 1/5\n",
            "2700/2700 [==============================] - 8s 3ms/step - loss: 0.8339 - accuracy: 0.6959 - val_loss: 0.5142 - val_accuracy: 0.8304\n",
            "Epoch 2/5\n",
            "2700/2700 [==============================] - 7s 2ms/step - loss: 0.4626 - accuracy: 0.8398 - val_loss: 0.4494 - val_accuracy: 0.8468\n",
            "Epoch 3/5\n",
            "2700/2700 [==============================] - 7s 2ms/step - loss: 0.4249 - accuracy: 0.8510 - val_loss: 0.4355 - val_accuracy: 0.8508\n",
            "Epoch 4/5\n",
            "2700/2700 [==============================] - 7s 2ms/step - loss: 0.4107 - accuracy: 0.8548 - val_loss: 0.4288 - val_accuracy: 0.8508\n",
            "Epoch 5/5\n",
            "2700/2700 [==============================] - 7s 2ms/step - loss: 0.4024 - accuracy: 0.8573 - val_loss: 0.4229 - val_accuracy: 0.8513\n",
            "675/675 [==============================] - 1s 2ms/step - loss: 0.4099 - accuracy: 0.8555\n",
            "Epoch 1/5\n",
            "2700/2700 [==============================] - 7s 3ms/step - loss: 0.8082 - accuracy: 0.7183 - val_loss: 0.4984 - val_accuracy: 0.8347\n",
            "Epoch 2/5\n",
            "2700/2700 [==============================] - 7s 2ms/step - loss: 0.4486 - accuracy: 0.8466 - val_loss: 0.4475 - val_accuracy: 0.8448\n",
            "Epoch 3/5\n",
            "2700/2700 [==============================] - 7s 2ms/step - loss: 0.4169 - accuracy: 0.8552 - val_loss: 0.4332 - val_accuracy: 0.8497\n",
            "Epoch 4/5\n",
            "2700/2700 [==============================] - 7s 2ms/step - loss: 0.4036 - accuracy: 0.8578 - val_loss: 0.4263 - val_accuracy: 0.8525\n",
            "Epoch 5/5\n",
            "2700/2700 [==============================] - 7s 3ms/step - loss: 0.3958 - accuracy: 0.8595 - val_loss: 0.4219 - val_accuracy: 0.8515\n",
            "675/675 [==============================] - 1s 2ms/step - loss: 0.4224 - accuracy: 0.8526\n",
            "Epoch 1/5\n",
            "2700/2700 [==============================] - 7s 2ms/step - loss: 0.8208 - accuracy: 0.6822 - val_loss: 0.5329 - val_accuracy: 0.8277\n",
            "Epoch 2/5\n",
            "2700/2700 [==============================] - 7s 2ms/step - loss: 0.4662 - accuracy: 0.8432 - val_loss: 0.4442 - val_accuracy: 0.8483\n",
            "Epoch 3/5\n",
            "2700/2700 [==============================] - 7s 2ms/step - loss: 0.4203 - accuracy: 0.8526 - val_loss: 0.4283 - val_accuracy: 0.8497\n",
            "Epoch 4/5\n",
            "2700/2700 [==============================] - 7s 2ms/step - loss: 0.4052 - accuracy: 0.8573 - val_loss: 0.4208 - val_accuracy: 0.8498\n",
            "Epoch 5/5\n",
            "2700/2700 [==============================] - 7s 2ms/step - loss: 0.3975 - accuracy: 0.8589 - val_loss: 0.4184 - val_accuracy: 0.8505\n",
            "675/675 [==============================] - 1s 2ms/step - loss: 0.4056 - accuracy: 0.8548\n",
            "Epoch 1/5\n",
            "2700/2700 [==============================] - 7s 2ms/step - loss: 0.8164 - accuracy: 0.7237 - val_loss: 0.4941 - val_accuracy: 0.8358\n",
            "Epoch 2/5\n",
            "2700/2700 [==============================] - 7s 2ms/step - loss: 0.4514 - accuracy: 0.8480 - val_loss: 0.4455 - val_accuracy: 0.8487\n",
            "Epoch 3/5\n",
            "2700/2700 [==============================] - 7s 2ms/step - loss: 0.4208 - accuracy: 0.8547 - val_loss: 0.4346 - val_accuracy: 0.8525\n",
            "Epoch 4/5\n",
            "2700/2700 [==============================] - 7s 2ms/step - loss: 0.4090 - accuracy: 0.8577 - val_loss: 0.4294 - val_accuracy: 0.8518\n",
            "Epoch 5/5\n",
            "2700/2700 [==============================] - 7s 2ms/step - loss: 0.4024 - accuracy: 0.8593 - val_loss: 0.4271 - val_accuracy: 0.8514\n",
            "675/675 [==============================] - 1s 2ms/step - loss: 0.4191 - accuracy: 0.8531\n",
            "Epoch 1/5\n",
            "2700/2700 [==============================] - 7s 3ms/step - loss: 0.8755 - accuracy: 0.7015 - val_loss: 0.5229 - val_accuracy: 0.8365\n",
            "Epoch 2/5\n",
            "2700/2700 [==============================] - 7s 3ms/step - loss: 0.4596 - accuracy: 0.8474 - val_loss: 0.4509 - val_accuracy: 0.8472\n",
            "Epoch 3/5\n",
            "2700/2700 [==============================] - 7s 3ms/step - loss: 0.4217 - accuracy: 0.8542 - val_loss: 0.4371 - val_accuracy: 0.8503\n",
            "Epoch 4/5\n",
            "2700/2700 [==============================] - 7s 2ms/step - loss: 0.4085 - accuracy: 0.8582 - val_loss: 0.4311 - val_accuracy: 0.8496\n",
            "Epoch 5/5\n",
            "2700/2700 [==============================] - 7s 2ms/step - loss: 0.4013 - accuracy: 0.8595 - val_loss: 0.4274 - val_accuracy: 0.8515\n",
            "675/675 [==============================] - 1s 2ms/step - loss: 0.4322 - accuracy: 0.8456\n",
            "Epoch 1/5\n",
            "2700/2700 [==============================] - 7s 3ms/step - loss: 0.8048 - accuracy: 0.7128 - val_loss: 0.4951 - val_accuracy: 0.8368\n",
            "Epoch 2/5\n",
            "2700/2700 [==============================] - 7s 2ms/step - loss: 0.4497 - accuracy: 0.8450 - val_loss: 0.4401 - val_accuracy: 0.8464\n",
            "Epoch 3/5\n",
            "2700/2700 [==============================] - 7s 2ms/step - loss: 0.4169 - accuracy: 0.8521 - val_loss: 0.4279 - val_accuracy: 0.8511\n",
            "Epoch 4/5\n",
            "2700/2700 [==============================] - 7s 2ms/step - loss: 0.4041 - accuracy: 0.8561 - val_loss: 0.4222 - val_accuracy: 0.8521\n",
            "Epoch 5/5\n",
            "2700/2700 [==============================] - 7s 2ms/step - loss: 0.3970 - accuracy: 0.8580 - val_loss: 0.4173 - val_accuracy: 0.8520\n",
            "675/675 [==============================] - 1s 2ms/step - loss: 0.4055 - accuracy: 0.8571\n",
            "Epoch 1/5\n",
            "2700/2700 [==============================] - 7s 3ms/step - loss: 0.9031 - accuracy: 0.6449 - val_loss: 0.5427 - val_accuracy: 0.8166\n",
            "Epoch 2/5\n",
            "2700/2700 [==============================] - 7s 2ms/step - loss: 0.4851 - accuracy: 0.8336 - val_loss: 0.4711 - val_accuracy: 0.8371\n",
            "Epoch 3/5\n",
            "2700/2700 [==============================] - 7s 2ms/step - loss: 0.4380 - accuracy: 0.8474 - val_loss: 0.4465 - val_accuracy: 0.8457\n",
            "Epoch 4/5\n",
            "2700/2700 [==============================] - 7s 3ms/step - loss: 0.4160 - accuracy: 0.8529 - val_loss: 0.4340 - val_accuracy: 0.8472\n",
            "Epoch 5/5\n",
            "2700/2700 [==============================] - 7s 2ms/step - loss: 0.4035 - accuracy: 0.8564 - val_loss: 0.4271 - val_accuracy: 0.8483\n",
            "675/675 [==============================] - 1s 2ms/step - loss: 0.4267 - accuracy: 0.8491\n",
            "Epoch 1/5\n",
            "2700/2700 [==============================] - 7s 3ms/step - loss: 0.6988 - accuracy: 0.7546 - val_loss: 0.4555 - val_accuracy: 0.8443\n",
            "Epoch 2/5\n",
            "2700/2700 [==============================] - 7s 2ms/step - loss: 0.4251 - accuracy: 0.8518 - val_loss: 0.4276 - val_accuracy: 0.8494\n",
            "Epoch 3/5\n",
            "2700/2700 [==============================] - 7s 2ms/step - loss: 0.4047 - accuracy: 0.8565 - val_loss: 0.4212 - val_accuracy: 0.8515\n",
            "Epoch 4/5\n",
            "2700/2700 [==============================] - 7s 2ms/step - loss: 0.3954 - accuracy: 0.8591 - val_loss: 0.4148 - val_accuracy: 0.8518\n",
            "Epoch 5/5\n",
            "2700/2700 [==============================] - 7s 2ms/step - loss: 0.3890 - accuracy: 0.8603 - val_loss: 0.4121 - val_accuracy: 0.8528\n",
            "675/675 [==============================] - 1s 2ms/step - loss: 0.3998 - accuracy: 0.8562\n",
            "Epoch 1/5\n",
            "2700/2700 [==============================] - 7s 3ms/step - loss: 0.6771 - accuracy: 0.7628 - val_loss: 0.4554 - val_accuracy: 0.8426\n",
            "Epoch 2/5\n",
            "2700/2700 [==============================] - 7s 3ms/step - loss: 0.4234 - accuracy: 0.8516 - val_loss: 0.4292 - val_accuracy: 0.8503\n",
            "Epoch 3/5\n",
            "2700/2700 [==============================] - 7s 2ms/step - loss: 0.4033 - accuracy: 0.8567 - val_loss: 0.4230 - val_accuracy: 0.8510\n",
            "Epoch 4/5\n",
            "2700/2700 [==============================] - 7s 2ms/step - loss: 0.3938 - accuracy: 0.8592 - val_loss: 0.4175 - val_accuracy: 0.8505\n",
            "Epoch 5/5\n",
            "2700/2700 [==============================] - 7s 2ms/step - loss: 0.3872 - accuracy: 0.8613 - val_loss: 0.4149 - val_accuracy: 0.8497\n",
            "675/675 [==============================] - 1s 2ms/step - loss: 0.4083 - accuracy: 0.8533\n",
            "Epoch 1/5\n",
            "2700/2700 [==============================] - 7s 3ms/step - loss: 0.7193 - accuracy: 0.7375 - val_loss: 0.4638 - val_accuracy: 0.8427\n",
            "Epoch 2/5\n",
            "2700/2700 [==============================] - 7s 2ms/step - loss: 0.4280 - accuracy: 0.8510 - val_loss: 0.4319 - val_accuracy: 0.8497\n",
            "Epoch 3/5\n",
            "2700/2700 [==============================] - 7s 2ms/step - loss: 0.4059 - accuracy: 0.8566 - val_loss: 0.4234 - val_accuracy: 0.8522\n",
            "Epoch 4/5\n",
            "2700/2700 [==============================] - 7s 2ms/step - loss: 0.3958 - accuracy: 0.8597 - val_loss: 0.4198 - val_accuracy: 0.8510\n",
            "Epoch 5/5\n",
            "2700/2700 [==============================] - 7s 2ms/step - loss: 0.3892 - accuracy: 0.8618 - val_loss: 0.4153 - val_accuracy: 0.8525\n",
            "675/675 [==============================] - 1s 2ms/step - loss: 0.4230 - accuracy: 0.8469\n",
            "Epoch 1/5\n",
            "2700/2700 [==============================] - 7s 2ms/step - loss: 0.6673 - accuracy: 0.7609 - val_loss: 0.4548 - val_accuracy: 0.8432\n",
            "Epoch 2/5\n",
            "2700/2700 [==============================] - 7s 2ms/step - loss: 0.4271 - accuracy: 0.8500 - val_loss: 0.4297 - val_accuracy: 0.8508\n",
            "Epoch 3/5\n",
            "2700/2700 [==============================] - 7s 2ms/step - loss: 0.4076 - accuracy: 0.8547 - val_loss: 0.4232 - val_accuracy: 0.8519\n",
            "Epoch 4/5\n",
            "2700/2700 [==============================] - 7s 2ms/step - loss: 0.3985 - accuracy: 0.8577 - val_loss: 0.4208 - val_accuracy: 0.8518\n",
            "Epoch 5/5\n",
            "2700/2700 [==============================] - 7s 2ms/step - loss: 0.3921 - accuracy: 0.8592 - val_loss: 0.4151 - val_accuracy: 0.8512\n",
            "675/675 [==============================] - 1s 2ms/step - loss: 0.4044 - accuracy: 0.8565\n",
            "Epoch 1/5\n",
            "2700/2700 [==============================] - 7s 3ms/step - loss: 0.7006 - accuracy: 0.7512 - val_loss: 0.4581 - val_accuracy: 0.8403\n",
            "Epoch 2/5\n",
            "2700/2700 [==============================] - 7s 2ms/step - loss: 0.4258 - accuracy: 0.8516 - val_loss: 0.4308 - val_accuracy: 0.8497\n",
            "Epoch 3/5\n",
            "2700/2700 [==============================] - 7s 2ms/step - loss: 0.4058 - accuracy: 0.8569 - val_loss: 0.4227 - val_accuracy: 0.8493\n",
            "Epoch 4/5\n",
            "2700/2700 [==============================] - 7s 3ms/step - loss: 0.3958 - accuracy: 0.8589 - val_loss: 0.4185 - val_accuracy: 0.8508\n",
            "Epoch 5/5\n",
            "2700/2700 [==============================] - 7s 2ms/step - loss: 0.3888 - accuracy: 0.8602 - val_loss: 0.4148 - val_accuracy: 0.8512\n",
            "675/675 [==============================] - 1s 2ms/step - loss: 0.4187 - accuracy: 0.8527\n",
            "Epoch 1/5\n",
            "2700/2700 [==============================] - 7s 3ms/step - loss: 0.6481 - accuracy: 0.7655 - val_loss: 0.4461 - val_accuracy: 0.8450\n",
            "Epoch 2/5\n",
            "2700/2700 [==============================] - 7s 3ms/step - loss: 0.4189 - accuracy: 0.8531 - val_loss: 0.4237 - val_accuracy: 0.8499\n",
            "Epoch 3/5\n",
            "2700/2700 [==============================] - 7s 2ms/step - loss: 0.4021 - accuracy: 0.8567 - val_loss: 0.4202 - val_accuracy: 0.8505\n",
            "Epoch 4/5\n",
            "2700/2700 [==============================] - 7s 2ms/step - loss: 0.3941 - accuracy: 0.8589 - val_loss: 0.4141 - val_accuracy: 0.8514\n",
            "Epoch 5/5\n",
            "2700/2700 [==============================] - 7s 2ms/step - loss: 0.3880 - accuracy: 0.8602 - val_loss: 0.4117 - val_accuracy: 0.8508\n",
            "675/675 [==============================] - 1s 2ms/step - loss: 0.3991 - accuracy: 0.8562\n",
            "Epoch 1/5\n",
            "2700/2700 [==============================] - 7s 3ms/step - loss: 0.6456 - accuracy: 0.7756 - val_loss: 0.4518 - val_accuracy: 0.8439\n",
            "Epoch 2/5\n",
            "2700/2700 [==============================] - 7s 3ms/step - loss: 0.4210 - accuracy: 0.8523 - val_loss: 0.4294 - val_accuracy: 0.8498\n",
            "Epoch 3/5\n",
            "2700/2700 [==============================] - 7s 2ms/step - loss: 0.4030 - accuracy: 0.8572 - val_loss: 0.4243 - val_accuracy: 0.8517\n",
            "Epoch 4/5\n",
            "2700/2700 [==============================] - 7s 2ms/step - loss: 0.3936 - accuracy: 0.8592 - val_loss: 0.4179 - val_accuracy: 0.8508\n",
            "Epoch 5/5\n",
            "2700/2700 [==============================] - 7s 2ms/step - loss: 0.3865 - accuracy: 0.8613 - val_loss: 0.4147 - val_accuracy: 0.8518\n",
            "675/675 [==============================] - 1s 2ms/step - loss: 0.4093 - accuracy: 0.8521\n",
            "Epoch 1/5\n",
            "2700/2700 [==============================] - 7s 3ms/step - loss: 0.6320 - accuracy: 0.7764 - val_loss: 0.4465 - val_accuracy: 0.8458\n",
            "Epoch 2/5\n",
            "2700/2700 [==============================] - 7s 3ms/step - loss: 0.4131 - accuracy: 0.8550 - val_loss: 0.4223 - val_accuracy: 0.8509\n",
            "Epoch 3/5\n",
            "2700/2700 [==============================] - 7s 3ms/step - loss: 0.3953 - accuracy: 0.8587 - val_loss: 0.4166 - val_accuracy: 0.8518\n",
            "Epoch 4/5\n",
            "2700/2700 [==============================] - 7s 2ms/step - loss: 0.3861 - accuracy: 0.8621 - val_loss: 0.4132 - val_accuracy: 0.8501\n",
            "Epoch 5/5\n",
            "2700/2700 [==============================] - 7s 2ms/step - loss: 0.3793 - accuracy: 0.8635 - val_loss: 0.4080 - val_accuracy: 0.8546\n",
            "675/675 [==============================] - 1s 2ms/step - loss: 0.4167 - accuracy: 0.8481\n",
            "Epoch 1/5\n",
            "2700/2700 [==============================] - 7s 3ms/step - loss: 0.6340 - accuracy: 0.7769 - val_loss: 0.4428 - val_accuracy: 0.8475\n",
            "Epoch 2/5\n",
            "2700/2700 [==============================] - 7s 3ms/step - loss: 0.4179 - accuracy: 0.8522 - val_loss: 0.4225 - val_accuracy: 0.8518\n",
            "Epoch 3/5\n",
            "2700/2700 [==============================] - 7s 2ms/step - loss: 0.4012 - accuracy: 0.8560 - val_loss: 0.4176 - val_accuracy: 0.8518\n",
            "Epoch 4/5\n",
            "2700/2700 [==============================] - 7s 2ms/step - loss: 0.3919 - accuracy: 0.8595 - val_loss: 0.4166 - val_accuracy: 0.8523\n",
            "Epoch 5/5\n",
            "2700/2700 [==============================] - 7s 2ms/step - loss: 0.3844 - accuracy: 0.8610 - val_loss: 0.4107 - val_accuracy: 0.8531\n",
            "675/675 [==============================] - 1s 2ms/step - loss: 0.4007 - accuracy: 0.8586\n",
            "Epoch 1/5\n",
            "2700/2700 [==============================] - 7s 3ms/step - loss: 0.6350 - accuracy: 0.7691 - val_loss: 0.4469 - val_accuracy: 0.8420\n",
            "Epoch 2/5\n",
            "2700/2700 [==============================] - 7s 3ms/step - loss: 0.4146 - accuracy: 0.8541 - val_loss: 0.4255 - val_accuracy: 0.8484\n",
            "Epoch 3/5\n",
            "2700/2700 [==============================] - 7s 3ms/step - loss: 0.3976 - accuracy: 0.8577 - val_loss: 0.4177 - val_accuracy: 0.8513\n",
            "Epoch 4/5\n",
            "2700/2700 [==============================] - 7s 3ms/step - loss: 0.3887 - accuracy: 0.8602 - val_loss: 0.4139 - val_accuracy: 0.8519\n",
            "Epoch 5/5\n",
            "2700/2700 [==============================] - 7s 3ms/step - loss: 0.3825 - accuracy: 0.8614 - val_loss: 0.4109 - val_accuracy: 0.8518\n",
            "675/675 [==============================] - 1s 2ms/step - loss: 0.4132 - accuracy: 0.8529\n",
            "Epoch 1/5\n",
            "3375/3375 [==============================] - 9s 3ms/step - loss: 0.4758 - accuracy: 0.8300 - val_loss: 0.4149 - val_accuracy: 0.8533\n",
            "Epoch 2/5\n",
            "3375/3375 [==============================] - 8s 2ms/step - loss: 0.3960 - accuracy: 0.8557 - val_loss: 0.4048 - val_accuracy: 0.8530\n",
            "Epoch 3/5\n",
            "3375/3375 [==============================] - 8s 2ms/step - loss: 0.3772 - accuracy: 0.8615 - val_loss: 0.3979 - val_accuracy: 0.8560\n",
            "Epoch 4/5\n",
            "3375/3375 [==============================] - 8s 2ms/step - loss: 0.3634 - accuracy: 0.8666 - val_loss: 0.3946 - val_accuracy: 0.8572\n",
            "Epoch 5/5\n",
            "3375/3375 [==============================] - 8s 2ms/step - loss: 0.3511 - accuracy: 0.8711 - val_loss: 0.3942 - val_accuracy: 0.8583\n"
          ]
        },
        {
          "output_type": "execute_result",
          "data": {
            "text/plain": [
              "GridSearchCV(estimator=<keras.wrappers.scikit_learn.KerasRegressor object at 0x7f6a06760ad0>,\n",
              "             param_grid={'learning_rate': [0.001, 0.0001, 0.0002],\n",
              "                         'n_units': [8, 16, 24]})"
            ]
          },
          "metadata": {},
          "execution_count": 45
        }
      ],
      "source": [
        "\n",
        "grid_search.fit(X_train.numpy(), y_train.numpy(), epochs=5,#The number of epochs can be modified (check what happens by increasing it)\n",
        "                validation_data=(X_valid.numpy(), y_valid.numpy()))"
      ]
    },
    {
      "cell_type": "markdown",
      "metadata": {
        "id": "aadmkiOoyM94"
      },
      "source": [
        "Print the best hyper-parameters, and evealuate the best model on the test set."
      ]
    },
    {
      "cell_type": "code",
      "execution_count": null,
      "metadata": {
        "id": "b0nL5OZkylNX",
        "colab": {
          "base_uri": "https://localhost:8080/"
        },
        "outputId": "12ddd103-da8f-48ef-b003-1a7dad2f993c"
      },
      "outputs": [
        {
          "output_type": "stream",
          "name": "stdout",
          "text": [
            "{'learning_rate': 0.001, 'n_units': 16}\n",
            "238/238 [==============================] - 1s 3ms/step - loss: 0.4076 - accuracy: 0.8514\n"
          ]
        },
        {
          "output_type": "execute_result",
          "data": {
            "text/plain": [
              "[0.4075717031955719, 0.851447343826294]"
            ]
          },
          "metadata": {},
          "execution_count": 46
        }
      ],
      "source": [
        "print(grid_search.best_params_)\n",
        "\n",
        "model = grid_search.best_estimator_.model\n",
        "model.evaluate(X_test, y_test)"
      ]
    },
    {
      "cell_type": "markdown",
      "source": [
        "Noted that Grid Search takes excessive amount of time compared to other model implementations, since it runs the model over and over to try each hyperparameter combination."
      ],
      "metadata": {
        "id": "q6bdTNgr0gdf"
      }
    },
    {
      "cell_type": "code",
      "execution_count": null,
      "metadata": {
        "id": "Z-5S-3opi2Qz"
      },
      "outputs": [],
      "source": [
        ""
      ]
    }
  ],
  "metadata": {
    "colab": {
      "collapsed_sections": [],
      "name": "HW2 2222 deneme.ipynb",
      "provenance": []
    },
    "kernelspec": {
      "display_name": "Python 3",
      "language": "python",
      "name": "python3"
    },
    "language_info": {
      "codemirror_mode": {
        "name": "ipython",
        "version": 3
      },
      "file_extension": ".py",
      "mimetype": "text/x-python",
      "name": "python",
      "nbconvert_exporter": "python",
      "pygments_lexer": "ipython3",
      "version": "3.8.8"
    },
    "accelerator": "GPU",
    "widgets": {
      "application/vnd.jupyter.widget-state+json": {
        "e6e68c245f1f4eacaf936729192c0834": {
          "model_module": "@jupyter-widgets/controls",
          "model_name": "HBoxModel",
          "model_module_version": "1.5.0",
          "state": {
            "_dom_classes": [],
            "_model_module": "@jupyter-widgets/controls",
            "_model_module_version": "1.5.0",
            "_model_name": "HBoxModel",
            "_view_count": null,
            "_view_module": "@jupyter-widgets/controls",
            "_view_module_version": "1.5.0",
            "_view_name": "HBoxView",
            "box_style": "",
            "children": [
              "IPY_MODEL_96540363178643f887c40f523dec275f",
              "IPY_MODEL_0869ac2d73c34a26947ad71c85b88d46",
              "IPY_MODEL_0486aa65c1824d3a941de101046b8f2b"
            ],
            "layout": "IPY_MODEL_ad9b8f721f324421b1651011355a5765"
          }
        },
        "96540363178643f887c40f523dec275f": {
          "model_module": "@jupyter-widgets/controls",
          "model_name": "HTMLModel",
          "model_module_version": "1.5.0",
          "state": {
            "_dom_classes": [],
            "_model_module": "@jupyter-widgets/controls",
            "_model_module_version": "1.5.0",
            "_model_name": "HTMLModel",
            "_view_count": null,
            "_view_module": "@jupyter-widgets/controls",
            "_view_module_version": "1.5.0",
            "_view_name": "HTMLView",
            "description": "",
            "description_tooltip": null,
            "layout": "IPY_MODEL_79ca54531d2846ae8fd87879f774f6e5",
            "placeholder": "​",
            "style": "IPY_MODEL_b59e5ad97a434e5e8bc69e58754e1b62",
            "value": "Dl Completed...: "
          }
        },
        "0869ac2d73c34a26947ad71c85b88d46": {
          "model_module": "@jupyter-widgets/controls",
          "model_name": "FloatProgressModel",
          "model_module_version": "1.5.0",
          "state": {
            "_dom_classes": [],
            "_model_module": "@jupyter-widgets/controls",
            "_model_module_version": "1.5.0",
            "_model_name": "FloatProgressModel",
            "_view_count": null,
            "_view_module": "@jupyter-widgets/controls",
            "_view_module_version": "1.5.0",
            "_view_name": "ProgressView",
            "bar_style": "success",
            "description": "",
            "description_tooltip": null,
            "layout": "IPY_MODEL_12fdc99012f24e59874582dcaca44884",
            "max": 1,
            "min": 0,
            "orientation": "horizontal",
            "style": "IPY_MODEL_b6a603b534de4e67b83987c9ac26ea9b",
            "value": 0
          }
        },
        "0486aa65c1824d3a941de101046b8f2b": {
          "model_module": "@jupyter-widgets/controls",
          "model_name": "HTMLModel",
          "model_module_version": "1.5.0",
          "state": {
            "_dom_classes": [],
            "_model_module": "@jupyter-widgets/controls",
            "_model_module_version": "1.5.0",
            "_model_name": "HTMLModel",
            "_view_count": null,
            "_view_module": "@jupyter-widgets/controls",
            "_view_module_version": "1.5.0",
            "_view_name": "HTMLView",
            "description": "",
            "description_tooltip": null,
            "layout": "IPY_MODEL_d386f814db574d36933c2eebe911d2df",
            "placeholder": "​",
            "style": "IPY_MODEL_6ecd6d3b92594f91a4d36db41bb42d11",
            "value": " 0/0 [00:00&lt;?, ? url/s]"
          }
        },
        "ad9b8f721f324421b1651011355a5765": {
          "model_module": "@jupyter-widgets/base",
          "model_name": "LayoutModel",
          "model_module_version": "1.2.0",
          "state": {
            "_model_module": "@jupyter-widgets/base",
            "_model_module_version": "1.2.0",
            "_model_name": "LayoutModel",
            "_view_count": null,
            "_view_module": "@jupyter-widgets/base",
            "_view_module_version": "1.2.0",
            "_view_name": "LayoutView",
            "align_content": null,
            "align_items": null,
            "align_self": null,
            "border": null,
            "bottom": null,
            "display": null,
            "flex": null,
            "flex_flow": null,
            "grid_area": null,
            "grid_auto_columns": null,
            "grid_auto_flow": null,
            "grid_auto_rows": null,
            "grid_column": null,
            "grid_gap": null,
            "grid_row": null,
            "grid_template_areas": null,
            "grid_template_columns": null,
            "grid_template_rows": null,
            "height": null,
            "justify_content": null,
            "justify_items": null,
            "left": null,
            "margin": null,
            "max_height": null,
            "max_width": null,
            "min_height": null,
            "min_width": null,
            "object_fit": null,
            "object_position": null,
            "order": null,
            "overflow": null,
            "overflow_x": null,
            "overflow_y": null,
            "padding": null,
            "right": null,
            "top": null,
            "visibility": null,
            "width": null
          }
        },
        "79ca54531d2846ae8fd87879f774f6e5": {
          "model_module": "@jupyter-widgets/base",
          "model_name": "LayoutModel",
          "model_module_version": "1.2.0",
          "state": {
            "_model_module": "@jupyter-widgets/base",
            "_model_module_version": "1.2.0",
            "_model_name": "LayoutModel",
            "_view_count": null,
            "_view_module": "@jupyter-widgets/base",
            "_view_module_version": "1.2.0",
            "_view_name": "LayoutView",
            "align_content": null,
            "align_items": null,
            "align_self": null,
            "border": null,
            "bottom": null,
            "display": null,
            "flex": null,
            "flex_flow": null,
            "grid_area": null,
            "grid_auto_columns": null,
            "grid_auto_flow": null,
            "grid_auto_rows": null,
            "grid_column": null,
            "grid_gap": null,
            "grid_row": null,
            "grid_template_areas": null,
            "grid_template_columns": null,
            "grid_template_rows": null,
            "height": null,
            "justify_content": null,
            "justify_items": null,
            "left": null,
            "margin": null,
            "max_height": null,
            "max_width": null,
            "min_height": null,
            "min_width": null,
            "object_fit": null,
            "object_position": null,
            "order": null,
            "overflow": null,
            "overflow_x": null,
            "overflow_y": null,
            "padding": null,
            "right": null,
            "top": null,
            "visibility": null,
            "width": null
          }
        },
        "b59e5ad97a434e5e8bc69e58754e1b62": {
          "model_module": "@jupyter-widgets/controls",
          "model_name": "DescriptionStyleModel",
          "model_module_version": "1.5.0",
          "state": {
            "_model_module": "@jupyter-widgets/controls",
            "_model_module_version": "1.5.0",
            "_model_name": "DescriptionStyleModel",
            "_view_count": null,
            "_view_module": "@jupyter-widgets/base",
            "_view_module_version": "1.2.0",
            "_view_name": "StyleView",
            "description_width": ""
          }
        },
        "12fdc99012f24e59874582dcaca44884": {
          "model_module": "@jupyter-widgets/base",
          "model_name": "LayoutModel",
          "model_module_version": "1.2.0",
          "state": {
            "_model_module": "@jupyter-widgets/base",
            "_model_module_version": "1.2.0",
            "_model_name": "LayoutModel",
            "_view_count": null,
            "_view_module": "@jupyter-widgets/base",
            "_view_module_version": "1.2.0",
            "_view_name": "LayoutView",
            "align_content": null,
            "align_items": null,
            "align_self": null,
            "border": null,
            "bottom": null,
            "display": null,
            "flex": null,
            "flex_flow": null,
            "grid_area": null,
            "grid_auto_columns": null,
            "grid_auto_flow": null,
            "grid_auto_rows": null,
            "grid_column": null,
            "grid_gap": null,
            "grid_row": null,
            "grid_template_areas": null,
            "grid_template_columns": null,
            "grid_template_rows": null,
            "height": null,
            "justify_content": null,
            "justify_items": null,
            "left": null,
            "margin": null,
            "max_height": null,
            "max_width": null,
            "min_height": null,
            "min_width": null,
            "object_fit": null,
            "object_position": null,
            "order": null,
            "overflow": null,
            "overflow_x": null,
            "overflow_y": null,
            "padding": null,
            "right": null,
            "top": null,
            "visibility": null,
            "width": "20px"
          }
        },
        "b6a603b534de4e67b83987c9ac26ea9b": {
          "model_module": "@jupyter-widgets/controls",
          "model_name": "ProgressStyleModel",
          "model_module_version": "1.5.0",
          "state": {
            "_model_module": "@jupyter-widgets/controls",
            "_model_module_version": "1.5.0",
            "_model_name": "ProgressStyleModel",
            "_view_count": null,
            "_view_module": "@jupyter-widgets/base",
            "_view_module_version": "1.2.0",
            "_view_name": "StyleView",
            "bar_color": null,
            "description_width": ""
          }
        },
        "d386f814db574d36933c2eebe911d2df": {
          "model_module": "@jupyter-widgets/base",
          "model_name": "LayoutModel",
          "model_module_version": "1.2.0",
          "state": {
            "_model_module": "@jupyter-widgets/base",
            "_model_module_version": "1.2.0",
            "_model_name": "LayoutModel",
            "_view_count": null,
            "_view_module": "@jupyter-widgets/base",
            "_view_module_version": "1.2.0",
            "_view_name": "LayoutView",
            "align_content": null,
            "align_items": null,
            "align_self": null,
            "border": null,
            "bottom": null,
            "display": null,
            "flex": null,
            "flex_flow": null,
            "grid_area": null,
            "grid_auto_columns": null,
            "grid_auto_flow": null,
            "grid_auto_rows": null,
            "grid_column": null,
            "grid_gap": null,
            "grid_row": null,
            "grid_template_areas": null,
            "grid_template_columns": null,
            "grid_template_rows": null,
            "height": null,
            "justify_content": null,
            "justify_items": null,
            "left": null,
            "margin": null,
            "max_height": null,
            "max_width": null,
            "min_height": null,
            "min_width": null,
            "object_fit": null,
            "object_position": null,
            "order": null,
            "overflow": null,
            "overflow_x": null,
            "overflow_y": null,
            "padding": null,
            "right": null,
            "top": null,
            "visibility": null,
            "width": null
          }
        },
        "6ecd6d3b92594f91a4d36db41bb42d11": {
          "model_module": "@jupyter-widgets/controls",
          "model_name": "DescriptionStyleModel",
          "model_module_version": "1.5.0",
          "state": {
            "_model_module": "@jupyter-widgets/controls",
            "_model_module_version": "1.5.0",
            "_model_name": "DescriptionStyleModel",
            "_view_count": null,
            "_view_module": "@jupyter-widgets/base",
            "_view_module_version": "1.2.0",
            "_view_name": "StyleView",
            "description_width": ""
          }
        },
        "cca9c90d4324483cb50134a2ff5b0e18": {
          "model_module": "@jupyter-widgets/controls",
          "model_name": "HBoxModel",
          "model_module_version": "1.5.0",
          "state": {
            "_dom_classes": [],
            "_model_module": "@jupyter-widgets/controls",
            "_model_module_version": "1.5.0",
            "_model_name": "HBoxModel",
            "_view_count": null,
            "_view_module": "@jupyter-widgets/controls",
            "_view_module_version": "1.5.0",
            "_view_name": "HBoxView",
            "box_style": "",
            "children": [
              "IPY_MODEL_12bcf399570d47b5830d3a5d7c4c78ec",
              "IPY_MODEL_8dd5f4cc29824082883e606134c5b1f5",
              "IPY_MODEL_f3183d920c9d4f10b2d05ec06057c0a1"
            ],
            "layout": "IPY_MODEL_d69e9ee0ba7e4b10b7bfc42b073cdd7f"
          }
        },
        "12bcf399570d47b5830d3a5d7c4c78ec": {
          "model_module": "@jupyter-widgets/controls",
          "model_name": "HTMLModel",
          "model_module_version": "1.5.0",
          "state": {
            "_dom_classes": [],
            "_model_module": "@jupyter-widgets/controls",
            "_model_module_version": "1.5.0",
            "_model_name": "HTMLModel",
            "_view_count": null,
            "_view_module": "@jupyter-widgets/controls",
            "_view_module_version": "1.5.0",
            "_view_name": "HTMLView",
            "description": "",
            "description_tooltip": null,
            "layout": "IPY_MODEL_259ba8bec8b94b1b84437f6aa474cb2a",
            "placeholder": "​",
            "style": "IPY_MODEL_3c9c6f8eaafb47b9b78b6923643b1679",
            "value": "Dl Size...: "
          }
        },
        "8dd5f4cc29824082883e606134c5b1f5": {
          "model_module": "@jupyter-widgets/controls",
          "model_name": "FloatProgressModel",
          "model_module_version": "1.5.0",
          "state": {
            "_dom_classes": [],
            "_model_module": "@jupyter-widgets/controls",
            "_model_module_version": "1.5.0",
            "_model_name": "FloatProgressModel",
            "_view_count": null,
            "_view_module": "@jupyter-widgets/controls",
            "_view_module_version": "1.5.0",
            "_view_name": "ProgressView",
            "bar_style": "success",
            "description": "",
            "description_tooltip": null,
            "layout": "IPY_MODEL_3e4484cf94be46109708436569404468",
            "max": 1,
            "min": 0,
            "orientation": "horizontal",
            "style": "IPY_MODEL_086781a3d45f443697a0d654f9a50fe6",
            "value": 0
          }
        },
        "f3183d920c9d4f10b2d05ec06057c0a1": {
          "model_module": "@jupyter-widgets/controls",
          "model_name": "HTMLModel",
          "model_module_version": "1.5.0",
          "state": {
            "_dom_classes": [],
            "_model_module": "@jupyter-widgets/controls",
            "_model_module_version": "1.5.0",
            "_model_name": "HTMLModel",
            "_view_count": null,
            "_view_module": "@jupyter-widgets/controls",
            "_view_module_version": "1.5.0",
            "_view_name": "HTMLView",
            "description": "",
            "description_tooltip": null,
            "layout": "IPY_MODEL_880306e7ec394318a86b91ad892b71e0",
            "placeholder": "​",
            "style": "IPY_MODEL_57c6e4aedf6d4720a71951eeacd54a90",
            "value": " 0/0 [00:00&lt;?, ? MiB/s]"
          }
        },
        "d69e9ee0ba7e4b10b7bfc42b073cdd7f": {
          "model_module": "@jupyter-widgets/base",
          "model_name": "LayoutModel",
          "model_module_version": "1.2.0",
          "state": {
            "_model_module": "@jupyter-widgets/base",
            "_model_module_version": "1.2.0",
            "_model_name": "LayoutModel",
            "_view_count": null,
            "_view_module": "@jupyter-widgets/base",
            "_view_module_version": "1.2.0",
            "_view_name": "LayoutView",
            "align_content": null,
            "align_items": null,
            "align_self": null,
            "border": null,
            "bottom": null,
            "display": null,
            "flex": null,
            "flex_flow": null,
            "grid_area": null,
            "grid_auto_columns": null,
            "grid_auto_flow": null,
            "grid_auto_rows": null,
            "grid_column": null,
            "grid_gap": null,
            "grid_row": null,
            "grid_template_areas": null,
            "grid_template_columns": null,
            "grid_template_rows": null,
            "height": null,
            "justify_content": null,
            "justify_items": null,
            "left": null,
            "margin": null,
            "max_height": null,
            "max_width": null,
            "min_height": null,
            "min_width": null,
            "object_fit": null,
            "object_position": null,
            "order": null,
            "overflow": null,
            "overflow_x": null,
            "overflow_y": null,
            "padding": null,
            "right": null,
            "top": null,
            "visibility": null,
            "width": null
          }
        },
        "259ba8bec8b94b1b84437f6aa474cb2a": {
          "model_module": "@jupyter-widgets/base",
          "model_name": "LayoutModel",
          "model_module_version": "1.2.0",
          "state": {
            "_model_module": "@jupyter-widgets/base",
            "_model_module_version": "1.2.0",
            "_model_name": "LayoutModel",
            "_view_count": null,
            "_view_module": "@jupyter-widgets/base",
            "_view_module_version": "1.2.0",
            "_view_name": "LayoutView",
            "align_content": null,
            "align_items": null,
            "align_self": null,
            "border": null,
            "bottom": null,
            "display": null,
            "flex": null,
            "flex_flow": null,
            "grid_area": null,
            "grid_auto_columns": null,
            "grid_auto_flow": null,
            "grid_auto_rows": null,
            "grid_column": null,
            "grid_gap": null,
            "grid_row": null,
            "grid_template_areas": null,
            "grid_template_columns": null,
            "grid_template_rows": null,
            "height": null,
            "justify_content": null,
            "justify_items": null,
            "left": null,
            "margin": null,
            "max_height": null,
            "max_width": null,
            "min_height": null,
            "min_width": null,
            "object_fit": null,
            "object_position": null,
            "order": null,
            "overflow": null,
            "overflow_x": null,
            "overflow_y": null,
            "padding": null,
            "right": null,
            "top": null,
            "visibility": null,
            "width": null
          }
        },
        "3c9c6f8eaafb47b9b78b6923643b1679": {
          "model_module": "@jupyter-widgets/controls",
          "model_name": "DescriptionStyleModel",
          "model_module_version": "1.5.0",
          "state": {
            "_model_module": "@jupyter-widgets/controls",
            "_model_module_version": "1.5.0",
            "_model_name": "DescriptionStyleModel",
            "_view_count": null,
            "_view_module": "@jupyter-widgets/base",
            "_view_module_version": "1.2.0",
            "_view_name": "StyleView",
            "description_width": ""
          }
        },
        "3e4484cf94be46109708436569404468": {
          "model_module": "@jupyter-widgets/base",
          "model_name": "LayoutModel",
          "model_module_version": "1.2.0",
          "state": {
            "_model_module": "@jupyter-widgets/base",
            "_model_module_version": "1.2.0",
            "_model_name": "LayoutModel",
            "_view_count": null,
            "_view_module": "@jupyter-widgets/base",
            "_view_module_version": "1.2.0",
            "_view_name": "LayoutView",
            "align_content": null,
            "align_items": null,
            "align_self": null,
            "border": null,
            "bottom": null,
            "display": null,
            "flex": null,
            "flex_flow": null,
            "grid_area": null,
            "grid_auto_columns": null,
            "grid_auto_flow": null,
            "grid_auto_rows": null,
            "grid_column": null,
            "grid_gap": null,
            "grid_row": null,
            "grid_template_areas": null,
            "grid_template_columns": null,
            "grid_template_rows": null,
            "height": null,
            "justify_content": null,
            "justify_items": null,
            "left": null,
            "margin": null,
            "max_height": null,
            "max_width": null,
            "min_height": null,
            "min_width": null,
            "object_fit": null,
            "object_position": null,
            "order": null,
            "overflow": null,
            "overflow_x": null,
            "overflow_y": null,
            "padding": null,
            "right": null,
            "top": null,
            "visibility": null,
            "width": "20px"
          }
        },
        "086781a3d45f443697a0d654f9a50fe6": {
          "model_module": "@jupyter-widgets/controls",
          "model_name": "ProgressStyleModel",
          "model_module_version": "1.5.0",
          "state": {
            "_model_module": "@jupyter-widgets/controls",
            "_model_module_version": "1.5.0",
            "_model_name": "ProgressStyleModel",
            "_view_count": null,
            "_view_module": "@jupyter-widgets/base",
            "_view_module_version": "1.2.0",
            "_view_name": "StyleView",
            "bar_color": null,
            "description_width": ""
          }
        },
        "880306e7ec394318a86b91ad892b71e0": {
          "model_module": "@jupyter-widgets/base",
          "model_name": "LayoutModel",
          "model_module_version": "1.2.0",
          "state": {
            "_model_module": "@jupyter-widgets/base",
            "_model_module_version": "1.2.0",
            "_model_name": "LayoutModel",
            "_view_count": null,
            "_view_module": "@jupyter-widgets/base",
            "_view_module_version": "1.2.0",
            "_view_name": "LayoutView",
            "align_content": null,
            "align_items": null,
            "align_self": null,
            "border": null,
            "bottom": null,
            "display": null,
            "flex": null,
            "flex_flow": null,
            "grid_area": null,
            "grid_auto_columns": null,
            "grid_auto_flow": null,
            "grid_auto_rows": null,
            "grid_column": null,
            "grid_gap": null,
            "grid_row": null,
            "grid_template_areas": null,
            "grid_template_columns": null,
            "grid_template_rows": null,
            "height": null,
            "justify_content": null,
            "justify_items": null,
            "left": null,
            "margin": null,
            "max_height": null,
            "max_width": null,
            "min_height": null,
            "min_width": null,
            "object_fit": null,
            "object_position": null,
            "order": null,
            "overflow": null,
            "overflow_x": null,
            "overflow_y": null,
            "padding": null,
            "right": null,
            "top": null,
            "visibility": null,
            "width": null
          }
        },
        "57c6e4aedf6d4720a71951eeacd54a90": {
          "model_module": "@jupyter-widgets/controls",
          "model_name": "DescriptionStyleModel",
          "model_module_version": "1.5.0",
          "state": {
            "_model_module": "@jupyter-widgets/controls",
            "_model_module_version": "1.5.0",
            "_model_name": "DescriptionStyleModel",
            "_view_count": null,
            "_view_module": "@jupyter-widgets/base",
            "_view_module_version": "1.2.0",
            "_view_name": "StyleView",
            "description_width": ""
          }
        },
        "c9b9effad51143f9a54882893cdfcbdb": {
          "model_module": "@jupyter-widgets/controls",
          "model_name": "HBoxModel",
          "model_module_version": "1.5.0",
          "state": {
            "_dom_classes": [],
            "_model_module": "@jupyter-widgets/controls",
            "_model_module_version": "1.5.0",
            "_model_name": "HBoxModel",
            "_view_count": null,
            "_view_module": "@jupyter-widgets/controls",
            "_view_module_version": "1.5.0",
            "_view_name": "HBoxView",
            "box_style": "",
            "children": [
              "IPY_MODEL_009e241ccdb94915b7b4f1f8fa6231cb",
              "IPY_MODEL_20dc801324884e9c8592a64182b3dc85",
              "IPY_MODEL_cb17ca40ea1d4fca94eb10783fee7578"
            ],
            "layout": "IPY_MODEL_1a44e987293e454abc25233c4c153e58"
          }
        },
        "009e241ccdb94915b7b4f1f8fa6231cb": {
          "model_module": "@jupyter-widgets/controls",
          "model_name": "HTMLModel",
          "model_module_version": "1.5.0",
          "state": {
            "_dom_classes": [],
            "_model_module": "@jupyter-widgets/controls",
            "_model_module_version": "1.5.0",
            "_model_name": "HTMLModel",
            "_view_count": null,
            "_view_module": "@jupyter-widgets/controls",
            "_view_module_version": "1.5.0",
            "_view_name": "HTMLView",
            "description": "",
            "description_tooltip": null,
            "layout": "IPY_MODEL_fad84c40d8ad48a889f668e6bd93d5cb",
            "placeholder": "​",
            "style": "IPY_MODEL_f5a1a45493e9441e8c6eedf826f36ef8",
            "value": "Extraction completed...: 100%"
          }
        },
        "20dc801324884e9c8592a64182b3dc85": {
          "model_module": "@jupyter-widgets/controls",
          "model_name": "FloatProgressModel",
          "model_module_version": "1.5.0",
          "state": {
            "_dom_classes": [],
            "_model_module": "@jupyter-widgets/controls",
            "_model_module_version": "1.5.0",
            "_model_name": "FloatProgressModel",
            "_view_count": null,
            "_view_module": "@jupyter-widgets/controls",
            "_view_module_version": "1.5.0",
            "_view_name": "ProgressView",
            "bar_style": "success",
            "description": "",
            "description_tooltip": null,
            "layout": "IPY_MODEL_42d4e689d1ea49988e6af207fa0261ba",
            "max": 1,
            "min": 0,
            "orientation": "horizontal",
            "style": "IPY_MODEL_dd27142790734c82bddc86f7d8b5595b",
            "value": 1
          }
        },
        "cb17ca40ea1d4fca94eb10783fee7578": {
          "model_module": "@jupyter-widgets/controls",
          "model_name": "HTMLModel",
          "model_module_version": "1.5.0",
          "state": {
            "_dom_classes": [],
            "_model_module": "@jupyter-widgets/controls",
            "_model_module_version": "1.5.0",
            "_model_name": "HTMLModel",
            "_view_count": null,
            "_view_module": "@jupyter-widgets/controls",
            "_view_module_version": "1.5.0",
            "_view_name": "HTMLView",
            "description": "",
            "description_tooltip": null,
            "layout": "IPY_MODEL_2b1c8c78b0ac49a89b32a5b3b7aba568",
            "placeholder": "​",
            "style": "IPY_MODEL_819765ec251f48e2a0dbddbe94ccef86",
            "value": " 1/1 [00:00&lt;00:00,  2.25 file/s]"
          }
        },
        "1a44e987293e454abc25233c4c153e58": {
          "model_module": "@jupyter-widgets/base",
          "model_name": "LayoutModel",
          "model_module_version": "1.2.0",
          "state": {
            "_model_module": "@jupyter-widgets/base",
            "_model_module_version": "1.2.0",
            "_model_name": "LayoutModel",
            "_view_count": null,
            "_view_module": "@jupyter-widgets/base",
            "_view_module_version": "1.2.0",
            "_view_name": "LayoutView",
            "align_content": null,
            "align_items": null,
            "align_self": null,
            "border": null,
            "bottom": null,
            "display": null,
            "flex": null,
            "flex_flow": null,
            "grid_area": null,
            "grid_auto_columns": null,
            "grid_auto_flow": null,
            "grid_auto_rows": null,
            "grid_column": null,
            "grid_gap": null,
            "grid_row": null,
            "grid_template_areas": null,
            "grid_template_columns": null,
            "grid_template_rows": null,
            "height": null,
            "justify_content": null,
            "justify_items": null,
            "left": null,
            "margin": null,
            "max_height": null,
            "max_width": null,
            "min_height": null,
            "min_width": null,
            "object_fit": null,
            "object_position": null,
            "order": null,
            "overflow": null,
            "overflow_x": null,
            "overflow_y": null,
            "padding": null,
            "right": null,
            "top": null,
            "visibility": null,
            "width": null
          }
        },
        "fad84c40d8ad48a889f668e6bd93d5cb": {
          "model_module": "@jupyter-widgets/base",
          "model_name": "LayoutModel",
          "model_module_version": "1.2.0",
          "state": {
            "_model_module": "@jupyter-widgets/base",
            "_model_module_version": "1.2.0",
            "_model_name": "LayoutModel",
            "_view_count": null,
            "_view_module": "@jupyter-widgets/base",
            "_view_module_version": "1.2.0",
            "_view_name": "LayoutView",
            "align_content": null,
            "align_items": null,
            "align_self": null,
            "border": null,
            "bottom": null,
            "display": null,
            "flex": null,
            "flex_flow": null,
            "grid_area": null,
            "grid_auto_columns": null,
            "grid_auto_flow": null,
            "grid_auto_rows": null,
            "grid_column": null,
            "grid_gap": null,
            "grid_row": null,
            "grid_template_areas": null,
            "grid_template_columns": null,
            "grid_template_rows": null,
            "height": null,
            "justify_content": null,
            "justify_items": null,
            "left": null,
            "margin": null,
            "max_height": null,
            "max_width": null,
            "min_height": null,
            "min_width": null,
            "object_fit": null,
            "object_position": null,
            "order": null,
            "overflow": null,
            "overflow_x": null,
            "overflow_y": null,
            "padding": null,
            "right": null,
            "top": null,
            "visibility": null,
            "width": null
          }
        },
        "f5a1a45493e9441e8c6eedf826f36ef8": {
          "model_module": "@jupyter-widgets/controls",
          "model_name": "DescriptionStyleModel",
          "model_module_version": "1.5.0",
          "state": {
            "_model_module": "@jupyter-widgets/controls",
            "_model_module_version": "1.5.0",
            "_model_name": "DescriptionStyleModel",
            "_view_count": null,
            "_view_module": "@jupyter-widgets/base",
            "_view_module_version": "1.2.0",
            "_view_name": "StyleView",
            "description_width": ""
          }
        },
        "42d4e689d1ea49988e6af207fa0261ba": {
          "model_module": "@jupyter-widgets/base",
          "model_name": "LayoutModel",
          "model_module_version": "1.2.0",
          "state": {
            "_model_module": "@jupyter-widgets/base",
            "_model_module_version": "1.2.0",
            "_model_name": "LayoutModel",
            "_view_count": null,
            "_view_module": "@jupyter-widgets/base",
            "_view_module_version": "1.2.0",
            "_view_name": "LayoutView",
            "align_content": null,
            "align_items": null,
            "align_self": null,
            "border": null,
            "bottom": null,
            "display": null,
            "flex": null,
            "flex_flow": null,
            "grid_area": null,
            "grid_auto_columns": null,
            "grid_auto_flow": null,
            "grid_auto_rows": null,
            "grid_column": null,
            "grid_gap": null,
            "grid_row": null,
            "grid_template_areas": null,
            "grid_template_columns": null,
            "grid_template_rows": null,
            "height": null,
            "justify_content": null,
            "justify_items": null,
            "left": null,
            "margin": null,
            "max_height": null,
            "max_width": null,
            "min_height": null,
            "min_width": null,
            "object_fit": null,
            "object_position": null,
            "order": null,
            "overflow": null,
            "overflow_x": null,
            "overflow_y": null,
            "padding": null,
            "right": null,
            "top": null,
            "visibility": null,
            "width": "20px"
          }
        },
        "dd27142790734c82bddc86f7d8b5595b": {
          "model_module": "@jupyter-widgets/controls",
          "model_name": "ProgressStyleModel",
          "model_module_version": "1.5.0",
          "state": {
            "_model_module": "@jupyter-widgets/controls",
            "_model_module_version": "1.5.0",
            "_model_name": "ProgressStyleModel",
            "_view_count": null,
            "_view_module": "@jupyter-widgets/base",
            "_view_module_version": "1.2.0",
            "_view_name": "StyleView",
            "bar_color": null,
            "description_width": ""
          }
        },
        "2b1c8c78b0ac49a89b32a5b3b7aba568": {
          "model_module": "@jupyter-widgets/base",
          "model_name": "LayoutModel",
          "model_module_version": "1.2.0",
          "state": {
            "_model_module": "@jupyter-widgets/base",
            "_model_module_version": "1.2.0",
            "_model_name": "LayoutModel",
            "_view_count": null,
            "_view_module": "@jupyter-widgets/base",
            "_view_module_version": "1.2.0",
            "_view_name": "LayoutView",
            "align_content": null,
            "align_items": null,
            "align_self": null,
            "border": null,
            "bottom": null,
            "display": null,
            "flex": null,
            "flex_flow": null,
            "grid_area": null,
            "grid_auto_columns": null,
            "grid_auto_flow": null,
            "grid_auto_rows": null,
            "grid_column": null,
            "grid_gap": null,
            "grid_row": null,
            "grid_template_areas": null,
            "grid_template_columns": null,
            "grid_template_rows": null,
            "height": null,
            "justify_content": null,
            "justify_items": null,
            "left": null,
            "margin": null,
            "max_height": null,
            "max_width": null,
            "min_height": null,
            "min_width": null,
            "object_fit": null,
            "object_position": null,
            "order": null,
            "overflow": null,
            "overflow_x": null,
            "overflow_y": null,
            "padding": null,
            "right": null,
            "top": null,
            "visibility": null,
            "width": null
          }
        },
        "819765ec251f48e2a0dbddbe94ccef86": {
          "model_module": "@jupyter-widgets/controls",
          "model_name": "DescriptionStyleModel",
          "model_module_version": "1.5.0",
          "state": {
            "_model_module": "@jupyter-widgets/controls",
            "_model_module_version": "1.5.0",
            "_model_name": "DescriptionStyleModel",
            "_view_count": null,
            "_view_module": "@jupyter-widgets/base",
            "_view_module_version": "1.2.0",
            "_view_name": "StyleView",
            "description_width": ""
          }
        },
        "629c755b9f2b481991804dcef5ca098a": {
          "model_module": "@jupyter-widgets/controls",
          "model_name": "HBoxModel",
          "model_module_version": "1.5.0",
          "state": {
            "_dom_classes": [],
            "_model_module": "@jupyter-widgets/controls",
            "_model_module_version": "1.5.0",
            "_model_name": "HBoxModel",
            "_view_count": null,
            "_view_module": "@jupyter-widgets/controls",
            "_view_module_version": "1.5.0",
            "_view_name": "HBoxView",
            "box_style": "",
            "children": [
              "IPY_MODEL_8701917f6cc143b8a4e73761730b2f58",
              "IPY_MODEL_8f325b4ab57e48dc85b069d004feb186",
              "IPY_MODEL_88635a70ceaf42d6ba516953a9c927b1"
            ],
            "layout": "IPY_MODEL_5297b7eb80fc4acfa19771bb666dfeec"
          }
        },
        "8701917f6cc143b8a4e73761730b2f58": {
          "model_module": "@jupyter-widgets/controls",
          "model_name": "HTMLModel",
          "model_module_version": "1.5.0",
          "state": {
            "_dom_classes": [],
            "_model_module": "@jupyter-widgets/controls",
            "_model_module_version": "1.5.0",
            "_model_name": "HTMLModel",
            "_view_count": null,
            "_view_module": "@jupyter-widgets/controls",
            "_view_module_version": "1.5.0",
            "_view_name": "HTMLView",
            "description": "",
            "description_tooltip": null,
            "layout": "IPY_MODEL_1ee624ee57c94c6b84307bd8e6d7709a",
            "placeholder": "​",
            "style": "IPY_MODEL_ea6f31f68d11458fa3128d6321679642",
            "value": ""
          }
        },
        "8f325b4ab57e48dc85b069d004feb186": {
          "model_module": "@jupyter-widgets/controls",
          "model_name": "FloatProgressModel",
          "model_module_version": "1.5.0",
          "state": {
            "_dom_classes": [],
            "_model_module": "@jupyter-widgets/controls",
            "_model_module_version": "1.5.0",
            "_model_name": "FloatProgressModel",
            "_view_count": null,
            "_view_module": "@jupyter-widgets/controls",
            "_view_module_version": "1.5.0",
            "_view_name": "ProgressView",
            "bar_style": "info",
            "description": "",
            "description_tooltip": null,
            "layout": "IPY_MODEL_8457bc55cc5c481cade496367da5b68b",
            "max": 1,
            "min": 0,
            "orientation": "horizontal",
            "style": "IPY_MODEL_a466807985ae435da517003390480cb7",
            "value": 1
          }
        },
        "88635a70ceaf42d6ba516953a9c927b1": {
          "model_module": "@jupyter-widgets/controls",
          "model_name": "HTMLModel",
          "model_module_version": "1.5.0",
          "state": {
            "_dom_classes": [],
            "_model_module": "@jupyter-widgets/controls",
            "_model_module_version": "1.5.0",
            "_model_name": "HTMLModel",
            "_view_count": null,
            "_view_module": "@jupyter-widgets/controls",
            "_view_module_version": "1.5.0",
            "_view_name": "HTMLView",
            "description": "",
            "description_tooltip": null,
            "layout": "IPY_MODEL_120ed6b28424472a8574df83b3610074",
            "placeholder": "​",
            "style": "IPY_MODEL_8440395da095462096e58ba60844744b",
            "value": " 119935/0 [00:27&lt;00:00, 4396.17 examples/s]"
          }
        },
        "5297b7eb80fc4acfa19771bb666dfeec": {
          "model_module": "@jupyter-widgets/base",
          "model_name": "LayoutModel",
          "model_module_version": "1.2.0",
          "state": {
            "_model_module": "@jupyter-widgets/base",
            "_model_module_version": "1.2.0",
            "_model_name": "LayoutModel",
            "_view_count": null,
            "_view_module": "@jupyter-widgets/base",
            "_view_module_version": "1.2.0",
            "_view_name": "LayoutView",
            "align_content": null,
            "align_items": null,
            "align_self": null,
            "border": null,
            "bottom": null,
            "display": null,
            "flex": null,
            "flex_flow": null,
            "grid_area": null,
            "grid_auto_columns": null,
            "grid_auto_flow": null,
            "grid_auto_rows": null,
            "grid_column": null,
            "grid_gap": null,
            "grid_row": null,
            "grid_template_areas": null,
            "grid_template_columns": null,
            "grid_template_rows": null,
            "height": null,
            "justify_content": null,
            "justify_items": null,
            "left": null,
            "margin": null,
            "max_height": null,
            "max_width": null,
            "min_height": null,
            "min_width": null,
            "object_fit": null,
            "object_position": null,
            "order": null,
            "overflow": null,
            "overflow_x": null,
            "overflow_y": null,
            "padding": null,
            "right": null,
            "top": null,
            "visibility": null,
            "width": null
          }
        },
        "1ee624ee57c94c6b84307bd8e6d7709a": {
          "model_module": "@jupyter-widgets/base",
          "model_name": "LayoutModel",
          "model_module_version": "1.2.0",
          "state": {
            "_model_module": "@jupyter-widgets/base",
            "_model_module_version": "1.2.0",
            "_model_name": "LayoutModel",
            "_view_count": null,
            "_view_module": "@jupyter-widgets/base",
            "_view_module_version": "1.2.0",
            "_view_name": "LayoutView",
            "align_content": null,
            "align_items": null,
            "align_self": null,
            "border": null,
            "bottom": null,
            "display": null,
            "flex": null,
            "flex_flow": null,
            "grid_area": null,
            "grid_auto_columns": null,
            "grid_auto_flow": null,
            "grid_auto_rows": null,
            "grid_column": null,
            "grid_gap": null,
            "grid_row": null,
            "grid_template_areas": null,
            "grid_template_columns": null,
            "grid_template_rows": null,
            "height": null,
            "justify_content": null,
            "justify_items": null,
            "left": null,
            "margin": null,
            "max_height": null,
            "max_width": null,
            "min_height": null,
            "min_width": null,
            "object_fit": null,
            "object_position": null,
            "order": null,
            "overflow": null,
            "overflow_x": null,
            "overflow_y": null,
            "padding": null,
            "right": null,
            "top": null,
            "visibility": null,
            "width": null
          }
        },
        "ea6f31f68d11458fa3128d6321679642": {
          "model_module": "@jupyter-widgets/controls",
          "model_name": "DescriptionStyleModel",
          "model_module_version": "1.5.0",
          "state": {
            "_model_module": "@jupyter-widgets/controls",
            "_model_module_version": "1.5.0",
            "_model_name": "DescriptionStyleModel",
            "_view_count": null,
            "_view_module": "@jupyter-widgets/base",
            "_view_module_version": "1.2.0",
            "_view_name": "StyleView",
            "description_width": ""
          }
        },
        "8457bc55cc5c481cade496367da5b68b": {
          "model_module": "@jupyter-widgets/base",
          "model_name": "LayoutModel",
          "model_module_version": "1.2.0",
          "state": {
            "_model_module": "@jupyter-widgets/base",
            "_model_module_version": "1.2.0",
            "_model_name": "LayoutModel",
            "_view_count": null,
            "_view_module": "@jupyter-widgets/base",
            "_view_module_version": "1.2.0",
            "_view_name": "LayoutView",
            "align_content": null,
            "align_items": null,
            "align_self": null,
            "border": null,
            "bottom": null,
            "display": null,
            "flex": null,
            "flex_flow": null,
            "grid_area": null,
            "grid_auto_columns": null,
            "grid_auto_flow": null,
            "grid_auto_rows": null,
            "grid_column": null,
            "grid_gap": null,
            "grid_row": null,
            "grid_template_areas": null,
            "grid_template_columns": null,
            "grid_template_rows": null,
            "height": null,
            "justify_content": null,
            "justify_items": null,
            "left": null,
            "margin": null,
            "max_height": null,
            "max_width": null,
            "min_height": null,
            "min_width": null,
            "object_fit": null,
            "object_position": null,
            "order": null,
            "overflow": null,
            "overflow_x": null,
            "overflow_y": null,
            "padding": null,
            "right": null,
            "top": null,
            "visibility": null,
            "width": "20px"
          }
        },
        "a466807985ae435da517003390480cb7": {
          "model_module": "@jupyter-widgets/controls",
          "model_name": "ProgressStyleModel",
          "model_module_version": "1.5.0",
          "state": {
            "_model_module": "@jupyter-widgets/controls",
            "_model_module_version": "1.5.0",
            "_model_name": "ProgressStyleModel",
            "_view_count": null,
            "_view_module": "@jupyter-widgets/base",
            "_view_module_version": "1.2.0",
            "_view_name": "StyleView",
            "bar_color": null,
            "description_width": ""
          }
        },
        "120ed6b28424472a8574df83b3610074": {
          "model_module": "@jupyter-widgets/base",
          "model_name": "LayoutModel",
          "model_module_version": "1.2.0",
          "state": {
            "_model_module": "@jupyter-widgets/base",
            "_model_module_version": "1.2.0",
            "_model_name": "LayoutModel",
            "_view_count": null,
            "_view_module": "@jupyter-widgets/base",
            "_view_module_version": "1.2.0",
            "_view_name": "LayoutView",
            "align_content": null,
            "align_items": null,
            "align_self": null,
            "border": null,
            "bottom": null,
            "display": null,
            "flex": null,
            "flex_flow": null,
            "grid_area": null,
            "grid_auto_columns": null,
            "grid_auto_flow": null,
            "grid_auto_rows": null,
            "grid_column": null,
            "grid_gap": null,
            "grid_row": null,
            "grid_template_areas": null,
            "grid_template_columns": null,
            "grid_template_rows": null,
            "height": null,
            "justify_content": null,
            "justify_items": null,
            "left": null,
            "margin": null,
            "max_height": null,
            "max_width": null,
            "min_height": null,
            "min_width": null,
            "object_fit": null,
            "object_position": null,
            "order": null,
            "overflow": null,
            "overflow_x": null,
            "overflow_y": null,
            "padding": null,
            "right": null,
            "top": null,
            "visibility": null,
            "width": null
          }
        },
        "8440395da095462096e58ba60844744b": {
          "model_module": "@jupyter-widgets/controls",
          "model_name": "DescriptionStyleModel",
          "model_module_version": "1.5.0",
          "state": {
            "_model_module": "@jupyter-widgets/controls",
            "_model_module_version": "1.5.0",
            "_model_name": "DescriptionStyleModel",
            "_view_count": null,
            "_view_module": "@jupyter-widgets/base",
            "_view_module_version": "1.2.0",
            "_view_name": "StyleView",
            "description_width": ""
          }
        },
        "fc50057086c7455bb7615836c898a9ec": {
          "model_module": "@jupyter-widgets/controls",
          "model_name": "HBoxModel",
          "model_module_version": "1.5.0",
          "state": {
            "_dom_classes": [],
            "_model_module": "@jupyter-widgets/controls",
            "_model_module_version": "1.5.0",
            "_model_name": "HBoxModel",
            "_view_count": null,
            "_view_module": "@jupyter-widgets/controls",
            "_view_module_version": "1.5.0",
            "_view_name": "HBoxView",
            "box_style": "",
            "children": [
              "IPY_MODEL_48ec04a748eb434a911a3f4864f6e94c",
              "IPY_MODEL_6b166de458a441e39c7c2bbb559782bf",
              "IPY_MODEL_daee00ebf12446bf96a3a1181ba201ac"
            ],
            "layout": "IPY_MODEL_e477405085b24e41aaac47ff163b89ba"
          }
        },
        "48ec04a748eb434a911a3f4864f6e94c": {
          "model_module": "@jupyter-widgets/controls",
          "model_name": "HTMLModel",
          "model_module_version": "1.5.0",
          "state": {
            "_dom_classes": [],
            "_model_module": "@jupyter-widgets/controls",
            "_model_module_version": "1.5.0",
            "_model_name": "HTMLModel",
            "_view_count": null,
            "_view_module": "@jupyter-widgets/controls",
            "_view_module_version": "1.5.0",
            "_view_name": "HTMLView",
            "description": "",
            "description_tooltip": null,
            "layout": "IPY_MODEL_7217b696a1684957b9d6e259775a0215",
            "placeholder": "​",
            "style": "IPY_MODEL_99b71cf98290489ea31a90614006aa19",
            "value": "100%"
          }
        },
        "6b166de458a441e39c7c2bbb559782bf": {
          "model_module": "@jupyter-widgets/controls",
          "model_name": "FloatProgressModel",
          "model_module_version": "1.5.0",
          "state": {
            "_dom_classes": [],
            "_model_module": "@jupyter-widgets/controls",
            "_model_module_version": "1.5.0",
            "_model_name": "FloatProgressModel",
            "_view_count": null,
            "_view_module": "@jupyter-widgets/controls",
            "_view_module_version": "1.5.0",
            "_view_name": "ProgressView",
            "bar_style": "danger",
            "description": "",
            "description_tooltip": null,
            "layout": "IPY_MODEL_b6aec73ebfa54e0bab2f15c21447bd34",
            "max": 120000,
            "min": 0,
            "orientation": "horizontal",
            "style": "IPY_MODEL_4e7ef3b33adc40acbb38351225da86ce",
            "value": 119999
          }
        },
        "daee00ebf12446bf96a3a1181ba201ac": {
          "model_module": "@jupyter-widgets/controls",
          "model_name": "HTMLModel",
          "model_module_version": "1.5.0",
          "state": {
            "_dom_classes": [],
            "_model_module": "@jupyter-widgets/controls",
            "_model_module_version": "1.5.0",
            "_model_name": "HTMLModel",
            "_view_count": null,
            "_view_module": "@jupyter-widgets/controls",
            "_view_module_version": "1.5.0",
            "_view_name": "HTMLView",
            "description": "",
            "description_tooltip": null,
            "layout": "IPY_MODEL_a6184c389e844464a698ee25982e4d00",
            "placeholder": "​",
            "style": "IPY_MODEL_5498491f2c664c849543d68c7c138ad6",
            "value": " 119999/120000 [00:00&lt;00:00, 280802.74 examples/s]"
          }
        },
        "e477405085b24e41aaac47ff163b89ba": {
          "model_module": "@jupyter-widgets/base",
          "model_name": "LayoutModel",
          "model_module_version": "1.2.0",
          "state": {
            "_model_module": "@jupyter-widgets/base",
            "_model_module_version": "1.2.0",
            "_model_name": "LayoutModel",
            "_view_count": null,
            "_view_module": "@jupyter-widgets/base",
            "_view_module_version": "1.2.0",
            "_view_name": "LayoutView",
            "align_content": null,
            "align_items": null,
            "align_self": null,
            "border": null,
            "bottom": null,
            "display": null,
            "flex": null,
            "flex_flow": null,
            "grid_area": null,
            "grid_auto_columns": null,
            "grid_auto_flow": null,
            "grid_auto_rows": null,
            "grid_column": null,
            "grid_gap": null,
            "grid_row": null,
            "grid_template_areas": null,
            "grid_template_columns": null,
            "grid_template_rows": null,
            "height": null,
            "justify_content": null,
            "justify_items": null,
            "left": null,
            "margin": null,
            "max_height": null,
            "max_width": null,
            "min_height": null,
            "min_width": null,
            "object_fit": null,
            "object_position": null,
            "order": null,
            "overflow": null,
            "overflow_x": null,
            "overflow_y": null,
            "padding": null,
            "right": null,
            "top": null,
            "visibility": null,
            "width": null
          }
        },
        "7217b696a1684957b9d6e259775a0215": {
          "model_module": "@jupyter-widgets/base",
          "model_name": "LayoutModel",
          "model_module_version": "1.2.0",
          "state": {
            "_model_module": "@jupyter-widgets/base",
            "_model_module_version": "1.2.0",
            "_model_name": "LayoutModel",
            "_view_count": null,
            "_view_module": "@jupyter-widgets/base",
            "_view_module_version": "1.2.0",
            "_view_name": "LayoutView",
            "align_content": null,
            "align_items": null,
            "align_self": null,
            "border": null,
            "bottom": null,
            "display": null,
            "flex": null,
            "flex_flow": null,
            "grid_area": null,
            "grid_auto_columns": null,
            "grid_auto_flow": null,
            "grid_auto_rows": null,
            "grid_column": null,
            "grid_gap": null,
            "grid_row": null,
            "grid_template_areas": null,
            "grid_template_columns": null,
            "grid_template_rows": null,
            "height": null,
            "justify_content": null,
            "justify_items": null,
            "left": null,
            "margin": null,
            "max_height": null,
            "max_width": null,
            "min_height": null,
            "min_width": null,
            "object_fit": null,
            "object_position": null,
            "order": null,
            "overflow": null,
            "overflow_x": null,
            "overflow_y": null,
            "padding": null,
            "right": null,
            "top": null,
            "visibility": null,
            "width": null
          }
        },
        "99b71cf98290489ea31a90614006aa19": {
          "model_module": "@jupyter-widgets/controls",
          "model_name": "DescriptionStyleModel",
          "model_module_version": "1.5.0",
          "state": {
            "_model_module": "@jupyter-widgets/controls",
            "_model_module_version": "1.5.0",
            "_model_name": "DescriptionStyleModel",
            "_view_count": null,
            "_view_module": "@jupyter-widgets/base",
            "_view_module_version": "1.2.0",
            "_view_name": "StyleView",
            "description_width": ""
          }
        },
        "b6aec73ebfa54e0bab2f15c21447bd34": {
          "model_module": "@jupyter-widgets/base",
          "model_name": "LayoutModel",
          "model_module_version": "1.2.0",
          "state": {
            "_model_module": "@jupyter-widgets/base",
            "_model_module_version": "1.2.0",
            "_model_name": "LayoutModel",
            "_view_count": null,
            "_view_module": "@jupyter-widgets/base",
            "_view_module_version": "1.2.0",
            "_view_name": "LayoutView",
            "align_content": null,
            "align_items": null,
            "align_self": null,
            "border": null,
            "bottom": null,
            "display": null,
            "flex": null,
            "flex_flow": null,
            "grid_area": null,
            "grid_auto_columns": null,
            "grid_auto_flow": null,
            "grid_auto_rows": null,
            "grid_column": null,
            "grid_gap": null,
            "grid_row": null,
            "grid_template_areas": null,
            "grid_template_columns": null,
            "grid_template_rows": null,
            "height": null,
            "justify_content": null,
            "justify_items": null,
            "left": null,
            "margin": null,
            "max_height": null,
            "max_width": null,
            "min_height": null,
            "min_width": null,
            "object_fit": null,
            "object_position": null,
            "order": null,
            "overflow": null,
            "overflow_x": null,
            "overflow_y": null,
            "padding": null,
            "right": null,
            "top": null,
            "visibility": null,
            "width": null
          }
        },
        "4e7ef3b33adc40acbb38351225da86ce": {
          "model_module": "@jupyter-widgets/controls",
          "model_name": "ProgressStyleModel",
          "model_module_version": "1.5.0",
          "state": {
            "_model_module": "@jupyter-widgets/controls",
            "_model_module_version": "1.5.0",
            "_model_name": "ProgressStyleModel",
            "_view_count": null,
            "_view_module": "@jupyter-widgets/base",
            "_view_module_version": "1.2.0",
            "_view_name": "StyleView",
            "bar_color": null,
            "description_width": ""
          }
        },
        "a6184c389e844464a698ee25982e4d00": {
          "model_module": "@jupyter-widgets/base",
          "model_name": "LayoutModel",
          "model_module_version": "1.2.0",
          "state": {
            "_model_module": "@jupyter-widgets/base",
            "_model_module_version": "1.2.0",
            "_model_name": "LayoutModel",
            "_view_count": null,
            "_view_module": "@jupyter-widgets/base",
            "_view_module_version": "1.2.0",
            "_view_name": "LayoutView",
            "align_content": null,
            "align_items": null,
            "align_self": null,
            "border": null,
            "bottom": null,
            "display": null,
            "flex": null,
            "flex_flow": null,
            "grid_area": null,
            "grid_auto_columns": null,
            "grid_auto_flow": null,
            "grid_auto_rows": null,
            "grid_column": null,
            "grid_gap": null,
            "grid_row": null,
            "grid_template_areas": null,
            "grid_template_columns": null,
            "grid_template_rows": null,
            "height": null,
            "justify_content": null,
            "justify_items": null,
            "left": null,
            "margin": null,
            "max_height": null,
            "max_width": null,
            "min_height": null,
            "min_width": null,
            "object_fit": null,
            "object_position": null,
            "order": null,
            "overflow": null,
            "overflow_x": null,
            "overflow_y": null,
            "padding": null,
            "right": null,
            "top": null,
            "visibility": null,
            "width": null
          }
        },
        "5498491f2c664c849543d68c7c138ad6": {
          "model_module": "@jupyter-widgets/controls",
          "model_name": "DescriptionStyleModel",
          "model_module_version": "1.5.0",
          "state": {
            "_model_module": "@jupyter-widgets/controls",
            "_model_module_version": "1.5.0",
            "_model_name": "DescriptionStyleModel",
            "_view_count": null,
            "_view_module": "@jupyter-widgets/base",
            "_view_module_version": "1.2.0",
            "_view_name": "StyleView",
            "description_width": ""
          }
        },
        "f2c50128e0af4e3aa76584ff2d834b06": {
          "model_module": "@jupyter-widgets/controls",
          "model_name": "HBoxModel",
          "model_module_version": "1.5.0",
          "state": {
            "_dom_classes": [],
            "_model_module": "@jupyter-widgets/controls",
            "_model_module_version": "1.5.0",
            "_model_name": "HBoxModel",
            "_view_count": null,
            "_view_module": "@jupyter-widgets/controls",
            "_view_module_version": "1.5.0",
            "_view_name": "HBoxView",
            "box_style": "",
            "children": [
              "IPY_MODEL_0b6c0a5a33884ca6a551bb3d9175412a",
              "IPY_MODEL_bf29c9818e644ae2854e8c10deeebfc5",
              "IPY_MODEL_2c370d89b7bd433088bb9af816ea32e3"
            ],
            "layout": "IPY_MODEL_060915e9c35f46e0b80a06485c33e591"
          }
        },
        "0b6c0a5a33884ca6a551bb3d9175412a": {
          "model_module": "@jupyter-widgets/controls",
          "model_name": "HTMLModel",
          "model_module_version": "1.5.0",
          "state": {
            "_dom_classes": [],
            "_model_module": "@jupyter-widgets/controls",
            "_model_module_version": "1.5.0",
            "_model_name": "HTMLModel",
            "_view_count": null,
            "_view_module": "@jupyter-widgets/controls",
            "_view_module_version": "1.5.0",
            "_view_name": "HTMLView",
            "description": "",
            "description_tooltip": null,
            "layout": "IPY_MODEL_b0853464d7934aaca94a5ed535351a86",
            "placeholder": "​",
            "style": "IPY_MODEL_c4ec75fa7ac74300aca329e1a645e4b9",
            "value": ""
          }
        },
        "bf29c9818e644ae2854e8c10deeebfc5": {
          "model_module": "@jupyter-widgets/controls",
          "model_name": "FloatProgressModel",
          "model_module_version": "1.5.0",
          "state": {
            "_dom_classes": [],
            "_model_module": "@jupyter-widgets/controls",
            "_model_module_version": "1.5.0",
            "_model_name": "FloatProgressModel",
            "_view_count": null,
            "_view_module": "@jupyter-widgets/controls",
            "_view_module_version": "1.5.0",
            "_view_name": "ProgressView",
            "bar_style": "info",
            "description": "",
            "description_tooltip": null,
            "layout": "IPY_MODEL_d7c4a7e59896452aaab35209eebec733",
            "max": 1,
            "min": 0,
            "orientation": "horizontal",
            "style": "IPY_MODEL_705f0cb970214bcd8326a2a4bbaf6108",
            "value": 1
          }
        },
        "2c370d89b7bd433088bb9af816ea32e3": {
          "model_module": "@jupyter-widgets/controls",
          "model_name": "HTMLModel",
          "model_module_version": "1.5.0",
          "state": {
            "_dom_classes": [],
            "_model_module": "@jupyter-widgets/controls",
            "_model_module_version": "1.5.0",
            "_model_name": "HTMLModel",
            "_view_count": null,
            "_view_module": "@jupyter-widgets/controls",
            "_view_module_version": "1.5.0",
            "_view_name": "HTMLView",
            "description": "",
            "description_tooltip": null,
            "layout": "IPY_MODEL_7dafa3ac796547ada826f1abebc809c8",
            "placeholder": "​",
            "style": "IPY_MODEL_32d7c6cdd3384dbd997a928c132599d8",
            "value": " 7409/0 [00:01&lt;00:00, 4140.70 examples/s]"
          }
        },
        "060915e9c35f46e0b80a06485c33e591": {
          "model_module": "@jupyter-widgets/base",
          "model_name": "LayoutModel",
          "model_module_version": "1.2.0",
          "state": {
            "_model_module": "@jupyter-widgets/base",
            "_model_module_version": "1.2.0",
            "_model_name": "LayoutModel",
            "_view_count": null,
            "_view_module": "@jupyter-widgets/base",
            "_view_module_version": "1.2.0",
            "_view_name": "LayoutView",
            "align_content": null,
            "align_items": null,
            "align_self": null,
            "border": null,
            "bottom": null,
            "display": null,
            "flex": null,
            "flex_flow": null,
            "grid_area": null,
            "grid_auto_columns": null,
            "grid_auto_flow": null,
            "grid_auto_rows": null,
            "grid_column": null,
            "grid_gap": null,
            "grid_row": null,
            "grid_template_areas": null,
            "grid_template_columns": null,
            "grid_template_rows": null,
            "height": null,
            "justify_content": null,
            "justify_items": null,
            "left": null,
            "margin": null,
            "max_height": null,
            "max_width": null,
            "min_height": null,
            "min_width": null,
            "object_fit": null,
            "object_position": null,
            "order": null,
            "overflow": null,
            "overflow_x": null,
            "overflow_y": null,
            "padding": null,
            "right": null,
            "top": null,
            "visibility": null,
            "width": null
          }
        },
        "b0853464d7934aaca94a5ed535351a86": {
          "model_module": "@jupyter-widgets/base",
          "model_name": "LayoutModel",
          "model_module_version": "1.2.0",
          "state": {
            "_model_module": "@jupyter-widgets/base",
            "_model_module_version": "1.2.0",
            "_model_name": "LayoutModel",
            "_view_count": null,
            "_view_module": "@jupyter-widgets/base",
            "_view_module_version": "1.2.0",
            "_view_name": "LayoutView",
            "align_content": null,
            "align_items": null,
            "align_self": null,
            "border": null,
            "bottom": null,
            "display": null,
            "flex": null,
            "flex_flow": null,
            "grid_area": null,
            "grid_auto_columns": null,
            "grid_auto_flow": null,
            "grid_auto_rows": null,
            "grid_column": null,
            "grid_gap": null,
            "grid_row": null,
            "grid_template_areas": null,
            "grid_template_columns": null,
            "grid_template_rows": null,
            "height": null,
            "justify_content": null,
            "justify_items": null,
            "left": null,
            "margin": null,
            "max_height": null,
            "max_width": null,
            "min_height": null,
            "min_width": null,
            "object_fit": null,
            "object_position": null,
            "order": null,
            "overflow": null,
            "overflow_x": null,
            "overflow_y": null,
            "padding": null,
            "right": null,
            "top": null,
            "visibility": null,
            "width": null
          }
        },
        "c4ec75fa7ac74300aca329e1a645e4b9": {
          "model_module": "@jupyter-widgets/controls",
          "model_name": "DescriptionStyleModel",
          "model_module_version": "1.5.0",
          "state": {
            "_model_module": "@jupyter-widgets/controls",
            "_model_module_version": "1.5.0",
            "_model_name": "DescriptionStyleModel",
            "_view_count": null,
            "_view_module": "@jupyter-widgets/base",
            "_view_module_version": "1.2.0",
            "_view_name": "StyleView",
            "description_width": ""
          }
        },
        "d7c4a7e59896452aaab35209eebec733": {
          "model_module": "@jupyter-widgets/base",
          "model_name": "LayoutModel",
          "model_module_version": "1.2.0",
          "state": {
            "_model_module": "@jupyter-widgets/base",
            "_model_module_version": "1.2.0",
            "_model_name": "LayoutModel",
            "_view_count": null,
            "_view_module": "@jupyter-widgets/base",
            "_view_module_version": "1.2.0",
            "_view_name": "LayoutView",
            "align_content": null,
            "align_items": null,
            "align_self": null,
            "border": null,
            "bottom": null,
            "display": null,
            "flex": null,
            "flex_flow": null,
            "grid_area": null,
            "grid_auto_columns": null,
            "grid_auto_flow": null,
            "grid_auto_rows": null,
            "grid_column": null,
            "grid_gap": null,
            "grid_row": null,
            "grid_template_areas": null,
            "grid_template_columns": null,
            "grid_template_rows": null,
            "height": null,
            "justify_content": null,
            "justify_items": null,
            "left": null,
            "margin": null,
            "max_height": null,
            "max_width": null,
            "min_height": null,
            "min_width": null,
            "object_fit": null,
            "object_position": null,
            "order": null,
            "overflow": null,
            "overflow_x": null,
            "overflow_y": null,
            "padding": null,
            "right": null,
            "top": null,
            "visibility": null,
            "width": "20px"
          }
        },
        "705f0cb970214bcd8326a2a4bbaf6108": {
          "model_module": "@jupyter-widgets/controls",
          "model_name": "ProgressStyleModel",
          "model_module_version": "1.5.0",
          "state": {
            "_model_module": "@jupyter-widgets/controls",
            "_model_module_version": "1.5.0",
            "_model_name": "ProgressStyleModel",
            "_view_count": null,
            "_view_module": "@jupyter-widgets/base",
            "_view_module_version": "1.2.0",
            "_view_name": "StyleView",
            "bar_color": null,
            "description_width": ""
          }
        },
        "7dafa3ac796547ada826f1abebc809c8": {
          "model_module": "@jupyter-widgets/base",
          "model_name": "LayoutModel",
          "model_module_version": "1.2.0",
          "state": {
            "_model_module": "@jupyter-widgets/base",
            "_model_module_version": "1.2.0",
            "_model_name": "LayoutModel",
            "_view_count": null,
            "_view_module": "@jupyter-widgets/base",
            "_view_module_version": "1.2.0",
            "_view_name": "LayoutView",
            "align_content": null,
            "align_items": null,
            "align_self": null,
            "border": null,
            "bottom": null,
            "display": null,
            "flex": null,
            "flex_flow": null,
            "grid_area": null,
            "grid_auto_columns": null,
            "grid_auto_flow": null,
            "grid_auto_rows": null,
            "grid_column": null,
            "grid_gap": null,
            "grid_row": null,
            "grid_template_areas": null,
            "grid_template_columns": null,
            "grid_template_rows": null,
            "height": null,
            "justify_content": null,
            "justify_items": null,
            "left": null,
            "margin": null,
            "max_height": null,
            "max_width": null,
            "min_height": null,
            "min_width": null,
            "object_fit": null,
            "object_position": null,
            "order": null,
            "overflow": null,
            "overflow_x": null,
            "overflow_y": null,
            "padding": null,
            "right": null,
            "top": null,
            "visibility": null,
            "width": null
          }
        },
        "32d7c6cdd3384dbd997a928c132599d8": {
          "model_module": "@jupyter-widgets/controls",
          "model_name": "DescriptionStyleModel",
          "model_module_version": "1.5.0",
          "state": {
            "_model_module": "@jupyter-widgets/controls",
            "_model_module_version": "1.5.0",
            "_model_name": "DescriptionStyleModel",
            "_view_count": null,
            "_view_module": "@jupyter-widgets/base",
            "_view_module_version": "1.2.0",
            "_view_name": "StyleView",
            "description_width": ""
          }
        },
        "9cbb68750e22406faf3800e1512098ac": {
          "model_module": "@jupyter-widgets/controls",
          "model_name": "HBoxModel",
          "model_module_version": "1.5.0",
          "state": {
            "_dom_classes": [],
            "_model_module": "@jupyter-widgets/controls",
            "_model_module_version": "1.5.0",
            "_model_name": "HBoxModel",
            "_view_count": null,
            "_view_module": "@jupyter-widgets/controls",
            "_view_module_version": "1.5.0",
            "_view_name": "HBoxView",
            "box_style": "",
            "children": [
              "IPY_MODEL_3495478f8c3f44d6846d256a13f3b274",
              "IPY_MODEL_dfaa6b7ae875497c80a1ee121197517f",
              "IPY_MODEL_ec7c48fc4da3474bae008fcdc35cc4ac"
            ],
            "layout": "IPY_MODEL_6467866a344e4cc780dc99f5a155955e"
          }
        },
        "3495478f8c3f44d6846d256a13f3b274": {
          "model_module": "@jupyter-widgets/controls",
          "model_name": "HTMLModel",
          "model_module_version": "1.5.0",
          "state": {
            "_dom_classes": [],
            "_model_module": "@jupyter-widgets/controls",
            "_model_module_version": "1.5.0",
            "_model_name": "HTMLModel",
            "_view_count": null,
            "_view_module": "@jupyter-widgets/controls",
            "_view_module_version": "1.5.0",
            "_view_name": "HTMLView",
            "description": "",
            "description_tooltip": null,
            "layout": "IPY_MODEL_fda2da1884ce46fd99067fa6f1f6cbf3",
            "placeholder": "​",
            "style": "IPY_MODEL_7c14d2417c714665b9a0e654ecbfbd19",
            "value": "100%"
          }
        },
        "dfaa6b7ae875497c80a1ee121197517f": {
          "model_module": "@jupyter-widgets/controls",
          "model_name": "FloatProgressModel",
          "model_module_version": "1.5.0",
          "state": {
            "_dom_classes": [],
            "_model_module": "@jupyter-widgets/controls",
            "_model_module_version": "1.5.0",
            "_model_name": "FloatProgressModel",
            "_view_count": null,
            "_view_module": "@jupyter-widgets/controls",
            "_view_module_version": "1.5.0",
            "_view_name": "ProgressView",
            "bar_style": "danger",
            "description": "",
            "description_tooltip": null,
            "layout": "IPY_MODEL_32c33cb3e9f5477d952bb76c84afc379",
            "max": 7600,
            "min": 0,
            "orientation": "horizontal",
            "style": "IPY_MODEL_375b773f32fc453ba7f2a65250ced7aa",
            "value": 7599
          }
        },
        "ec7c48fc4da3474bae008fcdc35cc4ac": {
          "model_module": "@jupyter-widgets/controls",
          "model_name": "HTMLModel",
          "model_module_version": "1.5.0",
          "state": {
            "_dom_classes": [],
            "_model_module": "@jupyter-widgets/controls",
            "_model_module_version": "1.5.0",
            "_model_name": "HTMLModel",
            "_view_count": null,
            "_view_module": "@jupyter-widgets/controls",
            "_view_module_version": "1.5.0",
            "_view_name": "HTMLView",
            "description": "",
            "description_tooltip": null,
            "layout": "IPY_MODEL_64de9d0e7d474b96a2fa9951b68320c5",
            "placeholder": "​",
            "style": "IPY_MODEL_1390f0d16d62474681f4ad6b87f3dd33",
            "value": " 7599/7600 [00:00&lt;00:00, 87164.83 examples/s]"
          }
        },
        "6467866a344e4cc780dc99f5a155955e": {
          "model_module": "@jupyter-widgets/base",
          "model_name": "LayoutModel",
          "model_module_version": "1.2.0",
          "state": {
            "_model_module": "@jupyter-widgets/base",
            "_model_module_version": "1.2.0",
            "_model_name": "LayoutModel",
            "_view_count": null,
            "_view_module": "@jupyter-widgets/base",
            "_view_module_version": "1.2.0",
            "_view_name": "LayoutView",
            "align_content": null,
            "align_items": null,
            "align_self": null,
            "border": null,
            "bottom": null,
            "display": null,
            "flex": null,
            "flex_flow": null,
            "grid_area": null,
            "grid_auto_columns": null,
            "grid_auto_flow": null,
            "grid_auto_rows": null,
            "grid_column": null,
            "grid_gap": null,
            "grid_row": null,
            "grid_template_areas": null,
            "grid_template_columns": null,
            "grid_template_rows": null,
            "height": null,
            "justify_content": null,
            "justify_items": null,
            "left": null,
            "margin": null,
            "max_height": null,
            "max_width": null,
            "min_height": null,
            "min_width": null,
            "object_fit": null,
            "object_position": null,
            "order": null,
            "overflow": null,
            "overflow_x": null,
            "overflow_y": null,
            "padding": null,
            "right": null,
            "top": null,
            "visibility": null,
            "width": null
          }
        },
        "fda2da1884ce46fd99067fa6f1f6cbf3": {
          "model_module": "@jupyter-widgets/base",
          "model_name": "LayoutModel",
          "model_module_version": "1.2.0",
          "state": {
            "_model_module": "@jupyter-widgets/base",
            "_model_module_version": "1.2.0",
            "_model_name": "LayoutModel",
            "_view_count": null,
            "_view_module": "@jupyter-widgets/base",
            "_view_module_version": "1.2.0",
            "_view_name": "LayoutView",
            "align_content": null,
            "align_items": null,
            "align_self": null,
            "border": null,
            "bottom": null,
            "display": null,
            "flex": null,
            "flex_flow": null,
            "grid_area": null,
            "grid_auto_columns": null,
            "grid_auto_flow": null,
            "grid_auto_rows": null,
            "grid_column": null,
            "grid_gap": null,
            "grid_row": null,
            "grid_template_areas": null,
            "grid_template_columns": null,
            "grid_template_rows": null,
            "height": null,
            "justify_content": null,
            "justify_items": null,
            "left": null,
            "margin": null,
            "max_height": null,
            "max_width": null,
            "min_height": null,
            "min_width": null,
            "object_fit": null,
            "object_position": null,
            "order": null,
            "overflow": null,
            "overflow_x": null,
            "overflow_y": null,
            "padding": null,
            "right": null,
            "top": null,
            "visibility": null,
            "width": null
          }
        },
        "7c14d2417c714665b9a0e654ecbfbd19": {
          "model_module": "@jupyter-widgets/controls",
          "model_name": "DescriptionStyleModel",
          "model_module_version": "1.5.0",
          "state": {
            "_model_module": "@jupyter-widgets/controls",
            "_model_module_version": "1.5.0",
            "_model_name": "DescriptionStyleModel",
            "_view_count": null,
            "_view_module": "@jupyter-widgets/base",
            "_view_module_version": "1.2.0",
            "_view_name": "StyleView",
            "description_width": ""
          }
        },
        "32c33cb3e9f5477d952bb76c84afc379": {
          "model_module": "@jupyter-widgets/base",
          "model_name": "LayoutModel",
          "model_module_version": "1.2.0",
          "state": {
            "_model_module": "@jupyter-widgets/base",
            "_model_module_version": "1.2.0",
            "_model_name": "LayoutModel",
            "_view_count": null,
            "_view_module": "@jupyter-widgets/base",
            "_view_module_version": "1.2.0",
            "_view_name": "LayoutView",
            "align_content": null,
            "align_items": null,
            "align_self": null,
            "border": null,
            "bottom": null,
            "display": null,
            "flex": null,
            "flex_flow": null,
            "grid_area": null,
            "grid_auto_columns": null,
            "grid_auto_flow": null,
            "grid_auto_rows": null,
            "grid_column": null,
            "grid_gap": null,
            "grid_row": null,
            "grid_template_areas": null,
            "grid_template_columns": null,
            "grid_template_rows": null,
            "height": null,
            "justify_content": null,
            "justify_items": null,
            "left": null,
            "margin": null,
            "max_height": null,
            "max_width": null,
            "min_height": null,
            "min_width": null,
            "object_fit": null,
            "object_position": null,
            "order": null,
            "overflow": null,
            "overflow_x": null,
            "overflow_y": null,
            "padding": null,
            "right": null,
            "top": null,
            "visibility": null,
            "width": null
          }
        },
        "375b773f32fc453ba7f2a65250ced7aa": {
          "model_module": "@jupyter-widgets/controls",
          "model_name": "ProgressStyleModel",
          "model_module_version": "1.5.0",
          "state": {
            "_model_module": "@jupyter-widgets/controls",
            "_model_module_version": "1.5.0",
            "_model_name": "ProgressStyleModel",
            "_view_count": null,
            "_view_module": "@jupyter-widgets/base",
            "_view_module_version": "1.2.0",
            "_view_name": "StyleView",
            "bar_color": null,
            "description_width": ""
          }
        },
        "64de9d0e7d474b96a2fa9951b68320c5": {
          "model_module": "@jupyter-widgets/base",
          "model_name": "LayoutModel",
          "model_module_version": "1.2.0",
          "state": {
            "_model_module": "@jupyter-widgets/base",
            "_model_module_version": "1.2.0",
            "_model_name": "LayoutModel",
            "_view_count": null,
            "_view_module": "@jupyter-widgets/base",
            "_view_module_version": "1.2.0",
            "_view_name": "LayoutView",
            "align_content": null,
            "align_items": null,
            "align_self": null,
            "border": null,
            "bottom": null,
            "display": null,
            "flex": null,
            "flex_flow": null,
            "grid_area": null,
            "grid_auto_columns": null,
            "grid_auto_flow": null,
            "grid_auto_rows": null,
            "grid_column": null,
            "grid_gap": null,
            "grid_row": null,
            "grid_template_areas": null,
            "grid_template_columns": null,
            "grid_template_rows": null,
            "height": null,
            "justify_content": null,
            "justify_items": null,
            "left": null,
            "margin": null,
            "max_height": null,
            "max_width": null,
            "min_height": null,
            "min_width": null,
            "object_fit": null,
            "object_position": null,
            "order": null,
            "overflow": null,
            "overflow_x": null,
            "overflow_y": null,
            "padding": null,
            "right": null,
            "top": null,
            "visibility": null,
            "width": null
          }
        },
        "1390f0d16d62474681f4ad6b87f3dd33": {
          "model_module": "@jupyter-widgets/controls",
          "model_name": "DescriptionStyleModel",
          "model_module_version": "1.5.0",
          "state": {
            "_model_module": "@jupyter-widgets/controls",
            "_model_module_version": "1.5.0",
            "_model_name": "DescriptionStyleModel",
            "_view_count": null,
            "_view_module": "@jupyter-widgets/base",
            "_view_module_version": "1.2.0",
            "_view_name": "StyleView",
            "description_width": ""
          }
        }
      }
    }
  },
  "nbformat": 4,
  "nbformat_minor": 0
}